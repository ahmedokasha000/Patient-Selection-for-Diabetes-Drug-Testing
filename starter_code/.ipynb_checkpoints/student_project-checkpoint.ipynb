{
 "cells": [
  {
   "cell_type": "markdown",
   "metadata": {},
   "source": [
    "# Overview"
   ]
  },
  {
   "cell_type": "markdown",
   "metadata": {},
   "source": [
    "1. Project Instructions & Prerequisites\n",
    "2. Learning Objectives\n",
    "3. Data Preparation\n",
    "4. Create Categorical Features with TF Feature Columns\n",
    "5. Create Continuous/Numerical Features with TF Feature Columns\n",
    "6. Build Deep Learning Regression Model with Sequential API and TF Probability Layers\n",
    "7. Evaluating Potential Model Biases with Aequitas Toolkit\n"
   ]
  },
  {
   "cell_type": "markdown",
   "metadata": {},
   "source": [
    "#  1. Project Instructions & Prerequisites"
   ]
  },
  {
   "cell_type": "markdown",
   "metadata": {},
   "source": [
    "## Project Instructions"
   ]
  },
  {
   "cell_type": "markdown",
   "metadata": {},
   "source": [
    "**Context**: You are a data scientist for an exciting unicorn healthcare startup that has created a groundbreaking diabetes drug that is ready for clinical trial testing. It is a very unique and sensitive drug that requires administering the drug over at least 5-7 days of time in the hospital with frequent monitoring/testing and patient medication adherence training with a mobile application. You have been provided a patient dataset from a client partner and are tasked with building a predictive model that can identify which type of patients the company should focus their efforts testing this drug on. Target patients are people that are likely to be in the hospital for this duration of time and will not incur significant additional costs for administering this drug to the patient and monitoring.  \n",
    "\n",
    "In order to achieve your goal you must build a regression model that can predict the estimated hospitalization time for a patient and use this to select/filter patients for your study.\n"
   ]
  },
  {
   "cell_type": "markdown",
   "metadata": {},
   "source": [
    "**Expected Hospitalization Time Regression Model:** Utilizing a synthetic dataset(denormalized at the line level augmentation) built off of the UCI Diabetes readmission dataset, students will build a regression model that predicts the expected days of hospitalization time and then convert this to a binary prediction of whether to include or exclude that patient from the clinical trial.\n",
    "\n",
    "This project will demonstrate the importance of building the right data representation at the encounter level, with appropriate filtering and preprocessing/feature engineering of key medical code sets. This project will also require students to analyze and interpret their model for biases across key demographic groups. \n",
    "\n",
    "Please see the project rubric online for more details on the areas your project will be evaluated."
   ]
  },
  {
   "cell_type": "markdown",
   "metadata": {},
   "source": [
    "### Dataset"
   ]
  },
  {
   "cell_type": "markdown",
   "metadata": {},
   "source": [
    "Due to healthcare PHI regulations (HIPAA, HITECH), there are limited number of publicly available datasets and some datasets require training and approval. So, for the purpose of this exercise, we are using a dataset from UC Irvine(https://archive.ics.uci.edu/ml/datasets/Diabetes+130-US+hospitals+for+years+1999-2008) that has been modified for this course. Please note that it is limited in its representation of some key features such as diagnosis codes which are usually an unordered list in 835s/837s (the HL7 standard interchange formats used for claims and remits)."
   ]
  },
  {
   "cell_type": "markdown",
   "metadata": {},
   "source": [
    "**Data Schema**\n",
    "The dataset reference information can be https://github.com/udacity/nd320-c1-emr-data-starter/tree/master/data_schema_references/. There are two CSVs that provide more details on the fields and some of the mapped values."
   ]
  },
  {
   "cell_type": "markdown",
   "metadata": {},
   "source": [
    "## Project Submission "
   ]
  },
  {
   "cell_type": "markdown",
   "metadata": {},
   "source": [
    "When submitting this project, make sure to run all the cells before saving the notebook. Save the notebook file as \"student_project_submission.ipynb\" and save another copy as an HTML file by clicking \"File\" -> \"Download as..\"->\"html\". Include the \"utils.py\" and \"student_utils.py\" files in your submission. The student_utils.py should be where you put most of your code that you write and the summary and text explanations should be written inline in the notebook. Once you download these files, compress them into one zip file for submission."
   ]
  },
  {
   "cell_type": "markdown",
   "metadata": {},
   "source": [
    "## Prerequisites "
   ]
  },
  {
   "cell_type": "markdown",
   "metadata": {},
   "source": [
    "- Intermediate level knowledge of Python\n",
    "- Basic knowledge of probability and statistics\n",
    "- Basic knowledge of machine learning concepts\n",
    "- Installation of Tensorflow 2.0 and other dependencies(conda environment.yml or virtualenv requirements.txt file provided)"
   ]
  },
  {
   "cell_type": "markdown",
   "metadata": {},
   "source": [
    "## Environment Setup"
   ]
  },
  {
   "cell_type": "markdown",
   "metadata": {},
   "source": [
    "For step by step instructions on creating your environment, please go to https://github.com/udacity/nd320-c1-emr-data-starter/blob/master/README.md."
   ]
  },
  {
   "cell_type": "markdown",
   "metadata": {},
   "source": [
    "# 2.  Learning Objectives"
   ]
  },
  {
   "cell_type": "markdown",
   "metadata": {},
   "source": [
    "By the end of the project, you will be able to \n",
    "   - Use the Tensorflow Dataset API to scalably extract, transform, and load datasets and build datasets aggregated at the line, encounter, and patient data levels(longitudinal)\n",
    "   - Analyze EHR datasets to check for common issues (data leakage, statistical properties, missing values, high cardinality) by performing exploratory data analysis.\n",
    "   - Create categorical features from Key Industry Code Sets (ICD, CPT, NDC) and reduce dimensionality for high cardinality features by using embeddings \n",
    "   - Create derived features(bucketing, cross-features, embeddings) utilizing Tensorflow feature columns on both continuous and categorical input features\n",
    "   - SWBAT use the Tensorflow Probability library to train a model that provides uncertainty range predictions that allow for risk adjustment/prioritization and triaging of predictions\n",
    "   - Analyze and determine biases for a model for key demographic groups by evaluating performance metrics across groups by using the Aequitas framework \n"
   ]
  },
  {
   "cell_type": "markdown",
   "metadata": {},
   "source": [
    "# 3. Data Preparation"
   ]
  },
  {
   "cell_type": "code",
   "execution_count": 153,
   "metadata": {},
   "outputs": [
    {
     "name": "stdout",
     "output_type": "stream",
     "text": [
      "The autoreload extension is already loaded. To reload it, use:\n",
      "  %reload_ext autoreload\n"
     ]
    }
   ],
   "source": [
    "# from __future__ import absolute_import, division, print_function, unicode_literals\n",
    "import os\n",
    "import numpy as np\n",
    "import tensorflow as tf\n",
    "from tensorflow.keras import layers\n",
    "import tensorflow_probability as tfp\n",
    "import matplotlib.pyplot as plt\n",
    "import pandas as pd\n",
    "import aequitas as ae\n",
    "#from tensorflow.data import DataVlidation\n",
    "# Put all of the helper functions in utils\n",
    "from utils import build_vocab_files, show_group_stats_viz, aggregate_dataset, preprocess_df, df_to_dataset, posterior_mean_field, prior_trainable\n",
    "pd.set_option('display.max_columns', 500)\n",
    "# this allows you to make changes and save in student_utils.py and the file is reloaded every time you run a code block\n",
    "%load_ext autoreload\n",
    "%autoreload"
   ]
  },
  {
   "cell_type": "code",
   "execution_count": 2,
   "metadata": {},
   "outputs": [],
   "source": [
    "#OPEN ISSUE ON MAC OSX for TF model training\n",
    "import os\n",
    "os.environ['KMP_DUPLICATE_LIB_OK']='True'"
   ]
  },
  {
   "cell_type": "markdown",
   "metadata": {},
   "source": [
    "## Dataset Loading and Schema Review"
   ]
  },
  {
   "cell_type": "markdown",
   "metadata": {},
   "source": [
    "Load the dataset and view a sample of the dataset along with reviewing the schema reference files to gain a deeper understanding of the dataset. The dataset is located at the following path https://github.com/udacity/nd320-c1-emr-data-starter/blob/master/project/starter_code/data/final_project_dataset.csv. Also, review the information found in the data schema https://github.com/udacity/nd320-c1-emr-data-starter/tree/master/project/data_schema_references/."
   ]
  },
  {
   "cell_type": "code",
   "execution_count": 3,
   "metadata": {},
   "outputs": [],
   "source": [
    "dataset_path = \"./data/final_project_dataset.csv\"\n",
    "df = pd.read_csv(dataset_path).replace([\"?\"],np.nan)"
   ]
  },
  {
   "cell_type": "code",
   "execution_count": 4,
   "metadata": {
    "scrolled": true
   },
   "outputs": [
    {
     "data": {
      "text/html": [
       "<div>\n",
       "<style scoped>\n",
       "    .dataframe tbody tr th:only-of-type {\n",
       "        vertical-align: middle;\n",
       "    }\n",
       "\n",
       "    .dataframe tbody tr th {\n",
       "        vertical-align: top;\n",
       "    }\n",
       "\n",
       "    .dataframe thead th {\n",
       "        text-align: right;\n",
       "    }\n",
       "</style>\n",
       "<table border=\"1\" class=\"dataframe\">\n",
       "  <thead>\n",
       "    <tr style=\"text-align: right;\">\n",
       "      <th></th>\n",
       "      <th>encounter_id</th>\n",
       "      <th>patient_nbr</th>\n",
       "      <th>race</th>\n",
       "      <th>gender</th>\n",
       "      <th>age</th>\n",
       "      <th>weight</th>\n",
       "      <th>admission_type_id</th>\n",
       "      <th>discharge_disposition_id</th>\n",
       "      <th>admission_source_id</th>\n",
       "      <th>time_in_hospital</th>\n",
       "      <th>payer_code</th>\n",
       "      <th>medical_specialty</th>\n",
       "      <th>primary_diagnosis_code</th>\n",
       "      <th>other_diagnosis_codes</th>\n",
       "      <th>number_outpatient</th>\n",
       "      <th>number_inpatient</th>\n",
       "      <th>number_emergency</th>\n",
       "      <th>num_lab_procedures</th>\n",
       "      <th>number_diagnoses</th>\n",
       "      <th>num_medications</th>\n",
       "      <th>num_procedures</th>\n",
       "      <th>ndc_code</th>\n",
       "      <th>max_glu_serum</th>\n",
       "      <th>A1Cresult</th>\n",
       "      <th>change</th>\n",
       "      <th>readmitted</th>\n",
       "    </tr>\n",
       "  </thead>\n",
       "  <tbody>\n",
       "    <tr>\n",
       "      <th>0</th>\n",
       "      <td>2278392</td>\n",
       "      <td>8222157</td>\n",
       "      <td>Caucasian</td>\n",
       "      <td>Female</td>\n",
       "      <td>[0-10)</td>\n",
       "      <td>NaN</td>\n",
       "      <td>6</td>\n",
       "      <td>25</td>\n",
       "      <td>1</td>\n",
       "      <td>1</td>\n",
       "      <td>NaN</td>\n",
       "      <td>Pediatrics-Endocrinology</td>\n",
       "      <td>250.83</td>\n",
       "      <td>?|?</td>\n",
       "      <td>0</td>\n",
       "      <td>0</td>\n",
       "      <td>0</td>\n",
       "      <td>41</td>\n",
       "      <td>1</td>\n",
       "      <td>1</td>\n",
       "      <td>0</td>\n",
       "      <td>NaN</td>\n",
       "      <td>None</td>\n",
       "      <td>None</td>\n",
       "      <td>No</td>\n",
       "      <td>NO</td>\n",
       "    </tr>\n",
       "    <tr>\n",
       "      <th>1</th>\n",
       "      <td>149190</td>\n",
       "      <td>55629189</td>\n",
       "      <td>Caucasian</td>\n",
       "      <td>Female</td>\n",
       "      <td>[10-20)</td>\n",
       "      <td>NaN</td>\n",
       "      <td>1</td>\n",
       "      <td>1</td>\n",
       "      <td>7</td>\n",
       "      <td>3</td>\n",
       "      <td>NaN</td>\n",
       "      <td>NaN</td>\n",
       "      <td>276</td>\n",
       "      <td>250.01|255</td>\n",
       "      <td>0</td>\n",
       "      <td>0</td>\n",
       "      <td>0</td>\n",
       "      <td>59</td>\n",
       "      <td>9</td>\n",
       "      <td>18</td>\n",
       "      <td>0</td>\n",
       "      <td>68071-1701</td>\n",
       "      <td>None</td>\n",
       "      <td>None</td>\n",
       "      <td>Ch</td>\n",
       "      <td>&gt;30</td>\n",
       "    </tr>\n",
       "    <tr>\n",
       "      <th>2</th>\n",
       "      <td>64410</td>\n",
       "      <td>86047875</td>\n",
       "      <td>AfricanAmerican</td>\n",
       "      <td>Female</td>\n",
       "      <td>[20-30)</td>\n",
       "      <td>NaN</td>\n",
       "      <td>1</td>\n",
       "      <td>1</td>\n",
       "      <td>7</td>\n",
       "      <td>2</td>\n",
       "      <td>NaN</td>\n",
       "      <td>NaN</td>\n",
       "      <td>648</td>\n",
       "      <td>250|V27</td>\n",
       "      <td>2</td>\n",
       "      <td>1</td>\n",
       "      <td>0</td>\n",
       "      <td>11</td>\n",
       "      <td>6</td>\n",
       "      <td>13</td>\n",
       "      <td>5</td>\n",
       "      <td>0378-1110</td>\n",
       "      <td>None</td>\n",
       "      <td>None</td>\n",
       "      <td>No</td>\n",
       "      <td>NO</td>\n",
       "    </tr>\n",
       "    <tr>\n",
       "      <th>3</th>\n",
       "      <td>500364</td>\n",
       "      <td>82442376</td>\n",
       "      <td>Caucasian</td>\n",
       "      <td>Male</td>\n",
       "      <td>[30-40)</td>\n",
       "      <td>NaN</td>\n",
       "      <td>1</td>\n",
       "      <td>1</td>\n",
       "      <td>7</td>\n",
       "      <td>2</td>\n",
       "      <td>NaN</td>\n",
       "      <td>NaN</td>\n",
       "      <td>8</td>\n",
       "      <td>250.43|403</td>\n",
       "      <td>0</td>\n",
       "      <td>0</td>\n",
       "      <td>0</td>\n",
       "      <td>44</td>\n",
       "      <td>7</td>\n",
       "      <td>16</td>\n",
       "      <td>1</td>\n",
       "      <td>68071-1701</td>\n",
       "      <td>None</td>\n",
       "      <td>None</td>\n",
       "      <td>Ch</td>\n",
       "      <td>NO</td>\n",
       "    </tr>\n",
       "    <tr>\n",
       "      <th>4</th>\n",
       "      <td>16680</td>\n",
       "      <td>42519267</td>\n",
       "      <td>Caucasian</td>\n",
       "      <td>Male</td>\n",
       "      <td>[40-50)</td>\n",
       "      <td>NaN</td>\n",
       "      <td>1</td>\n",
       "      <td>1</td>\n",
       "      <td>7</td>\n",
       "      <td>1</td>\n",
       "      <td>NaN</td>\n",
       "      <td>NaN</td>\n",
       "      <td>197</td>\n",
       "      <td>157|250</td>\n",
       "      <td>0</td>\n",
       "      <td>0</td>\n",
       "      <td>0</td>\n",
       "      <td>51</td>\n",
       "      <td>5</td>\n",
       "      <td>8</td>\n",
       "      <td>0</td>\n",
       "      <td>0049-4110</td>\n",
       "      <td>None</td>\n",
       "      <td>None</td>\n",
       "      <td>Ch</td>\n",
       "      <td>NO</td>\n",
       "    </tr>\n",
       "  </tbody>\n",
       "</table>\n",
       "</div>"
      ],
      "text/plain": [
       "   encounter_id  patient_nbr             race  gender      age weight  \\\n",
       "0       2278392      8222157        Caucasian  Female   [0-10)    NaN   \n",
       "1        149190     55629189        Caucasian  Female  [10-20)    NaN   \n",
       "2         64410     86047875  AfricanAmerican  Female  [20-30)    NaN   \n",
       "3        500364     82442376        Caucasian    Male  [30-40)    NaN   \n",
       "4         16680     42519267        Caucasian    Male  [40-50)    NaN   \n",
       "\n",
       "   admission_type_id  discharge_disposition_id  admission_source_id  \\\n",
       "0                  6                        25                    1   \n",
       "1                  1                         1                    7   \n",
       "2                  1                         1                    7   \n",
       "3                  1                         1                    7   \n",
       "4                  1                         1                    7   \n",
       "\n",
       "   time_in_hospital payer_code         medical_specialty  \\\n",
       "0                 1        NaN  Pediatrics-Endocrinology   \n",
       "1                 3        NaN                       NaN   \n",
       "2                 2        NaN                       NaN   \n",
       "3                 2        NaN                       NaN   \n",
       "4                 1        NaN                       NaN   \n",
       "\n",
       "  primary_diagnosis_code other_diagnosis_codes  number_outpatient  \\\n",
       "0                 250.83                   ?|?                  0   \n",
       "1                    276            250.01|255                  0   \n",
       "2                    648               250|V27                  2   \n",
       "3                      8            250.43|403                  0   \n",
       "4                    197               157|250                  0   \n",
       "\n",
       "   number_inpatient  number_emergency  num_lab_procedures  number_diagnoses  \\\n",
       "0                 0                 0                  41                 1   \n",
       "1                 0                 0                  59                 9   \n",
       "2                 1                 0                  11                 6   \n",
       "3                 0                 0                  44                 7   \n",
       "4                 0                 0                  51                 5   \n",
       "\n",
       "   num_medications  num_procedures    ndc_code max_glu_serum A1Cresult change  \\\n",
       "0                1               0         NaN          None      None     No   \n",
       "1               18               0  68071-1701          None      None     Ch   \n",
       "2               13               5   0378-1110          None      None     No   \n",
       "3               16               1  68071-1701          None      None     Ch   \n",
       "4                8               0   0049-4110          None      None     Ch   \n",
       "\n",
       "  readmitted  \n",
       "0         NO  \n",
       "1        >30  \n",
       "2         NO  \n",
       "3         NO  \n",
       "4         NO  "
      ]
     },
     "execution_count": 4,
     "metadata": {},
     "output_type": "execute_result"
    }
   ],
   "source": [
    "df.head()"
   ]
  },
  {
   "cell_type": "code",
   "execution_count": null,
   "metadata": {},
   "outputs": [],
   "source": []
  },
  {
   "cell_type": "code",
   "execution_count": 5,
   "metadata": {
    "scrolled": true
   },
   "outputs": [
    {
     "name": "stdout",
     "output_type": "stream",
     "text": [
      "dataset shape (143424, 26)\n",
      "number of unique encounters 101766\n",
      "number of unique patients 71518\n",
      "<class 'pandas.core.frame.DataFrame'>\n",
      "RangeIndex: 143424 entries, 0 to 143423\n",
      "Data columns (total 26 columns):\n",
      " #   Column                    Non-Null Count   Dtype \n",
      "---  ------                    --------------   ----- \n",
      " 0   encounter_id              143424 non-null  int64 \n",
      " 1   patient_nbr               143424 non-null  int64 \n",
      " 2   race                      140115 non-null  object\n",
      " 3   gender                    143424 non-null  object\n",
      " 4   age                       143424 non-null  object\n",
      " 5   weight                    4302 non-null    object\n",
      " 6   admission_type_id         143424 non-null  int64 \n",
      " 7   discharge_disposition_id  143424 non-null  int64 \n",
      " 8   admission_source_id       143424 non-null  int64 \n",
      " 9   time_in_hospital          143424 non-null  int64 \n",
      " 10  payer_code                89234 non-null   object\n",
      " 11  medical_specialty         73961 non-null   object\n",
      " 12  primary_diagnosis_code    143391 non-null  object\n",
      " 13  other_diagnosis_codes     143424 non-null  object\n",
      " 14  number_outpatient         143424 non-null  int64 \n",
      " 15  number_inpatient          143424 non-null  int64 \n",
      " 16  number_emergency          143424 non-null  int64 \n",
      " 17  num_lab_procedures        143424 non-null  int64 \n",
      " 18  number_diagnoses          143424 non-null  int64 \n",
      " 19  num_medications           143424 non-null  int64 \n",
      " 20  num_procedures            143424 non-null  int64 \n",
      " 21  ndc_code                  119962 non-null  object\n",
      " 22  max_glu_serum             143424 non-null  object\n",
      " 23  A1Cresult                 143424 non-null  object\n",
      " 24  change                    143424 non-null  object\n",
      " 25  readmitted                143424 non-null  object\n",
      "dtypes: int64(13), object(13)\n",
      "memory usage: 28.5+ MB\n"
     ]
    }
   ],
   "source": [
    "print(\"dataset shape\",df.shape)\n",
    "print(\"number of unique encounters\",df[\"encounter_id\"].nunique())\n",
    "print(\"number of unique patients\",df[\"patient_nbr\"].nunique())\n",
    "unique_encounters=df[\"encounter_id\"].nunique()\n",
    "df.info()"
   ]
  },
  {
   "cell_type": "markdown",
   "metadata": {},
   "source": [
    "## Determine Level of Dataset (Line or Encounter)"
   ]
  },
  {
   "cell_type": "markdown",
   "metadata": {},
   "source": [
    "**Question 1**: Based off of analysis of the data, what level is this dataset? Is it at the line or encounter level? Are there any key fields besides the encounter_id and patient_nbr fields that we should use to aggregate on? Knowing this information will help inform us what level of aggregation is necessary for future steps and is a step that is often overlooked. "
   ]
  },
  {
   "cell_type": "markdown",
   "metadata": {},
   "source": [
    "Student Response: The data is presented in the line level because the number of unique encounters is less than the dataset rows. \n",
    "the keys that we should aggregate on are all the keys that doesn't change per encounter if we will use one encounter for each patient from the dataset. from the schema, this keys are :\n",
    "- encounter_id\n",
    "- patient_nbr \n",
    "- number_intpatient\n",
    "- number_outpatient\n",
    "- number_emergency\n",
    "- num_lab_procedures\n",
    "- num_medications\n",
    "- num_procedures\n",
    "- race\n",
    "- age\n",
    "- gender\n",
    "\n",
    "these were the keys stated in the dataset schema which are fixed per encounter. After investigating the dataset, it was found that all the feature keys are fixed per encounter except the \"ndc_code\"\n"
   ]
  },
  {
   "cell_type": "markdown",
   "metadata": {},
   "source": [
    "## Analyze Dataset"
   ]
  },
  {
   "cell_type": "markdown",
   "metadata": {},
   "source": [
    "**Question 2**: Utilizing the library of your choice (recommend Pandas and Seaborn or matplotlib though), perform exploratory data analysis on the dataset. In particular be sure to address the following questions:  \n",
    "    - a. Field(s) with high amount of missing/zero values\n",
    "    - b. Based off the frequency histogram for each numerical field, which numerical field(s) has/have a Gaussian(normal) distribution shape?\n",
    "    - c. Which field(s) have high cardinality and why (HINT: ndc_code is one feature)\n",
    "    - d. Please describe the demographic distributions in the dataset for the age and gender fields.\n",
    "    \n"
   ]
  },
  {
   "cell_type": "markdown",
   "metadata": {},
   "source": [
    "**OPTIONAL**: Use the Tensorflow Data Validation and Analysis library to complete. \n",
    "- The Tensorflow Data Validation and Analysis library(https://www.tensorflow.org/tfx/data_validation/get_started) is a useful tool for analyzing and summarizing dataset statistics. It is especially useful because it can scale to large datasets that do not fit into memory. \n",
    "- Note that there are some bugs that are still being resolved with Chrome v80 and we have moved away from using this for the project. "
   ]
  },
  {
   "cell_type": "markdown",
   "metadata": {},
   "source": [
    "**Student Response**: \n",
    "\n",
    "a- I- keys with high amout of missing values :\n",
    "- weight(139122)\n",
    "- medical_specialty(69463)\n",
    "- payer_code(54190)\n",
    "- ndc_code(23462)\n",
    " II- keys with high amout of zero values:\n",
    "  - number_outpatient(120027)\n",
    "  - number_inpatient(96698)\n",
    "  - number_emergency(127444)\n",
    "\n",
    "b- these numerical features have a Gaussian response:\n",
    "- num_lab_procedures\n",
    "- num_medications\n",
    "- time_in_hospital\n",
    "\n",
    "c- keys with high cardinality are:\n",
    "- primary_diagnosis_code(716)\n",
    "- other_diagnosis_codes(19374)\n",
    "- ndc_code(251)\n",
    "- medical_specialty(72)\n",
    "\n",
    "This high cardinality is either because these keys are used to identify the patient, encounter, and will not be used as features or these keys have many combinations like the procedure, medication, and diagnosis codesets.\n",
    "\n",
    "d- the demographic distribution in the dataset shows that most of the dataset patients are in above the 40 years and this may be normal because of the high infection rate above this age, the distribution of the gender through the data set almost has no bias except in the 80-90 age bin which is biased toward the female patients.\n"
   ]
  },
  {
   "cell_type": "code",
   "execution_count": 6,
   "metadata": {
    "scrolled": true
   },
   "outputs": [
    {
     "name": "stdout",
     "output_type": "stream",
     "text": [
      "null values count\n",
      " encounter_id                     0\n",
      "patient_nbr                      0\n",
      "race                          3309\n",
      "gender                           0\n",
      "age                              0\n",
      "weight                      139122\n",
      "admission_type_id                0\n",
      "discharge_disposition_id         0\n",
      "admission_source_id              0\n",
      "time_in_hospital                 0\n",
      "payer_code                   54190\n",
      "medical_specialty            69463\n",
      "primary_diagnosis_code          33\n",
      "other_diagnosis_codes            0\n",
      "number_outpatient                0\n",
      "number_inpatient                 0\n",
      "number_emergency                 0\n",
      "num_lab_procedures               0\n",
      "number_diagnoses                 0\n",
      "num_medications                  0\n",
      "num_procedures                   0\n",
      "ndc_code                     23462\n",
      "max_glu_serum                    0\n",
      "A1Cresult                        0\n",
      "change                           0\n",
      "readmitted                       0\n",
      "dtype: int64\n",
      "\n",
      " zero values count\n",
      " encounter_id                     0\n",
      "patient_nbr                      0\n",
      "race                             0\n",
      "gender                           0\n",
      "age                              0\n",
      "weight                           0\n",
      "admission_type_id                0\n",
      "discharge_disposition_id         0\n",
      "admission_source_id              0\n",
      "time_in_hospital                 0\n",
      "payer_code                       0\n",
      "medical_specialty                0\n",
      "primary_diagnosis_code           0\n",
      "other_diagnosis_codes            0\n",
      "number_outpatient           120027\n",
      "number_inpatient             96698\n",
      "number_emergency            127444\n",
      "num_lab_procedures               0\n",
      "number_diagnoses                 0\n",
      "num_medications                  0\n",
      "num_procedures               65788\n",
      "ndc_code                         0\n",
      "max_glu_serum                    0\n",
      "A1Cresult                        0\n",
      "change                           0\n",
      "readmitted                       0\n",
      "dtype: int64\n"
     ]
    }
   ],
   "source": [
    "######NOTE: The visualization will only display in Chrome browser. ########\n",
    "\n",
    "###a.\n",
    "print(\"null values count\\n\",df.isnull().sum())\n",
    "print(\"\\n zero values count\\n\",df.isin([0]).sum())"
   ]
  },
  {
   "cell_type": "code",
   "execution_count": 7,
   "metadata": {
    "scrolled": true
   },
   "outputs": [
    {
     "data": {
      "text/html": [
       "<div>\n",
       "<style scoped>\n",
       "    .dataframe tbody tr th:only-of-type {\n",
       "        vertical-align: middle;\n",
       "    }\n",
       "\n",
       "    .dataframe tbody tr th {\n",
       "        vertical-align: top;\n",
       "    }\n",
       "\n",
       "    .dataframe thead th {\n",
       "        text-align: right;\n",
       "    }\n",
       "</style>\n",
       "<table border=\"1\" class=\"dataframe\">\n",
       "  <thead>\n",
       "    <tr style=\"text-align: right;\">\n",
       "      <th></th>\n",
       "      <th>Feature Name\\n</th>\n",
       "      <th>Type</th>\n",
       "      <th>Description</th>\n",
       "    </tr>\n",
       "  </thead>\n",
       "  <tbody>\n",
       "    <tr>\n",
       "      <th>0</th>\n",
       "      <td>encounter_id</td>\n",
       "      <td>numeric ID\\n</td>\n",
       "      <td>Unique identifier of an encounter</td>\n",
       "    </tr>\n",
       "    <tr>\n",
       "      <th>1</th>\n",
       "      <td>patient_nbr</td>\n",
       "      <td>numeric ID\\n</td>\n",
       "      <td>Unique identifier of a patient</td>\n",
       "    </tr>\n",
       "    <tr>\n",
       "      <th>2</th>\n",
       "      <td>race</td>\n",
       "      <td>categorical</td>\n",
       "      <td>Values: Caucasian, Asian, African American, Hi...</td>\n",
       "    </tr>\n",
       "    <tr>\n",
       "      <th>3</th>\n",
       "      <td>gender</td>\n",
       "      <td>categorical</td>\n",
       "      <td>Values: male, female, and unknown/invalid</td>\n",
       "    </tr>\n",
       "    <tr>\n",
       "      <th>4</th>\n",
       "      <td>age</td>\n",
       "      <td>bucketed numerical feature (converted to categ...</td>\n",
       "      <td>Grouped in 10-year intervals: [0, 10), [10, 20...</td>\n",
       "    </tr>\n",
       "    <tr>\n",
       "      <th>5</th>\n",
       "      <td>weight</td>\n",
       "      <td>numerical</td>\n",
       "      <td>Weight in pounds.</td>\n",
       "    </tr>\n",
       "    <tr>\n",
       "      <th>6</th>\n",
       "      <td>admission_type_id</td>\n",
       "      <td>categorical</td>\n",
       "      <td>Integer identifier corresponding to 9 distinct...</td>\n",
       "    </tr>\n",
       "    <tr>\n",
       "      <th>7</th>\n",
       "      <td>discharge_disposition_id</td>\n",
       "      <td>categorical</td>\n",
       "      <td>Integer identifier corresponding to 29 distinc...</td>\n",
       "    </tr>\n",
       "    <tr>\n",
       "      <th>8</th>\n",
       "      <td>admission_source_id</td>\n",
       "      <td>categorical</td>\n",
       "      <td>nteger identifier corresponding to 21 distinct...</td>\n",
       "    </tr>\n",
       "    <tr>\n",
       "      <th>9</th>\n",
       "      <td>time_in_hospital</td>\n",
       "      <td>numerical</td>\n",
       "      <td>Integer number of days between admission and d...</td>\n",
       "    </tr>\n",
       "    <tr>\n",
       "      <th>10</th>\n",
       "      <td>payer_code</td>\n",
       "      <td>categorical\\n</td>\n",
       "      <td>Integer identifier corresponding to 23 distinc...</td>\n",
       "    </tr>\n",
       "    <tr>\n",
       "      <th>11</th>\n",
       "      <td>medical_specialty</td>\n",
       "      <td>categorical</td>\n",
       "      <td>Integer identifier of a specialty of the admit...</td>\n",
       "    </tr>\n",
       "    <tr>\n",
       "      <th>12</th>\n",
       "      <td>primary_diagnosis_code</td>\n",
       "      <td>categorical</td>\n",
       "      <td>Primary diagnosis code using ICD9 - CM code set\\n</td>\n",
       "    </tr>\n",
       "    <tr>\n",
       "      <th>13</th>\n",
       "      <td>other_diagnosis_codes</td>\n",
       "      <td>categorical array</td>\n",
       "      <td>Two secondary diagnosis codes using the ICD9 -...</td>\n",
       "    </tr>\n",
       "    <tr>\n",
       "      <th>14</th>\n",
       "      <td>number_outpatient</td>\n",
       "      <td>numerical\\n</td>\n",
       "      <td>Number of outpatient visits of the patient in ...</td>\n",
       "    </tr>\n",
       "    <tr>\n",
       "      <th>15</th>\n",
       "      <td>number_inpatient</td>\n",
       "      <td>numerical</td>\n",
       "      <td>Number of inpatient visits of the patient in t...</td>\n",
       "    </tr>\n",
       "    <tr>\n",
       "      <th>16</th>\n",
       "      <td>number_emergency</td>\n",
       "      <td>numerical</td>\n",
       "      <td>Number of emergency visits of the patient in t...</td>\n",
       "    </tr>\n",
       "    <tr>\n",
       "      <th>17</th>\n",
       "      <td>num_lab_procedures</td>\n",
       "      <td>numerical</td>\n",
       "      <td>Number of lab tests performed during the encou...</td>\n",
       "    </tr>\n",
       "    <tr>\n",
       "      <th>18</th>\n",
       "      <td>number_diagnoses</td>\n",
       "      <td>numerical</td>\n",
       "      <td>Number of diagnoses entered to the system</td>\n",
       "    </tr>\n",
       "    <tr>\n",
       "      <th>19</th>\n",
       "      <td>num_medications</td>\n",
       "      <td>numerical</td>\n",
       "      <td>Number of distinct generic names administered ...</td>\n",
       "    </tr>\n",
       "    <tr>\n",
       "      <th>20</th>\n",
       "      <td>num_procedures</td>\n",
       "      <td>numerical</td>\n",
       "      <td>Number of procedures (other than lab tests) pe...</td>\n",
       "    </tr>\n",
       "    <tr>\n",
       "      <th>21</th>\n",
       "      <td>ndc_code</td>\n",
       "      <td>categorical</td>\n",
       "      <td>NDC code(s) for drug prescribed during encount...</td>\n",
       "    </tr>\n",
       "    <tr>\n",
       "      <th>22</th>\n",
       "      <td>max_glu_serum</td>\n",
       "      <td>categorical</td>\n",
       "      <td>Indicates the range of the result or if the te...</td>\n",
       "    </tr>\n",
       "    <tr>\n",
       "      <th>23</th>\n",
       "      <td>A1Cresult</td>\n",
       "      <td>categorical</td>\n",
       "      <td>Indicates the range of the result or if the te...</td>\n",
       "    </tr>\n",
       "    <tr>\n",
       "      <th>24</th>\n",
       "      <td>change</td>\n",
       "      <td>categorical</td>\n",
       "      <td>Indicates if there was a change in diabetic me...</td>\n",
       "    </tr>\n",
       "  </tbody>\n",
       "</table>\n",
       "</div>"
      ],
      "text/plain": [
       "              Feature Name\\n  \\\n",
       "0               encounter_id   \n",
       "1                patient_nbr   \n",
       "2                       race   \n",
       "3                     gender   \n",
       "4                        age   \n",
       "5                     weight   \n",
       "6          admission_type_id   \n",
       "7   discharge_disposition_id   \n",
       "8        admission_source_id   \n",
       "9           time_in_hospital   \n",
       "10                payer_code   \n",
       "11         medical_specialty   \n",
       "12    primary_diagnosis_code   \n",
       "13     other_diagnosis_codes   \n",
       "14         number_outpatient   \n",
       "15          number_inpatient   \n",
       "16          number_emergency   \n",
       "17        num_lab_procedures   \n",
       "18          number_diagnoses   \n",
       "19           num_medications   \n",
       "20            num_procedures   \n",
       "21                  ndc_code   \n",
       "22             max_glu_serum   \n",
       "23                 A1Cresult   \n",
       "24                    change   \n",
       "\n",
       "                                                 Type  \\\n",
       "0                                        numeric ID\\n   \n",
       "1                                        numeric ID\\n   \n",
       "2                                         categorical   \n",
       "3                                         categorical   \n",
       "4   bucketed numerical feature (converted to categ...   \n",
       "5                                           numerical   \n",
       "6                                         categorical   \n",
       "7                                         categorical   \n",
       "8                                         categorical   \n",
       "9                                           numerical   \n",
       "10                                      categorical\\n   \n",
       "11                                        categorical   \n",
       "12                                        categorical   \n",
       "13                                  categorical array   \n",
       "14                                        numerical\\n   \n",
       "15                                          numerical   \n",
       "16                                          numerical   \n",
       "17                                          numerical   \n",
       "18                                          numerical   \n",
       "19                                          numerical   \n",
       "20                                          numerical   \n",
       "21                                        categorical   \n",
       "22                                        categorical   \n",
       "23                                        categorical   \n",
       "24                                        categorical   \n",
       "\n",
       "                                          Description  \n",
       "0                   Unique identifier of an encounter  \n",
       "1                      Unique identifier of a patient  \n",
       "2   Values: Caucasian, Asian, African American, Hi...  \n",
       "3           Values: male, female, and unknown/invalid  \n",
       "4   Grouped in 10-year intervals: [0, 10), [10, 20...  \n",
       "5                                   Weight in pounds.  \n",
       "6   Integer identifier corresponding to 9 distinct...  \n",
       "7   Integer identifier corresponding to 29 distinc...  \n",
       "8   nteger identifier corresponding to 21 distinct...  \n",
       "9   Integer number of days between admission and d...  \n",
       "10  Integer identifier corresponding to 23 distinc...  \n",
       "11  Integer identifier of a specialty of the admit...  \n",
       "12  Primary diagnosis code using ICD9 - CM code set\\n  \n",
       "13  Two secondary diagnosis codes using the ICD9 -...  \n",
       "14  Number of outpatient visits of the patient in ...  \n",
       "15  Number of inpatient visits of the patient in t...  \n",
       "16  Number of emergency visits of the patient in t...  \n",
       "17  Number of lab tests performed during the encou...  \n",
       "18          Number of diagnoses entered to the system  \n",
       "19  Number of distinct generic names administered ...  \n",
       "20  Number of procedures (other than lab tests) pe...  \n",
       "21  NDC code(s) for drug prescribed during encount...  \n",
       "22  Indicates the range of the result or if the te...  \n",
       "23  Indicates the range of the result or if the te...  \n",
       "24  Indicates if there was a change in diabetic me...  "
      ]
     },
     "execution_count": 7,
     "metadata": {},
     "output_type": "execute_result"
    }
   ],
   "source": [
    "data_schema=pd.read_csv(\"project_data_schema.csv\")\n",
    "data_schema"
   ]
  },
  {
   "cell_type": "code",
   "execution_count": 8,
   "metadata": {},
   "outputs": [],
   "source": [
    "# categorical_features=data_schema[data_schema[\"Type\"].isin([\"categorical\",\"categorical array\",\"categorical\\n\"])][\"Feature Name\\n\"].unique()\n",
    "\n",
    "# numerical_features=data_schema[data_schema[\"Type\"].isin([\"numerical\",\"numerical\\n\",\"numeric ID\\n\",])][\"Feature Name\\n\"].unique()\n",
    "#'encounter_id', 'patient_nbr'\n",
    "numerical_features=['time_in_hospital','number_outpatient', 'number_inpatient',\n",
    "                    'number_emergency','num_lab_procedures', 'number_diagnoses',\n",
    "                    'num_medications','num_procedures']\n",
    "categorical_features=['weight','race','age', 'gender',\n",
    "                      'admission_type_id', 'discharge_disposition_id','admission_source_id',\n",
    "                      'payer_code','medical_specialty','primary_diagnosis_code', 'other_diagnosis_codes',\n",
    "                      'ndc_code','max_glu_serum', 'A1Cresult', 'change']\n"
   ]
  },
  {
   "cell_type": "code",
   "execution_count": 9,
   "metadata": {},
   "outputs": [],
   "source": [
    "######   b.numerical features histogram\n",
    "import seaborn as sns"
   ]
  },
  {
   "cell_type": "code",
   "execution_count": 10,
   "metadata": {},
   "outputs": [
    {
     "data": {
      "text/plain": [
       "<matplotlib.axes._subplots.AxesSubplot at 0x7f1ceea8d650>"
      ]
     },
     "execution_count": 10,
     "metadata": {},
     "output_type": "execute_result"
    },
    {
     "data": {
      "image/png": "[encoded data removed]",
      "text/plain": [
       "<Figure size 1152x2520 with 8 Axes>"
      ]
     },
     "metadata": {
      "needs_background": "light"
     },
     "output_type": "display_data"
    }
   ],
   "source": [
    "fig, axs = plt.subplots(ncols=1,nrows=8,figsize=(16,35))\n",
    "\n",
    "# fig.figsize=(12, 6)\n",
    "#sns.countplot(data=cleaned_df,x=\"encounter_id\", ax=axs[0])\n",
    "#sns.countplot(cleaned_df[\"patient_nbr\"], ax=axs[1])\n",
    "time_bins=[x*2 for x in range(7)]\n",
    "#print(time_bins)\n",
    "sns.distplot(df[\"time_in_hospital\"],bins=time_bins, ax=axs[0],kde=False)\n",
    "sns.distplot(df[\"number_outpatient\"], ax=axs[1],kde=False,bins=[x*1 for x in range(10)])\n",
    "sns.distplot(df[\"number_inpatient\"], ax=axs[2],kde=False,bins=[x*1 for x in range(10)])\n",
    "sns.distplot(df[\"number_emergency\"], ax=axs[3],kde=False,bins=[x*1 for x in range(6)])\n",
    "sns.distplot(df[\"num_lab_procedures\"], ax=axs[4])\n",
    "sns.distplot(df[\"number_diagnoses\"], ax=axs[5],kde=False,bins=[x for x in range(12)])\n",
    "sns.distplot(df[\"num_medications\"], ax=axs[6])\n",
    "sns.distplot(df[\"num_procedures\"], ax=axs[7],kde=False,bins=[x for x in range(9)])\n",
    "#sns.countplot(df[\"weight\"], ax=axs[8],kde=False,bins=[x for x in range(9)])"
   ]
  },
  {
   "cell_type": "code",
   "execution_count": 11,
   "metadata": {},
   "outputs": [
    {
     "data": {
      "text/plain": [
       "weight                          9\n",
       "race                            5\n",
       "age                            10\n",
       "gender                          3\n",
       "admission_type_id               8\n",
       "discharge_disposition_id       26\n",
       "admission_source_id            17\n",
       "payer_code                     17\n",
       "medical_specialty              72\n",
       "primary_diagnosis_code        716\n",
       "other_diagnosis_codes       19374\n",
       "ndc_code                      251\n",
       "max_glu_serum                   4\n",
       "A1Cresult                       4\n",
       "change                          2\n",
       "dtype: int64"
      ]
     },
     "execution_count": 11,
     "metadata": {},
     "output_type": "execute_result"
    }
   ],
   "source": [
    "#   c.cardinality check\n",
    "\n",
    "df[categorical_features].nunique()"
   ]
  },
  {
   "cell_type": "code",
   "execution_count": 12,
   "metadata": {},
   "outputs": [
    {
     "data": {
      "image/png": "[encoded data removed]",
      "text/plain": [
       "<Figure size 864x576 with 1 Axes>"
      ]
     },
     "metadata": {
      "needs_background": "light"
     },
     "output_type": "display_data"
    }
   ],
   "source": [
    "######## d. the demographic distrubution ######## \n",
    "fig2, axs2 = plt.subplots(ncols=1,nrows=1,figsize=(12,8))\n",
    "x=sns.countplot(x=\"age\", hue=\"gender\", data=df,ax=axs2)"
   ]
  },
  {
   "cell_type": "markdown",
   "metadata": {},
   "source": [
    "## Reduce Dimensionality of the NDC Code Feature"
   ]
  },
  {
   "cell_type": "markdown",
   "metadata": {},
   "source": [
    "**Question 3**: NDC codes are a common format to represent the wide variety of drugs that are prescribed for patient care in the United States. The challenge is that there are many codes that map to the same or similar drug. You are provided with the ndc drug lookup file https://github.com/udacity/nd320-c1-emr-data-starter/tree/master/project/data_schema_references/ndc_lookup_table.csv derived from the National Drug Codes List site(https://ndclist.com/). Please use this file to come up with a way to reduce the dimensionality of this field and create a new field in the dataset called \"generic_drug_name\" in the output dataframe. "
   ]
  },
  {
   "cell_type": "code",
   "execution_count": 13,
   "metadata": {
    "scrolled": true
   },
   "outputs": [
    {
     "data": {
      "text/html": [
       "<div>\n",
       "<style scoped>\n",
       "    .dataframe tbody tr th:only-of-type {\n",
       "        vertical-align: middle;\n",
       "    }\n",
       "\n",
       "    .dataframe tbody tr th {\n",
       "        vertical-align: top;\n",
       "    }\n",
       "\n",
       "    .dataframe thead th {\n",
       "        text-align: right;\n",
       "    }\n",
       "</style>\n",
       "<table border=\"1\" class=\"dataframe\">\n",
       "  <thead>\n",
       "    <tr style=\"text-align: right;\">\n",
       "      <th></th>\n",
       "      <th>NDC_Code</th>\n",
       "      <th>Proprietary Name</th>\n",
       "      <th>Non-proprietary Name</th>\n",
       "      <th>Dosage Form</th>\n",
       "      <th>Route Name</th>\n",
       "      <th>Company Name</th>\n",
       "      <th>Product Type</th>\n",
       "    </tr>\n",
       "  </thead>\n",
       "  <tbody>\n",
       "    <tr>\n",
       "      <th>0</th>\n",
       "      <td>0087-6060</td>\n",
       "      <td>Glucophage</td>\n",
       "      <td>Metformin Hydrochloride</td>\n",
       "      <td>Tablet, Film Coated</td>\n",
       "      <td>Oral</td>\n",
       "      <td>Bristol-myers Squibb Company</td>\n",
       "      <td>Human Prescription Drug</td>\n",
       "    </tr>\n",
       "    <tr>\n",
       "      <th>1</th>\n",
       "      <td>0087-6063</td>\n",
       "      <td>Glucophage XR</td>\n",
       "      <td>Metformin Hydrochloride</td>\n",
       "      <td>Tablet, Extended Release</td>\n",
       "      <td>Oral</td>\n",
       "      <td>Bristol-myers Squibb Company</td>\n",
       "      <td>Human Prescription Drug</td>\n",
       "    </tr>\n",
       "    <tr>\n",
       "      <th>2</th>\n",
       "      <td>0087-6064</td>\n",
       "      <td>Glucophage XR</td>\n",
       "      <td>Metformin Hydrochloride</td>\n",
       "      <td>Tablet, Extended Release</td>\n",
       "      <td>Oral</td>\n",
       "      <td>Bristol-myers Squibb Company</td>\n",
       "      <td>Human Prescription Drug</td>\n",
       "    </tr>\n",
       "    <tr>\n",
       "      <th>3</th>\n",
       "      <td>0087-6070</td>\n",
       "      <td>Glucophage</td>\n",
       "      <td>Metformin Hydrochloride</td>\n",
       "      <td>Tablet, Film Coated</td>\n",
       "      <td>Oral</td>\n",
       "      <td>Bristol-myers Squibb Company</td>\n",
       "      <td>Human Prescription Drug</td>\n",
       "    </tr>\n",
       "    <tr>\n",
       "      <th>4</th>\n",
       "      <td>0087-6071</td>\n",
       "      <td>Glucophage</td>\n",
       "      <td>Metformin Hydrochloride</td>\n",
       "      <td>Tablet, Film Coated</td>\n",
       "      <td>Oral</td>\n",
       "      <td>Bristol-myers Squibb Company</td>\n",
       "      <td>Human Prescription Drug</td>\n",
       "    </tr>\n",
       "    <tr>\n",
       "      <th>...</th>\n",
       "      <td>...</td>\n",
       "      <td>...</td>\n",
       "      <td>...</td>\n",
       "      <td>...</td>\n",
       "      <td>...</td>\n",
       "      <td>...</td>\n",
       "      <td>...</td>\n",
       "    </tr>\n",
       "    <tr>\n",
       "      <th>264</th>\n",
       "      <td>0781-5635</td>\n",
       "      <td>Pioglitazone Hydrochloride And Glimepiride</td>\n",
       "      <td>Pioglitazone Hydrochloride And Glimepiride</td>\n",
       "      <td>Tablet</td>\n",
       "      <td>Oral</td>\n",
       "      <td>Sandoz Inc</td>\n",
       "      <td>Human Prescription Drug</td>\n",
       "    </tr>\n",
       "    <tr>\n",
       "      <th>265</th>\n",
       "      <td>64764-302</td>\n",
       "      <td>Duetact</td>\n",
       "      <td>Pioglitazone And Glimepiride</td>\n",
       "      <td>Tablet</td>\n",
       "      <td>Oral</td>\n",
       "      <td>Takeda Pharmaceuticals America, Inc.</td>\n",
       "      <td>Human Prescription Drug</td>\n",
       "    </tr>\n",
       "    <tr>\n",
       "      <th>266</th>\n",
       "      <td>64764-304</td>\n",
       "      <td>Duetact</td>\n",
       "      <td>Pioglitazone And Glimepiride</td>\n",
       "      <td>Tablet</td>\n",
       "      <td>Oral</td>\n",
       "      <td>Takeda Pharmaceuticals America, Inc.</td>\n",
       "      <td>Human Prescription Drug</td>\n",
       "    </tr>\n",
       "    <tr>\n",
       "      <th>267</th>\n",
       "      <td>66993-821</td>\n",
       "      <td>Pioglitazone And Glimepiride</td>\n",
       "      <td>Pioglitazone And Glimepiride</td>\n",
       "      <td>Tablet</td>\n",
       "      <td>Oral</td>\n",
       "      <td>Prasco Laboratories</td>\n",
       "      <td>Human Prescription Drug</td>\n",
       "    </tr>\n",
       "    <tr>\n",
       "      <th>268</th>\n",
       "      <td>66993-822</td>\n",
       "      <td>Pioglitazone And Glimepiride</td>\n",
       "      <td>Pioglitazone And Glimepiride</td>\n",
       "      <td>Tablet</td>\n",
       "      <td>Oral</td>\n",
       "      <td>Prasco Laboratories</td>\n",
       "      <td>Human Prescription Drug</td>\n",
       "    </tr>\n",
       "  </tbody>\n",
       "</table>\n",
       "<p>269 rows × 7 columns</p>\n",
       "</div>"
      ],
      "text/plain": [
       "      NDC_Code                            Proprietary Name  \\\n",
       "0    0087-6060                                  Glucophage   \n",
       "1    0087-6063                               Glucophage XR   \n",
       "2    0087-6064                               Glucophage XR   \n",
       "3    0087-6070                                  Glucophage   \n",
       "4    0087-6071                                  Glucophage   \n",
       "..         ...                                         ...   \n",
       "264  0781-5635  Pioglitazone Hydrochloride And Glimepiride   \n",
       "265  64764-302                                     Duetact   \n",
       "266  64764-304                                     Duetact   \n",
       "267  66993-821                Pioglitazone And Glimepiride   \n",
       "268  66993-822                Pioglitazone And Glimepiride   \n",
       "\n",
       "                           Non-proprietary Name               Dosage Form  \\\n",
       "0                       Metformin Hydrochloride       Tablet, Film Coated   \n",
       "1                       Metformin Hydrochloride  Tablet, Extended Release   \n",
       "2                       Metformin Hydrochloride  Tablet, Extended Release   \n",
       "3                       Metformin Hydrochloride       Tablet, Film Coated   \n",
       "4                       Metformin Hydrochloride       Tablet, Film Coated   \n",
       "..                                          ...                       ...   \n",
       "264  Pioglitazone Hydrochloride And Glimepiride                    Tablet   \n",
       "265                Pioglitazone And Glimepiride                    Tablet   \n",
       "266                Pioglitazone And Glimepiride                    Tablet   \n",
       "267                Pioglitazone And Glimepiride                    Tablet   \n",
       "268                Pioglitazone And Glimepiride                    Tablet   \n",
       "\n",
       "    Route Name                          Company Name             Product Type  \n",
       "0         Oral          Bristol-myers Squibb Company  Human Prescription Drug  \n",
       "1         Oral          Bristol-myers Squibb Company  Human Prescription Drug  \n",
       "2         Oral          Bristol-myers Squibb Company  Human Prescription Drug  \n",
       "3         Oral          Bristol-myers Squibb Company  Human Prescription Drug  \n",
       "4         Oral          Bristol-myers Squibb Company  Human Prescription Drug  \n",
       "..         ...                                   ...                      ...  \n",
       "264       Oral                            Sandoz Inc  Human Prescription Drug  \n",
       "265       Oral  Takeda Pharmaceuticals America, Inc.  Human Prescription Drug  \n",
       "266       Oral  Takeda Pharmaceuticals America, Inc.  Human Prescription Drug  \n",
       "267       Oral                   Prasco Laboratories  Human Prescription Drug  \n",
       "268       Oral                   Prasco Laboratories  Human Prescription Drug  \n",
       "\n",
       "[269 rows x 7 columns]"
      ]
     },
     "execution_count": 13,
     "metadata": {},
     "output_type": "execute_result"
    }
   ],
   "source": [
    "#NDC code lookup file\n",
    "ndc_code_path = \"./medication_lookup_tables/final_ndc_lookup_table\"\n",
    "ndc_code_df = pd.read_csv(ndc_code_path)\n",
    "ndc_code_df"
   ]
  },
  {
   "cell_type": "code",
   "execution_count": 14,
   "metadata": {},
   "outputs": [
    {
     "data": {
      "text/plain": [
       "NDC_Code                267\n",
       "Proprietary Name         39\n",
       "Non-proprietary Name     24\n",
       "Dosage Form               9\n",
       "Route Name                2\n",
       "Company Name             68\n",
       "Product Type              1\n",
       "dtype: int64"
      ]
     },
     "execution_count": 14,
     "metadata": {},
     "output_type": "execute_result"
    }
   ],
   "source": [
    "ndc_code_df.nunique()"
   ]
  },
  {
   "cell_type": "code",
   "execution_count": 15,
   "metadata": {},
   "outputs": [],
   "source": [
    "from student_utils import reduce_dimension_ndc"
   ]
  },
  {
   "cell_type": "code",
   "execution_count": 16,
   "metadata": {},
   "outputs": [],
   "source": [
    "reduce_dim_df = reduce_dimension_ndc(df, ndc_code_df)"
   ]
  },
  {
   "cell_type": "code",
   "execution_count": 17,
   "metadata": {},
   "outputs": [
    {
     "data": {
      "text/html": [
       "<div>\n",
       "<style scoped>\n",
       "    .dataframe tbody tr th:only-of-type {\n",
       "        vertical-align: middle;\n",
       "    }\n",
       "\n",
       "    .dataframe tbody tr th {\n",
       "        vertical-align: top;\n",
       "    }\n",
       "\n",
       "    .dataframe thead th {\n",
       "        text-align: right;\n",
       "    }\n",
       "</style>\n",
       "<table border=\"1\" class=\"dataframe\">\n",
       "  <thead>\n",
       "    <tr style=\"text-align: right;\">\n",
       "      <th></th>\n",
       "      <th>NDC_Code</th>\n",
       "      <th>Proprietary Name</th>\n",
       "      <th>Non-proprietary Name</th>\n",
       "      <th>Dosage Form</th>\n",
       "      <th>Route Name</th>\n",
       "      <th>Company Name</th>\n",
       "      <th>Product Type</th>\n",
       "    </tr>\n",
       "  </thead>\n",
       "  <tbody>\n",
       "    <tr>\n",
       "      <th>261</th>\n",
       "      <td>47918-902</td>\n",
       "      <td>Afrezza</td>\n",
       "      <td>Insulin Human</td>\n",
       "      <td>Kit</td>\n",
       "      <td>NaN</td>\n",
       "      <td>Mannkind Corporation</td>\n",
       "      <td>Human Prescription Drug</td>\n",
       "    </tr>\n",
       "  </tbody>\n",
       "</table>\n",
       "</div>"
      ],
      "text/plain": [
       "      NDC_Code Proprietary Name Non-proprietary Name Dosage Form Route Name  \\\n",
       "261  47918-902          Afrezza        Insulin Human         Kit        NaN   \n",
       "\n",
       "             Company Name             Product Type  \n",
       "261  Mannkind Corporation  Human Prescription Drug  "
      ]
     },
     "execution_count": 17,
     "metadata": {},
     "output_type": "execute_result"
    }
   ],
   "source": [
    "ndc_code_df[ndc_code_df[\"NDC_Code\"]==\"47918-902\"]"
   ]
  },
  {
   "cell_type": "code",
   "execution_count": 18,
   "metadata": {},
   "outputs": [
    {
     "data": {
      "text/plain": [
       "22"
      ]
     },
     "execution_count": 18,
     "metadata": {},
     "output_type": "execute_result"
    }
   ],
   "source": [
    "reduce_dim_df[\"generic_drug_name\"].nunique()"
   ]
  },
  {
   "cell_type": "code",
   "execution_count": 19,
   "metadata": {},
   "outputs": [],
   "source": [
    "# Number of unique values should be less for the new output field\n",
    "assert df['ndc_code'].nunique() > reduce_dim_df['generic_drug_name'].nunique()"
   ]
  },
  {
   "cell_type": "markdown",
   "metadata": {},
   "source": [
    "## Select First Encounter for each Patient "
   ]
  },
  {
   "cell_type": "markdown",
   "metadata": {},
   "source": [
    "**Question 4**: In order to simplify the aggregation of data for the model, we will only select the first encounter for each patient in the dataset. This is to reduce the risk of data leakage of future patient encounters and to reduce complexity of the data transformation and modeling steps. We will assume that sorting in numerical order on the encounter_id provides the time horizon for determining which encounters come before and after another."
   ]
  },
  {
   "cell_type": "code",
   "execution_count": 20,
   "metadata": {},
   "outputs": [],
   "source": [
    "from student_utils import select_first_encounter\n",
    "first_encounter_df = select_first_encounter(reduce_dim_df)"
   ]
  },
  {
   "cell_type": "code",
   "execution_count": 21,
   "metadata": {
    "scrolled": true
   },
   "outputs": [
    {
     "name": "stdout",
     "output_type": "stream",
     "text": [
      "71518\n",
      "71518\n"
     ]
    }
   ],
   "source": [
    "#reduce_dim_enc.head(20)\n",
    "print(first_encounter_df[\"patient_nbr\"].nunique())\n",
    "print(first_encounter_df[\"encounter_id\"].nunique())"
   ]
  },
  {
   "cell_type": "code",
   "execution_count": 22,
   "metadata": {
    "scrolled": true
   },
   "outputs": [
    {
     "data": {
      "text/html": [
       "<div>\n",
       "<style scoped>\n",
       "    .dataframe tbody tr th:only-of-type {\n",
       "        vertical-align: middle;\n",
       "    }\n",
       "\n",
       "    .dataframe tbody tr th {\n",
       "        vertical-align: top;\n",
       "    }\n",
       "\n",
       "    .dataframe thead th {\n",
       "        text-align: right;\n",
       "    }\n",
       "</style>\n",
       "<table border=\"1\" class=\"dataframe\">\n",
       "  <thead>\n",
       "    <tr style=\"text-align: right;\">\n",
       "      <th></th>\n",
       "      <th>encounter_id</th>\n",
       "      <th>patient_nbr</th>\n",
       "      <th>race</th>\n",
       "      <th>gender</th>\n",
       "      <th>age</th>\n",
       "      <th>weight</th>\n",
       "      <th>admission_type_id</th>\n",
       "      <th>discharge_disposition_id</th>\n",
       "      <th>admission_source_id</th>\n",
       "      <th>time_in_hospital</th>\n",
       "      <th>payer_code</th>\n",
       "      <th>medical_specialty</th>\n",
       "      <th>primary_diagnosis_code</th>\n",
       "      <th>other_diagnosis_codes</th>\n",
       "      <th>number_outpatient</th>\n",
       "      <th>number_inpatient</th>\n",
       "      <th>number_emergency</th>\n",
       "      <th>num_lab_procedures</th>\n",
       "      <th>number_diagnoses</th>\n",
       "      <th>num_medications</th>\n",
       "      <th>num_procedures</th>\n",
       "      <th>ndc_code</th>\n",
       "      <th>max_glu_serum</th>\n",
       "      <th>A1Cresult</th>\n",
       "      <th>change</th>\n",
       "      <th>readmitted</th>\n",
       "      <th>generic_drug_name</th>\n",
       "    </tr>\n",
       "  </thead>\n",
       "  <tbody>\n",
       "    <tr>\n",
       "      <th>82331</th>\n",
       "      <td>167593854</td>\n",
       "      <td>41088789</td>\n",
       "      <td>Caucasian</td>\n",
       "      <td>Male</td>\n",
       "      <td>[70-80)</td>\n",
       "      <td>NaN</td>\n",
       "      <td>1</td>\n",
       "      <td>1</td>\n",
       "      <td>7</td>\n",
       "      <td>3</td>\n",
       "      <td>MC</td>\n",
       "      <td>NaN</td>\n",
       "      <td>486</td>\n",
       "      <td>276|401</td>\n",
       "      <td>0</td>\n",
       "      <td>0</td>\n",
       "      <td>0</td>\n",
       "      <td>43</td>\n",
       "      <td>5</td>\n",
       "      <td>9</td>\n",
       "      <td>0</td>\n",
       "      <td>33342-239</td>\n",
       "      <td>None</td>\n",
       "      <td>None</td>\n",
       "      <td>No</td>\n",
       "      <td>&gt;30</td>\n",
       "      <td>Metformin Hydrochloride</td>\n",
       "    </tr>\n",
       "    <tr>\n",
       "      <th>107056</th>\n",
       "      <td>230612106</td>\n",
       "      <td>41088789</td>\n",
       "      <td>Caucasian</td>\n",
       "      <td>Male</td>\n",
       "      <td>[70-80)</td>\n",
       "      <td>NaN</td>\n",
       "      <td>1</td>\n",
       "      <td>1</td>\n",
       "      <td>7</td>\n",
       "      <td>1</td>\n",
       "      <td>MC</td>\n",
       "      <td>NaN</td>\n",
       "      <td>530</td>\n",
       "      <td>285|250</td>\n",
       "      <td>0</td>\n",
       "      <td>1</td>\n",
       "      <td>0</td>\n",
       "      <td>29</td>\n",
       "      <td>7</td>\n",
       "      <td>2</td>\n",
       "      <td>2</td>\n",
       "      <td>NaN</td>\n",
       "      <td>None</td>\n",
       "      <td>None</td>\n",
       "      <td>No</td>\n",
       "      <td>&gt;30</td>\n",
       "      <td>NaN</td>\n",
       "    </tr>\n",
       "    <tr>\n",
       "      <th>143418</th>\n",
       "      <td>443854148</td>\n",
       "      <td>41088789</td>\n",
       "      <td>Caucasian</td>\n",
       "      <td>Male</td>\n",
       "      <td>[70-80)</td>\n",
       "      <td>NaN</td>\n",
       "      <td>1</td>\n",
       "      <td>1</td>\n",
       "      <td>7</td>\n",
       "      <td>1</td>\n",
       "      <td>MC</td>\n",
       "      <td>NaN</td>\n",
       "      <td>38</td>\n",
       "      <td>590|296</td>\n",
       "      <td>1</td>\n",
       "      <td>0</td>\n",
       "      <td>0</td>\n",
       "      <td>53</td>\n",
       "      <td>13</td>\n",
       "      <td>9</td>\n",
       "      <td>0</td>\n",
       "      <td>10631-019</td>\n",
       "      <td>None</td>\n",
       "      <td>None</td>\n",
       "      <td>Ch</td>\n",
       "      <td>NO</td>\n",
       "      <td>Metformin Hydrochloride</td>\n",
       "    </tr>\n",
       "    <tr>\n",
       "      <th>143419</th>\n",
       "      <td>443854148</td>\n",
       "      <td>41088789</td>\n",
       "      <td>Caucasian</td>\n",
       "      <td>Male</td>\n",
       "      <td>[70-80)</td>\n",
       "      <td>NaN</td>\n",
       "      <td>1</td>\n",
       "      <td>1</td>\n",
       "      <td>7</td>\n",
       "      <td>1</td>\n",
       "      <td>MC</td>\n",
       "      <td>NaN</td>\n",
       "      <td>38</td>\n",
       "      <td>590|296</td>\n",
       "      <td>1</td>\n",
       "      <td>0</td>\n",
       "      <td>0</td>\n",
       "      <td>53</td>\n",
       "      <td>13</td>\n",
       "      <td>9</td>\n",
       "      <td>0</td>\n",
       "      <td>47918-902</td>\n",
       "      <td>None</td>\n",
       "      <td>None</td>\n",
       "      <td>Ch</td>\n",
       "      <td>NO</td>\n",
       "      <td>Insulin Human</td>\n",
       "    </tr>\n",
       "  </tbody>\n",
       "</table>\n",
       "</div>"
      ],
      "text/plain": [
       "        encounter_id  patient_nbr       race gender      age weight  \\\n",
       "82331      167593854     41088789  Caucasian   Male  [70-80)    NaN   \n",
       "107056     230612106     41088789  Caucasian   Male  [70-80)    NaN   \n",
       "143418     443854148     41088789  Caucasian   Male  [70-80)    NaN   \n",
       "143419     443854148     41088789  Caucasian   Male  [70-80)    NaN   \n",
       "\n",
       "        admission_type_id  discharge_disposition_id  admission_source_id  \\\n",
       "82331                   1                         1                    7   \n",
       "107056                  1                         1                    7   \n",
       "143418                  1                         1                    7   \n",
       "143419                  1                         1                    7   \n",
       "\n",
       "        time_in_hospital payer_code medical_specialty primary_diagnosis_code  \\\n",
       "82331                  3         MC               NaN                    486   \n",
       "107056                 1         MC               NaN                    530   \n",
       "143418                 1         MC               NaN                     38   \n",
       "143419                 1         MC               NaN                     38   \n",
       "\n",
       "       other_diagnosis_codes  number_outpatient  number_inpatient  \\\n",
       "82331                276|401                  0                 0   \n",
       "107056               285|250                  0                 1   \n",
       "143418               590|296                  1                 0   \n",
       "143419               590|296                  1                 0   \n",
       "\n",
       "        number_emergency  num_lab_procedures  number_diagnoses  \\\n",
       "82331                  0                  43                 5   \n",
       "107056                 0                  29                 7   \n",
       "143418                 0                  53                13   \n",
       "143419                 0                  53                13   \n",
       "\n",
       "        num_medications  num_procedures   ndc_code max_glu_serum A1Cresult  \\\n",
       "82331                 9               0  33342-239          None      None   \n",
       "107056                2               2        NaN          None      None   \n",
       "143418                9               0  10631-019          None      None   \n",
       "143419                9               0  47918-902          None      None   \n",
       "\n",
       "       change readmitted        generic_drug_name  \n",
       "82331      No        >30  Metformin Hydrochloride  \n",
       "107056     No        >30                      NaN  \n",
       "143418     Ch         NO  Metformin Hydrochloride  \n",
       "143419     Ch         NO            Insulin Human  "
      ]
     },
     "execution_count": 22,
     "metadata": {},
     "output_type": "execute_result"
    }
   ],
   "source": [
    "reduce_dim_df[reduce_dim_df[\"patient_nbr\"]==41088789]"
   ]
  },
  {
   "cell_type": "code",
   "execution_count": 23,
   "metadata": {
    "scrolled": false
   },
   "outputs": [
    {
     "data": {
      "text/html": [
       "<div>\n",
       "<style scoped>\n",
       "    .dataframe tbody tr th:only-of-type {\n",
       "        vertical-align: middle;\n",
       "    }\n",
       "\n",
       "    .dataframe tbody tr th {\n",
       "        vertical-align: top;\n",
       "    }\n",
       "\n",
       "    .dataframe thead th {\n",
       "        text-align: right;\n",
       "    }\n",
       "</style>\n",
       "<table border=\"1\" class=\"dataframe\">\n",
       "  <thead>\n",
       "    <tr style=\"text-align: right;\">\n",
       "      <th></th>\n",
       "      <th>encounter_id</th>\n",
       "      <th>patient_nbr</th>\n",
       "      <th>race</th>\n",
       "      <th>gender</th>\n",
       "      <th>age</th>\n",
       "      <th>weight</th>\n",
       "      <th>admission_type_id</th>\n",
       "      <th>discharge_disposition_id</th>\n",
       "      <th>admission_source_id</th>\n",
       "      <th>time_in_hospital</th>\n",
       "      <th>payer_code</th>\n",
       "      <th>medical_specialty</th>\n",
       "      <th>primary_diagnosis_code</th>\n",
       "      <th>other_diagnosis_codes</th>\n",
       "      <th>number_outpatient</th>\n",
       "      <th>number_inpatient</th>\n",
       "      <th>number_emergency</th>\n",
       "      <th>num_lab_procedures</th>\n",
       "      <th>number_diagnoses</th>\n",
       "      <th>num_medications</th>\n",
       "      <th>num_procedures</th>\n",
       "      <th>ndc_code</th>\n",
       "      <th>max_glu_serum</th>\n",
       "      <th>A1Cresult</th>\n",
       "      <th>change</th>\n",
       "      <th>readmitted</th>\n",
       "      <th>generic_drug_name</th>\n",
       "    </tr>\n",
       "  </thead>\n",
       "  <tbody>\n",
       "    <tr>\n",
       "      <th>82331</th>\n",
       "      <td>167593854</td>\n",
       "      <td>41088789</td>\n",
       "      <td>Caucasian</td>\n",
       "      <td>Male</td>\n",
       "      <td>[70-80)</td>\n",
       "      <td>NaN</td>\n",
       "      <td>1</td>\n",
       "      <td>1</td>\n",
       "      <td>7</td>\n",
       "      <td>3</td>\n",
       "      <td>MC</td>\n",
       "      <td>NaN</td>\n",
       "      <td>486</td>\n",
       "      <td>276|401</td>\n",
       "      <td>0</td>\n",
       "      <td>0</td>\n",
       "      <td>0</td>\n",
       "      <td>43</td>\n",
       "      <td>5</td>\n",
       "      <td>9</td>\n",
       "      <td>0</td>\n",
       "      <td>33342-239</td>\n",
       "      <td>None</td>\n",
       "      <td>None</td>\n",
       "      <td>No</td>\n",
       "      <td>&gt;30</td>\n",
       "      <td>Metformin Hydrochloride</td>\n",
       "    </tr>\n",
       "  </tbody>\n",
       "</table>\n",
       "</div>"
      ],
      "text/plain": [
       "       encounter_id  patient_nbr       race gender      age weight  \\\n",
       "82331     167593854     41088789  Caucasian   Male  [70-80)    NaN   \n",
       "\n",
       "       admission_type_id  discharge_disposition_id  admission_source_id  \\\n",
       "82331                  1                         1                    7   \n",
       "\n",
       "       time_in_hospital payer_code medical_specialty primary_diagnosis_code  \\\n",
       "82331                 3         MC               NaN                    486   \n",
       "\n",
       "      other_diagnosis_codes  number_outpatient  number_inpatient  \\\n",
       "82331               276|401                  0                 0   \n",
       "\n",
       "       number_emergency  num_lab_procedures  number_diagnoses  \\\n",
       "82331                 0                  43                 5   \n",
       "\n",
       "       num_medications  num_procedures   ndc_code max_glu_serum A1Cresult  \\\n",
       "82331                9               0  33342-239          None      None   \n",
       "\n",
       "      change readmitted        generic_drug_name  \n",
       "82331     No        >30  Metformin Hydrochloride  "
      ]
     },
     "execution_count": 23,
     "metadata": {},
     "output_type": "execute_result"
    }
   ],
   "source": [
    "##test\n",
    "first_encounter_df[first_encounter_df[\"patient_nbr\"]==41088789]"
   ]
  },
  {
   "cell_type": "code",
   "execution_count": 24,
   "metadata": {},
   "outputs": [
    {
     "name": "stdout",
     "output_type": "stream",
     "text": [
      "Number of unique patients:71518\n",
      "Number of unique encounters:71518\n",
      "Tests passed!!\n"
     ]
    }
   ],
   "source": [
    "# unique patients in transformed dataset\n",
    "unique_patients = first_encounter_df['patient_nbr'].nunique()\n",
    "print(\"Number of unique patients:{}\".format(unique_patients))\n",
    "\n",
    "# unique encounters in transformed dataset\n",
    "unique_encounters = first_encounter_df['encounter_id'].nunique()\n",
    "print(\"Number of unique encounters:{}\".format(unique_encounters))\n",
    "\n",
    "original_unique_patient_number = reduce_dim_df['patient_nbr'].nunique()\n",
    "# number of unique patients should be equal to the number of unique encounters and patients in the final dataset\n",
    "assert original_unique_patient_number == unique_patients\n",
    "assert original_unique_patient_number == unique_encounters\n",
    "print(\"Tests passed!!\")"
   ]
  },
  {
   "cell_type": "markdown",
   "metadata": {},
   "source": [
    "## Aggregate Dataset to Right Level for Modeling "
   ]
  },
  {
   "cell_type": "markdown",
   "metadata": {},
   "source": [
    "In order to provide a broad scope of the steps and to prevent students from getting stuck with data transformations, we have selected the aggregation columns and provided a function to build the dataset at the appropriate level. The 'aggregate_dataset\" function that you can find in the 'utils.py' file can take the preceding dataframe with the 'generic_drug_name' field and transform the data appropriately for the project. \n",
    "\n",
    "To make it simpler for students, we are creating dummy columns for each unique generic drug name and adding those are input features to the model. There are other options for data representation but this is out of scope for the time constraints of the course.\n",
    "\n",
    "### Note: that performing the grouping on a rows with null values will remove this rows from the dataset, so removing or imputing these values was required to be done before the grouping step\n"
   ]
  },
  {
   "cell_type": "code",
   "execution_count": 25,
   "metadata": {
    "scrolled": true
   },
   "outputs": [
    {
     "data": {
      "text/plain": [
       "encounter_id                    0\n",
       "patient_nbr                     0\n",
       "race                         2849\n",
       "gender                          0\n",
       "age                             0\n",
       "weight                      97887\n",
       "admission_type_id               0\n",
       "discharge_disposition_id        0\n",
       "admission_source_id             0\n",
       "time_in_hospital                0\n",
       "payer_code                  42374\n",
       "medical_specialty           48566\n",
       "primary_diagnosis_code         19\n",
       "other_diagnosis_codes           0\n",
       "number_outpatient               0\n",
       "number_inpatient                0\n",
       "number_emergency                0\n",
       "num_lab_procedures              0\n",
       "number_diagnoses                0\n",
       "num_medications                 0\n",
       "num_procedures                  0\n",
       "ndc_code                    17247\n",
       "max_glu_serum                   0\n",
       "A1Cresult                       0\n",
       "change                          0\n",
       "readmitted                      0\n",
       "generic_drug_name           17247\n",
       "dtype: int64"
      ]
     },
     "execution_count": 25,
     "metadata": {},
     "output_type": "execute_result"
    }
   ],
   "source": [
    "first_encounter_df.isna().sum()"
   ]
  },
  {
   "cell_type": "code",
   "execution_count": 26,
   "metadata": {},
   "outputs": [],
   "source": [
    "df_l=first_encounter_df.drop(\"weight\",axis='columns')\n",
    "df_l=df_l.drop(\"payer_code\",axis='columns')\n",
    "df_l=df_l.drop(\"medical_specialty\",axis='columns')\n",
    "df_l=df_l[df_l['race'].notna()]\n",
    "df_l= df_l[df_l['primary_diagnosis_code'].notna()]\n",
    "#df_l['other_diagnosis_codes']= df_l['other_diagnosis_codes'].apply(lambda x: x.split(\"|\") if x is not np.nan else [])"
   ]
  },
  {
   "cell_type": "code",
   "execution_count": 27,
   "metadata": {},
   "outputs": [
    {
     "data": {
      "text/html": [
       "<div>\n",
       "<style scoped>\n",
       "    .dataframe tbody tr th:only-of-type {\n",
       "        vertical-align: middle;\n",
       "    }\n",
       "\n",
       "    .dataframe tbody tr th {\n",
       "        vertical-align: top;\n",
       "    }\n",
       "\n",
       "    .dataframe thead th {\n",
       "        text-align: right;\n",
       "    }\n",
       "</style>\n",
       "<table border=\"1\" class=\"dataframe\">\n",
       "  <thead>\n",
       "    <tr style=\"text-align: right;\">\n",
       "      <th></th>\n",
       "      <th>encounter_id</th>\n",
       "      <th>patient_nbr</th>\n",
       "      <th>race</th>\n",
       "      <th>gender</th>\n",
       "      <th>age</th>\n",
       "      <th>admission_type_id</th>\n",
       "      <th>discharge_disposition_id</th>\n",
       "      <th>admission_source_id</th>\n",
       "      <th>time_in_hospital</th>\n",
       "      <th>primary_diagnosis_code</th>\n",
       "      <th>other_diagnosis_codes</th>\n",
       "      <th>number_outpatient</th>\n",
       "      <th>number_inpatient</th>\n",
       "      <th>number_emergency</th>\n",
       "      <th>num_lab_procedures</th>\n",
       "      <th>number_diagnoses</th>\n",
       "      <th>num_medications</th>\n",
       "      <th>num_procedures</th>\n",
       "      <th>ndc_code</th>\n",
       "      <th>max_glu_serum</th>\n",
       "      <th>A1Cresult</th>\n",
       "      <th>change</th>\n",
       "      <th>readmitted</th>\n",
       "      <th>generic_drug_name</th>\n",
       "    </tr>\n",
       "  </thead>\n",
       "  <tbody>\n",
       "    <tr>\n",
       "      <th>0</th>\n",
       "      <td>2278392</td>\n",
       "      <td>8222157</td>\n",
       "      <td>Caucasian</td>\n",
       "      <td>Female</td>\n",
       "      <td>[0-10)</td>\n",
       "      <td>6</td>\n",
       "      <td>25</td>\n",
       "      <td>1</td>\n",
       "      <td>1</td>\n",
       "      <td>250.83</td>\n",
       "      <td>?|?</td>\n",
       "      <td>0</td>\n",
       "      <td>0</td>\n",
       "      <td>0</td>\n",
       "      <td>41</td>\n",
       "      <td>1</td>\n",
       "      <td>1</td>\n",
       "      <td>0</td>\n",
       "      <td>NaN</td>\n",
       "      <td>None</td>\n",
       "      <td>None</td>\n",
       "      <td>No</td>\n",
       "      <td>NO</td>\n",
       "      <td>NaN</td>\n",
       "    </tr>\n",
       "    <tr>\n",
       "      <th>1</th>\n",
       "      <td>149190</td>\n",
       "      <td>55629189</td>\n",
       "      <td>Caucasian</td>\n",
       "      <td>Female</td>\n",
       "      <td>[10-20)</td>\n",
       "      <td>1</td>\n",
       "      <td>1</td>\n",
       "      <td>7</td>\n",
       "      <td>3</td>\n",
       "      <td>276</td>\n",
       "      <td>250.01|255</td>\n",
       "      <td>0</td>\n",
       "      <td>0</td>\n",
       "      <td>0</td>\n",
       "      <td>59</td>\n",
       "      <td>9</td>\n",
       "      <td>18</td>\n",
       "      <td>0</td>\n",
       "      <td>68071-1701</td>\n",
       "      <td>None</td>\n",
       "      <td>None</td>\n",
       "      <td>Ch</td>\n",
       "      <td>&gt;30</td>\n",
       "      <td>Human Insulin</td>\n",
       "    </tr>\n",
       "    <tr>\n",
       "      <th>2</th>\n",
       "      <td>64410</td>\n",
       "      <td>86047875</td>\n",
       "      <td>AfricanAmerican</td>\n",
       "      <td>Female</td>\n",
       "      <td>[20-30)</td>\n",
       "      <td>1</td>\n",
       "      <td>1</td>\n",
       "      <td>7</td>\n",
       "      <td>2</td>\n",
       "      <td>648</td>\n",
       "      <td>250|V27</td>\n",
       "      <td>2</td>\n",
       "      <td>1</td>\n",
       "      <td>0</td>\n",
       "      <td>11</td>\n",
       "      <td>6</td>\n",
       "      <td>13</td>\n",
       "      <td>5</td>\n",
       "      <td>0378-1110</td>\n",
       "      <td>None</td>\n",
       "      <td>None</td>\n",
       "      <td>No</td>\n",
       "      <td>NO</td>\n",
       "      <td>Glipizide</td>\n",
       "    </tr>\n",
       "    <tr>\n",
       "      <th>3</th>\n",
       "      <td>500364</td>\n",
       "      <td>82442376</td>\n",
       "      <td>Caucasian</td>\n",
       "      <td>Male</td>\n",
       "      <td>[30-40)</td>\n",
       "      <td>1</td>\n",
       "      <td>1</td>\n",
       "      <td>7</td>\n",
       "      <td>2</td>\n",
       "      <td>8</td>\n",
       "      <td>250.43|403</td>\n",
       "      <td>0</td>\n",
       "      <td>0</td>\n",
       "      <td>0</td>\n",
       "      <td>44</td>\n",
       "      <td>7</td>\n",
       "      <td>16</td>\n",
       "      <td>1</td>\n",
       "      <td>68071-1701</td>\n",
       "      <td>None</td>\n",
       "      <td>None</td>\n",
       "      <td>Ch</td>\n",
       "      <td>NO</td>\n",
       "      <td>Human Insulin</td>\n",
       "    </tr>\n",
       "    <tr>\n",
       "      <th>4</th>\n",
       "      <td>16680</td>\n",
       "      <td>42519267</td>\n",
       "      <td>Caucasian</td>\n",
       "      <td>Male</td>\n",
       "      <td>[40-50)</td>\n",
       "      <td>1</td>\n",
       "      <td>1</td>\n",
       "      <td>7</td>\n",
       "      <td>1</td>\n",
       "      <td>197</td>\n",
       "      <td>157|250</td>\n",
       "      <td>0</td>\n",
       "      <td>0</td>\n",
       "      <td>0</td>\n",
       "      <td>51</td>\n",
       "      <td>5</td>\n",
       "      <td>8</td>\n",
       "      <td>0</td>\n",
       "      <td>0049-4110</td>\n",
       "      <td>None</td>\n",
       "      <td>None</td>\n",
       "      <td>Ch</td>\n",
       "      <td>NO</td>\n",
       "      <td>Glipizide</td>\n",
       "    </tr>\n",
       "    <tr>\n",
       "      <th>5</th>\n",
       "      <td>16680</td>\n",
       "      <td>42519267</td>\n",
       "      <td>Caucasian</td>\n",
       "      <td>Male</td>\n",
       "      <td>[40-50)</td>\n",
       "      <td>1</td>\n",
       "      <td>1</td>\n",
       "      <td>7</td>\n",
       "      <td>1</td>\n",
       "      <td>197</td>\n",
       "      <td>157|250</td>\n",
       "      <td>0</td>\n",
       "      <td>0</td>\n",
       "      <td>0</td>\n",
       "      <td>51</td>\n",
       "      <td>5</td>\n",
       "      <td>8</td>\n",
       "      <td>0</td>\n",
       "      <td>68071-1701</td>\n",
       "      <td>None</td>\n",
       "      <td>None</td>\n",
       "      <td>Ch</td>\n",
       "      <td>NO</td>\n",
       "      <td>Human Insulin</td>\n",
       "    </tr>\n",
       "    <tr>\n",
       "      <th>6</th>\n",
       "      <td>35754</td>\n",
       "      <td>82637451</td>\n",
       "      <td>Caucasian</td>\n",
       "      <td>Male</td>\n",
       "      <td>[50-60)</td>\n",
       "      <td>2</td>\n",
       "      <td>1</td>\n",
       "      <td>2</td>\n",
       "      <td>3</td>\n",
       "      <td>414</td>\n",
       "      <td>411|250</td>\n",
       "      <td>0</td>\n",
       "      <td>0</td>\n",
       "      <td>0</td>\n",
       "      <td>31</td>\n",
       "      <td>9</td>\n",
       "      <td>16</td>\n",
       "      <td>6</td>\n",
       "      <td>47918-902</td>\n",
       "      <td>None</td>\n",
       "      <td>None</td>\n",
       "      <td>No</td>\n",
       "      <td>&gt;30</td>\n",
       "      <td>Insulin Human</td>\n",
       "    </tr>\n",
       "    <tr>\n",
       "      <th>7</th>\n",
       "      <td>55842</td>\n",
       "      <td>84259809</td>\n",
       "      <td>Caucasian</td>\n",
       "      <td>Male</td>\n",
       "      <td>[60-70)</td>\n",
       "      <td>3</td>\n",
       "      <td>1</td>\n",
       "      <td>2</td>\n",
       "      <td>4</td>\n",
       "      <td>414</td>\n",
       "      <td>411|V45</td>\n",
       "      <td>0</td>\n",
       "      <td>0</td>\n",
       "      <td>0</td>\n",
       "      <td>70</td>\n",
       "      <td>7</td>\n",
       "      <td>21</td>\n",
       "      <td>1</td>\n",
       "      <td>35208-001</td>\n",
       "      <td>None</td>\n",
       "      <td>None</td>\n",
       "      <td>Ch</td>\n",
       "      <td>NO</td>\n",
       "      <td>Metformin Hydrochloride</td>\n",
       "    </tr>\n",
       "    <tr>\n",
       "      <th>8</th>\n",
       "      <td>55842</td>\n",
       "      <td>84259809</td>\n",
       "      <td>Caucasian</td>\n",
       "      <td>Male</td>\n",
       "      <td>[60-70)</td>\n",
       "      <td>3</td>\n",
       "      <td>1</td>\n",
       "      <td>2</td>\n",
       "      <td>4</td>\n",
       "      <td>414</td>\n",
       "      <td>411|V45</td>\n",
       "      <td>0</td>\n",
       "      <td>0</td>\n",
       "      <td>0</td>\n",
       "      <td>70</td>\n",
       "      <td>7</td>\n",
       "      <td>21</td>\n",
       "      <td>1</td>\n",
       "      <td>16729-001</td>\n",
       "      <td>None</td>\n",
       "      <td>None</td>\n",
       "      <td>Ch</td>\n",
       "      <td>NO</td>\n",
       "      <td>Glimepiride</td>\n",
       "    </tr>\n",
       "    <tr>\n",
       "      <th>9</th>\n",
       "      <td>55842</td>\n",
       "      <td>84259809</td>\n",
       "      <td>Caucasian</td>\n",
       "      <td>Male</td>\n",
       "      <td>[60-70)</td>\n",
       "      <td>3</td>\n",
       "      <td>1</td>\n",
       "      <td>2</td>\n",
       "      <td>4</td>\n",
       "      <td>414</td>\n",
       "      <td>411|V45</td>\n",
       "      <td>0</td>\n",
       "      <td>0</td>\n",
       "      <td>0</td>\n",
       "      <td>70</td>\n",
       "      <td>7</td>\n",
       "      <td>21</td>\n",
       "      <td>1</td>\n",
       "      <td>47918-891</td>\n",
       "      <td>None</td>\n",
       "      <td>None</td>\n",
       "      <td>Ch</td>\n",
       "      <td>NO</td>\n",
       "      <td>Insulin Human</td>\n",
       "    </tr>\n",
       "    <tr>\n",
       "      <th>10</th>\n",
       "      <td>63768</td>\n",
       "      <td>114882984</td>\n",
       "      <td>Caucasian</td>\n",
       "      <td>Male</td>\n",
       "      <td>[70-80)</td>\n",
       "      <td>1</td>\n",
       "      <td>1</td>\n",
       "      <td>7</td>\n",
       "      <td>5</td>\n",
       "      <td>428</td>\n",
       "      <td>492|250</td>\n",
       "      <td>0</td>\n",
       "      <td>0</td>\n",
       "      <td>0</td>\n",
       "      <td>73</td>\n",
       "      <td>8</td>\n",
       "      <td>12</td>\n",
       "      <td>0</td>\n",
       "      <td>0115-1742</td>\n",
       "      <td>None</td>\n",
       "      <td>None</td>\n",
       "      <td>No</td>\n",
       "      <td>&gt;30</td>\n",
       "      <td>Glyburide</td>\n",
       "    </tr>\n",
       "    <tr>\n",
       "      <th>11</th>\n",
       "      <td>12522</td>\n",
       "      <td>48330783</td>\n",
       "      <td>Caucasian</td>\n",
       "      <td>Female</td>\n",
       "      <td>[80-90)</td>\n",
       "      <td>2</td>\n",
       "      <td>1</td>\n",
       "      <td>4</td>\n",
       "      <td>13</td>\n",
       "      <td>398</td>\n",
       "      <td>427|38</td>\n",
       "      <td>0</td>\n",
       "      <td>0</td>\n",
       "      <td>0</td>\n",
       "      <td>68</td>\n",
       "      <td>8</td>\n",
       "      <td>28</td>\n",
       "      <td>2</td>\n",
       "      <td>0049-4110</td>\n",
       "      <td>None</td>\n",
       "      <td>None</td>\n",
       "      <td>Ch</td>\n",
       "      <td>NO</td>\n",
       "      <td>Glipizide</td>\n",
       "    </tr>\n",
       "    <tr>\n",
       "      <th>12</th>\n",
       "      <td>12522</td>\n",
       "      <td>48330783</td>\n",
       "      <td>Caucasian</td>\n",
       "      <td>Female</td>\n",
       "      <td>[80-90)</td>\n",
       "      <td>2</td>\n",
       "      <td>1</td>\n",
       "      <td>4</td>\n",
       "      <td>13</td>\n",
       "      <td>398</td>\n",
       "      <td>427|38</td>\n",
       "      <td>0</td>\n",
       "      <td>0</td>\n",
       "      <td>0</td>\n",
       "      <td>68</td>\n",
       "      <td>8</td>\n",
       "      <td>28</td>\n",
       "      <td>2</td>\n",
       "      <td>47918-902</td>\n",
       "      <td>None</td>\n",
       "      <td>None</td>\n",
       "      <td>Ch</td>\n",
       "      <td>NO</td>\n",
       "      <td>Insulin Human</td>\n",
       "    </tr>\n",
       "    <tr>\n",
       "      <th>13</th>\n",
       "      <td>15738</td>\n",
       "      <td>63555939</td>\n",
       "      <td>Caucasian</td>\n",
       "      <td>Female</td>\n",
       "      <td>[90-100)</td>\n",
       "      <td>3</td>\n",
       "      <td>3</td>\n",
       "      <td>4</td>\n",
       "      <td>12</td>\n",
       "      <td>434</td>\n",
       "      <td>198|486</td>\n",
       "      <td>0</td>\n",
       "      <td>0</td>\n",
       "      <td>0</td>\n",
       "      <td>33</td>\n",
       "      <td>8</td>\n",
       "      <td>18</td>\n",
       "      <td>3</td>\n",
       "      <td>0173-0863</td>\n",
       "      <td>None</td>\n",
       "      <td>None</td>\n",
       "      <td>Ch</td>\n",
       "      <td>NO</td>\n",
       "      <td>Rosiglitazone Maleate</td>\n",
       "    </tr>\n",
       "    <tr>\n",
       "      <th>14</th>\n",
       "      <td>15738</td>\n",
       "      <td>63555939</td>\n",
       "      <td>Caucasian</td>\n",
       "      <td>Female</td>\n",
       "      <td>[90-100)</td>\n",
       "      <td>3</td>\n",
       "      <td>3</td>\n",
       "      <td>4</td>\n",
       "      <td>12</td>\n",
       "      <td>434</td>\n",
       "      <td>198|486</td>\n",
       "      <td>0</td>\n",
       "      <td>0</td>\n",
       "      <td>0</td>\n",
       "      <td>33</td>\n",
       "      <td>8</td>\n",
       "      <td>18</td>\n",
       "      <td>3</td>\n",
       "      <td>68071-1701</td>\n",
       "      <td>None</td>\n",
       "      <td>None</td>\n",
       "      <td>Ch</td>\n",
       "      <td>NO</td>\n",
       "      <td>Human Insulin</td>\n",
       "    </tr>\n",
       "    <tr>\n",
       "      <th>15</th>\n",
       "      <td>28236</td>\n",
       "      <td>89869032</td>\n",
       "      <td>AfricanAmerican</td>\n",
       "      <td>Female</td>\n",
       "      <td>[40-50)</td>\n",
       "      <td>1</td>\n",
       "      <td>1</td>\n",
       "      <td>7</td>\n",
       "      <td>9</td>\n",
       "      <td>250.7</td>\n",
       "      <td>403|996</td>\n",
       "      <td>0</td>\n",
       "      <td>0</td>\n",
       "      <td>0</td>\n",
       "      <td>47</td>\n",
       "      <td>9</td>\n",
       "      <td>17</td>\n",
       "      <td>2</td>\n",
       "      <td>68071-1701</td>\n",
       "      <td>None</td>\n",
       "      <td>None</td>\n",
       "      <td>No</td>\n",
       "      <td>&gt;30</td>\n",
       "      <td>Human Insulin</td>\n",
       "    </tr>\n",
       "    <tr>\n",
       "      <th>16</th>\n",
       "      <td>36900</td>\n",
       "      <td>77391171</td>\n",
       "      <td>AfricanAmerican</td>\n",
       "      <td>Male</td>\n",
       "      <td>[60-70)</td>\n",
       "      <td>2</td>\n",
       "      <td>1</td>\n",
       "      <td>4</td>\n",
       "      <td>7</td>\n",
       "      <td>157</td>\n",
       "      <td>288|197</td>\n",
       "      <td>0</td>\n",
       "      <td>0</td>\n",
       "      <td>0</td>\n",
       "      <td>62</td>\n",
       "      <td>7</td>\n",
       "      <td>11</td>\n",
       "      <td>0</td>\n",
       "      <td>0115-1743</td>\n",
       "      <td>None</td>\n",
       "      <td>None</td>\n",
       "      <td>Ch</td>\n",
       "      <td>&lt;30</td>\n",
       "      <td>Glyburide</td>\n",
       "    </tr>\n",
       "    <tr>\n",
       "      <th>17</th>\n",
       "      <td>36900</td>\n",
       "      <td>77391171</td>\n",
       "      <td>AfricanAmerican</td>\n",
       "      <td>Male</td>\n",
       "      <td>[60-70)</td>\n",
       "      <td>2</td>\n",
       "      <td>1</td>\n",
       "      <td>4</td>\n",
       "      <td>7</td>\n",
       "      <td>157</td>\n",
       "      <td>288|197</td>\n",
       "      <td>0</td>\n",
       "      <td>0</td>\n",
       "      <td>0</td>\n",
       "      <td>62</td>\n",
       "      <td>7</td>\n",
       "      <td>11</td>\n",
       "      <td>0</td>\n",
       "      <td>50090-0353</td>\n",
       "      <td>None</td>\n",
       "      <td>None</td>\n",
       "      <td>Ch</td>\n",
       "      <td>&lt;30</td>\n",
       "      <td>Insulin Human</td>\n",
       "    </tr>\n",
       "    <tr>\n",
       "      <th>18</th>\n",
       "      <td>40926</td>\n",
       "      <td>85504905</td>\n",
       "      <td>Caucasian</td>\n",
       "      <td>Female</td>\n",
       "      <td>[40-50)</td>\n",
       "      <td>1</td>\n",
       "      <td>3</td>\n",
       "      <td>7</td>\n",
       "      <td>7</td>\n",
       "      <td>428</td>\n",
       "      <td>250.43|250.6</td>\n",
       "      <td>0</td>\n",
       "      <td>0</td>\n",
       "      <td>1</td>\n",
       "      <td>60</td>\n",
       "      <td>8</td>\n",
       "      <td>15</td>\n",
       "      <td>0</td>\n",
       "      <td>0378-7185</td>\n",
       "      <td>None</td>\n",
       "      <td>None</td>\n",
       "      <td>Ch</td>\n",
       "      <td>&lt;30</td>\n",
       "      <td>Metformin Hydrochloride</td>\n",
       "    </tr>\n",
       "    <tr>\n",
       "      <th>19</th>\n",
       "      <td>40926</td>\n",
       "      <td>85504905</td>\n",
       "      <td>Caucasian</td>\n",
       "      <td>Female</td>\n",
       "      <td>[40-50)</td>\n",
       "      <td>1</td>\n",
       "      <td>3</td>\n",
       "      <td>7</td>\n",
       "      <td>7</td>\n",
       "      <td>428</td>\n",
       "      <td>250.43|250.6</td>\n",
       "      <td>0</td>\n",
       "      <td>0</td>\n",
       "      <td>1</td>\n",
       "      <td>60</td>\n",
       "      <td>8</td>\n",
       "      <td>15</td>\n",
       "      <td>0</td>\n",
       "      <td>60429-484</td>\n",
       "      <td>None</td>\n",
       "      <td>None</td>\n",
       "      <td>Ch</td>\n",
       "      <td>&lt;30</td>\n",
       "      <td>Repaglinide</td>\n",
       "    </tr>\n",
       "  </tbody>\n",
       "</table>\n",
       "</div>"
      ],
      "text/plain": [
       "    encounter_id  patient_nbr             race  gender       age  \\\n",
       "0        2278392      8222157        Caucasian  Female    [0-10)   \n",
       "1         149190     55629189        Caucasian  Female   [10-20)   \n",
       "2          64410     86047875  AfricanAmerican  Female   [20-30)   \n",
       "3         500364     82442376        Caucasian    Male   [30-40)   \n",
       "4          16680     42519267        Caucasian    Male   [40-50)   \n",
       "5          16680     42519267        Caucasian    Male   [40-50)   \n",
       "6          35754     82637451        Caucasian    Male   [50-60)   \n",
       "7          55842     84259809        Caucasian    Male   [60-70)   \n",
       "8          55842     84259809        Caucasian    Male   [60-70)   \n",
       "9          55842     84259809        Caucasian    Male   [60-70)   \n",
       "10         63768    114882984        Caucasian    Male   [70-80)   \n",
       "11         12522     48330783        Caucasian  Female   [80-90)   \n",
       "12         12522     48330783        Caucasian  Female   [80-90)   \n",
       "13         15738     63555939        Caucasian  Female  [90-100)   \n",
       "14         15738     63555939        Caucasian  Female  [90-100)   \n",
       "15         28236     89869032  AfricanAmerican  Female   [40-50)   \n",
       "16         36900     77391171  AfricanAmerican    Male   [60-70)   \n",
       "17         36900     77391171  AfricanAmerican    Male   [60-70)   \n",
       "18         40926     85504905        Caucasian  Female   [40-50)   \n",
       "19         40926     85504905        Caucasian  Female   [40-50)   \n",
       "\n",
       "    admission_type_id  discharge_disposition_id  admission_source_id  \\\n",
       "0                   6                        25                    1   \n",
       "1                   1                         1                    7   \n",
       "2                   1                         1                    7   \n",
       "3                   1                         1                    7   \n",
       "4                   1                         1                    7   \n",
       "5                   1                         1                    7   \n",
       "6                   2                         1                    2   \n",
       "7                   3                         1                    2   \n",
       "8                   3                         1                    2   \n",
       "9                   3                         1                    2   \n",
       "10                  1                         1                    7   \n",
       "11                  2                         1                    4   \n",
       "12                  2                         1                    4   \n",
       "13                  3                         3                    4   \n",
       "14                  3                         3                    4   \n",
       "15                  1                         1                    7   \n",
       "16                  2                         1                    4   \n",
       "17                  2                         1                    4   \n",
       "18                  1                         3                    7   \n",
       "19                  1                         3                    7   \n",
       "\n",
       "    time_in_hospital primary_diagnosis_code other_diagnosis_codes  \\\n",
       "0                  1                 250.83                   ?|?   \n",
       "1                  3                    276            250.01|255   \n",
       "2                  2                    648               250|V27   \n",
       "3                  2                      8            250.43|403   \n",
       "4                  1                    197               157|250   \n",
       "5                  1                    197               157|250   \n",
       "6                  3                    414               411|250   \n",
       "7                  4                    414               411|V45   \n",
       "8                  4                    414               411|V45   \n",
       "9                  4                    414               411|V45   \n",
       "10                 5                    428               492|250   \n",
       "11                13                    398                427|38   \n",
       "12                13                    398                427|38   \n",
       "13                12                    434               198|486   \n",
       "14                12                    434               198|486   \n",
       "15                 9                  250.7               403|996   \n",
       "16                 7                    157               288|197   \n",
       "17                 7                    157               288|197   \n",
       "18                 7                    428          250.43|250.6   \n",
       "19                 7                    428          250.43|250.6   \n",
       "\n",
       "    number_outpatient  number_inpatient  number_emergency  num_lab_procedures  \\\n",
       "0                   0                 0                 0                  41   \n",
       "1                   0                 0                 0                  59   \n",
       "2                   2                 1                 0                  11   \n",
       "3                   0                 0                 0                  44   \n",
       "4                   0                 0                 0                  51   \n",
       "5                   0                 0                 0                  51   \n",
       "6                   0                 0                 0                  31   \n",
       "7                   0                 0                 0                  70   \n",
       "8                   0                 0                 0                  70   \n",
       "9                   0                 0                 0                  70   \n",
       "10                  0                 0                 0                  73   \n",
       "11                  0                 0                 0                  68   \n",
       "12                  0                 0                 0                  68   \n",
       "13                  0                 0                 0                  33   \n",
       "14                  0                 0                 0                  33   \n",
       "15                  0                 0                 0                  47   \n",
       "16                  0                 0                 0                  62   \n",
       "17                  0                 0                 0                  62   \n",
       "18                  0                 0                 1                  60   \n",
       "19                  0                 0                 1                  60   \n",
       "\n",
       "    number_diagnoses  num_medications  num_procedures    ndc_code  \\\n",
       "0                  1                1               0         NaN   \n",
       "1                  9               18               0  68071-1701   \n",
       "2                  6               13               5   0378-1110   \n",
       "3                  7               16               1  68071-1701   \n",
       "4                  5                8               0   0049-4110   \n",
       "5                  5                8               0  68071-1701   \n",
       "6                  9               16               6   47918-902   \n",
       "7                  7               21               1   35208-001   \n",
       "8                  7               21               1   16729-001   \n",
       "9                  7               21               1   47918-891   \n",
       "10                 8               12               0   0115-1742   \n",
       "11                 8               28               2   0049-4110   \n",
       "12                 8               28               2   47918-902   \n",
       "13                 8               18               3   0173-0863   \n",
       "14                 8               18               3  68071-1701   \n",
       "15                 9               17               2  68071-1701   \n",
       "16                 7               11               0   0115-1743   \n",
       "17                 7               11               0  50090-0353   \n",
       "18                 8               15               0   0378-7185   \n",
       "19                 8               15               0   60429-484   \n",
       "\n",
       "   max_glu_serum A1Cresult change readmitted        generic_drug_name  \n",
       "0           None      None     No         NO                      NaN  \n",
       "1           None      None     Ch        >30            Human Insulin  \n",
       "2           None      None     No         NO                Glipizide  \n",
       "3           None      None     Ch         NO            Human Insulin  \n",
       "4           None      None     Ch         NO                Glipizide  \n",
       "5           None      None     Ch         NO            Human Insulin  \n",
       "6           None      None     No        >30            Insulin Human  \n",
       "7           None      None     Ch         NO  Metformin Hydrochloride  \n",
       "8           None      None     Ch         NO              Glimepiride  \n",
       "9           None      None     Ch         NO            Insulin Human  \n",
       "10          None      None     No        >30                Glyburide  \n",
       "11          None      None     Ch         NO                Glipizide  \n",
       "12          None      None     Ch         NO            Insulin Human  \n",
       "13          None      None     Ch         NO    Rosiglitazone Maleate  \n",
       "14          None      None     Ch         NO            Human Insulin  \n",
       "15          None      None     No        >30            Human Insulin  \n",
       "16          None      None     Ch        <30                Glyburide  \n",
       "17          None      None     Ch        <30            Insulin Human  \n",
       "18          None      None     Ch        <30  Metformin Hydrochloride  \n",
       "19          None      None     Ch        <30              Repaglinide  "
      ]
     },
     "execution_count": 27,
     "metadata": {},
     "output_type": "execute_result"
    }
   ],
   "source": [
    "df_l.head(20)"
   ]
  },
  {
   "cell_type": "code",
   "execution_count": 28,
   "metadata": {},
   "outputs": [
    {
     "data": {
      "text/plain": [
       "encounter_id                    0\n",
       "patient_nbr                     0\n",
       "race                            0\n",
       "gender                          0\n",
       "age                             0\n",
       "admission_type_id               0\n",
       "discharge_disposition_id        0\n",
       "admission_source_id             0\n",
       "time_in_hospital                0\n",
       "primary_diagnosis_code          0\n",
       "other_diagnosis_codes           0\n",
       "number_outpatient               0\n",
       "number_inpatient                0\n",
       "number_emergency                0\n",
       "num_lab_procedures              0\n",
       "number_diagnoses                0\n",
       "num_medications                 0\n",
       "num_procedures                  0\n",
       "ndc_code                    16873\n",
       "max_glu_serum                   0\n",
       "A1Cresult                       0\n",
       "change                          0\n",
       "readmitted                      0\n",
       "generic_drug_name           16873\n",
       "dtype: int64"
      ]
     },
     "execution_count": 28,
     "metadata": {},
     "output_type": "execute_result"
    }
   ],
   "source": [
    "df_l.isnull().sum()"
   ]
  },
  {
   "cell_type": "code",
   "execution_count": 29,
   "metadata": {},
   "outputs": [],
   "source": [
    "def aggregate_dataset(df, grouping_field_list,  array_field):\n",
    "    df = df.groupby(grouping_field_list)['encounter_id', \n",
    "            array_field].apply(lambda x: x[array_field].values.tolist()).reset_index().rename(columns={\n",
    "    0: array_field + \"_array\"}) \n",
    "    \n",
    "    dummy_df = pd.get_dummies(df[array_field + '_array'].apply(pd.Series).stack()).sum(level=0)\n",
    "    dummy_col_list = [x.replace(\" \", \"_\") for x in list(dummy_df.columns)] \n",
    "    mapping_name_dict = dict(zip([x for x in list(dummy_df.columns)], dummy_col_list ) ) \n",
    "    concat_df = pd.concat([df, dummy_df], axis=1)\n",
    "    new_col_list = [x.replace(\" \", \"_\") for x in list(concat_df.columns)] \n",
    "    concat_df.columns = new_col_list\n",
    "\n",
    "    return concat_df, dummy_col_list"
   ]
  },
  {
   "cell_type": "code",
   "execution_count": 30,
   "metadata": {
    "scrolled": true
   },
   "outputs": [
    {
     "name": "stderr",
     "output_type": "stream",
     "text": [
      "/opt/conda/lib/python3.7/site-packages/ipykernel_launcher.py:3: FutureWarning: Indexing with multiple keys (implicitly converted to a tuple of keys) will be deprecated, use a list instead.\n",
      "  This is separate from the ipykernel package so we can avoid doing imports until\n"
     ]
    }
   ],
   "source": [
    "exclusion_list = ['generic_drug_name',\"ndc_code\"]\n",
    "grouping_field_list = [c for c in df_l.columns if c not in exclusion_list]\n",
    "agg_drug_df, ndc_col_list = aggregate_dataset(df_l, grouping_field_list, 'generic_drug_name')"
   ]
  },
  {
   "cell_type": "code",
   "execution_count": 31,
   "metadata": {},
   "outputs": [
    {
     "data": {
      "text/plain": [
       "69560"
      ]
     },
     "execution_count": 31,
     "metadata": {},
     "output_type": "execute_result"
    }
   ],
   "source": [
    "# df_l=first_encounter_df.drop(\"weight\",axis='columns')\n",
    "# df_l=df_l.drop(\"payer_code\",axis='columns')\n",
    "# df_l=df_l.drop(\"medical_specialty\",axis='columns')\n",
    "# df_l.head(10)\n",
    "# non_grouping=[\"ndc_code\",\"generic_drug_name\"]\n",
    "# grouping_field_list=[x for x in df_l.columns if x not in non_grouping]\n",
    "# gr_df=df_l.groupby(grouping_field_list)\n",
    "agg_drug_df[\"patient_nbr\"].nunique()"
   ]
  },
  {
   "cell_type": "code",
   "execution_count": 32,
   "metadata": {},
   "outputs": [
    {
     "data": {
      "text/plain": [
       "encounter_id                                      0\n",
       "patient_nbr                                       0\n",
       "race                                              0\n",
       "gender                                            0\n",
       "age                                               0\n",
       "admission_type_id                                 0\n",
       "discharge_disposition_id                          0\n",
       "admission_source_id                               0\n",
       "time_in_hospital                                  0\n",
       "primary_diagnosis_code                            0\n",
       "other_diagnosis_codes                           229\n",
       "number_outpatient                                 0\n",
       "number_inpatient                                  0\n",
       "number_emergency                                  0\n",
       "num_lab_procedures                                0\n",
       "number_diagnoses                                  0\n",
       "num_medications                                   0\n",
       "num_procedures                                    0\n",
       "max_glu_serum                                     0\n",
       "A1Cresult                                         0\n",
       "change                                            0\n",
       "readmitted                                        0\n",
       "generic_drug_name_array                           0\n",
       "Acarbose                                      16873\n",
       "Glimepiride                                   16873\n",
       "Glipizide                                     16873\n",
       "Glipizide_And_Metformin_Hcl                   16873\n",
       "Glipizide_And_Metformin_Hydrochloride         16873\n",
       "Glyburide                                     16873\n",
       "Glyburide_And_Metformin_Hydrochloride         16873\n",
       "Glyburide-metformin_Hydrochloride             16873\n",
       "Human_Insulin                                 16873\n",
       "Insulin_Human                                 16873\n",
       "Metformin_Hcl                                 16873\n",
       "Metformin_Hydrochloride                       16873\n",
       "Miglitol                                      16873\n",
       "Nateglinide                                   16873\n",
       "Pioglitazole_And_Metformin_Hydrochloride      16873\n",
       "Pioglitazone                                  16873\n",
       "Pioglitazone_Hydrochloride_And_Glimepiride    16873\n",
       "Repaglinide                                   16873\n",
       "Rosiglitazone_Maleate                         16873\n",
       "Tolazamide                                    16873\n",
       "Tolbutamide                                   16873\n",
       "dtype: int64"
      ]
     },
     "execution_count": 32,
     "metadata": {},
     "output_type": "execute_result"
    }
   ],
   "source": [
    "agg_drug_df=agg_drug_df.drop(agg_drug_df[agg_drug_df[\"gender\"]=='Unknown/Invalid'].index)\n",
    "agg_drug_df[\"other_diagnosis_codes\"]=agg_drug_df[\"other_diagnosis_codes\"].replace(\"?|?\",np.nan)\n",
    "#agg_drug_df.head(10)\n",
    "agg_drug_df.isna().sum()"
   ]
  },
  {
   "cell_type": "code",
   "execution_count": 128,
   "metadata": {},
   "outputs": [
    {
     "ename": "AttributeError",
     "evalue": "'list' object has no attribute 'split'",
     "output_type": "error",
     "traceback": [
      "\u001b[0;31m---------------------------------------------------------------------------\u001b[0m",
      "\u001b[0;31mAttributeError\u001b[0m                            Traceback (most recent call last)",
      "\u001b[0;32m<ipython-input-128-14bf331826f8>\u001b[0m in \u001b[0;36m<module>\u001b[0;34m\u001b[0m\n\u001b[0;32m----> 1\u001b[0;31m \u001b[0magg_drug_df\u001b[0m\u001b[0;34m[\u001b[0m\u001b[0;34m'other_diagnosis_codes'\u001b[0m\u001b[0;34m]\u001b[0m\u001b[0;34m=\u001b[0m \u001b[0magg_drug_df\u001b[0m\u001b[0;34m[\u001b[0m\u001b[0;34m'other_diagnosis_codes'\u001b[0m\u001b[0;34m]\u001b[0m\u001b[0;34m.\u001b[0m\u001b[0mapply\u001b[0m\u001b[0;34m(\u001b[0m\u001b[0;32mlambda\u001b[0m \u001b[0mx\u001b[0m\u001b[0;34m:\u001b[0m \u001b[0mx\u001b[0m\u001b[0;34m.\u001b[0m\u001b[0msplit\u001b[0m\u001b[0;34m(\u001b[0m\u001b[0;34m\"|\"\u001b[0m\u001b[0;34m)\u001b[0m \u001b[0;32mif\u001b[0m \u001b[0mx\u001b[0m \u001b[0;32mis\u001b[0m \u001b[0;32mnot\u001b[0m \u001b[0mnp\u001b[0m\u001b[0;34m.\u001b[0m\u001b[0mnan\u001b[0m \u001b[0;32melse\u001b[0m \u001b[0;34m[\u001b[0m\u001b[0;34m]\u001b[0m\u001b[0;34m)\u001b[0m\u001b[0;34m\u001b[0m\u001b[0;34m\u001b[0m\u001b[0m\n\u001b[0m\u001b[1;32m      2\u001b[0m \u001b[0magg_drug_df\u001b[0m\u001b[0;34m.\u001b[0m\u001b[0mhead\u001b[0m\u001b[0;34m(\u001b[0m\u001b[0;34m)\u001b[0m\u001b[0;34m\u001b[0m\u001b[0;34m\u001b[0m\u001b[0m\n",
      "\u001b[0;32m/opt/conda/lib/python3.7/site-packages/pandas/core/series.py\u001b[0m in \u001b[0;36mapply\u001b[0;34m(self, func, convert_dtype, args, **kwds)\u001b[0m\n\u001b[1;32m   3846\u001b[0m             \u001b[0;32melse\u001b[0m\u001b[0;34m:\u001b[0m\u001b[0;34m\u001b[0m\u001b[0;34m\u001b[0m\u001b[0m\n\u001b[1;32m   3847\u001b[0m                 \u001b[0mvalues\u001b[0m \u001b[0;34m=\u001b[0m \u001b[0mself\u001b[0m\u001b[0;34m.\u001b[0m\u001b[0mastype\u001b[0m\u001b[0;34m(\u001b[0m\u001b[0mobject\u001b[0m\u001b[0;34m)\u001b[0m\u001b[0;34m.\u001b[0m\u001b[0mvalues\u001b[0m\u001b[0;34m\u001b[0m\u001b[0;34m\u001b[0m\u001b[0m\n\u001b[0;32m-> 3848\u001b[0;31m                 \u001b[0mmapped\u001b[0m \u001b[0;34m=\u001b[0m \u001b[0mlib\u001b[0m\u001b[0;34m.\u001b[0m\u001b[0mmap_infer\u001b[0m\u001b[0;34m(\u001b[0m\u001b[0mvalues\u001b[0m\u001b[0;34m,\u001b[0m \u001b[0mf\u001b[0m\u001b[0;34m,\u001b[0m \u001b[0mconvert\u001b[0m\u001b[0;34m=\u001b[0m\u001b[0mconvert_dtype\u001b[0m\u001b[0;34m)\u001b[0m\u001b[0;34m\u001b[0m\u001b[0;34m\u001b[0m\u001b[0m\n\u001b[0m\u001b[1;32m   3849\u001b[0m \u001b[0;34m\u001b[0m\u001b[0m\n\u001b[1;32m   3850\u001b[0m         \u001b[0;32mif\u001b[0m \u001b[0mlen\u001b[0m\u001b[0;34m(\u001b[0m\u001b[0mmapped\u001b[0m\u001b[0;34m)\u001b[0m \u001b[0;32mand\u001b[0m \u001b[0misinstance\u001b[0m\u001b[0;34m(\u001b[0m\u001b[0mmapped\u001b[0m\u001b[0;34m[\u001b[0m\u001b[0;36m0\u001b[0m\u001b[0;34m]\u001b[0m\u001b[0;34m,\u001b[0m \u001b[0mSeries\u001b[0m\u001b[0;34m)\u001b[0m\u001b[0;34m:\u001b[0m\u001b[0;34m\u001b[0m\u001b[0;34m\u001b[0m\u001b[0m\n",
      "\u001b[0;32mpandas/_libs/lib.pyx\u001b[0m in \u001b[0;36mpandas._libs.lib.map_infer\u001b[0;34m()\u001b[0m\n",
      "\u001b[0;32m<ipython-input-128-14bf331826f8>\u001b[0m in \u001b[0;36m<lambda>\u001b[0;34m(x)\u001b[0m\n\u001b[0;32m----> 1\u001b[0;31m \u001b[0magg_drug_df\u001b[0m\u001b[0;34m[\u001b[0m\u001b[0;34m'other_diagnosis_codes'\u001b[0m\u001b[0;34m]\u001b[0m\u001b[0;34m=\u001b[0m \u001b[0magg_drug_df\u001b[0m\u001b[0;34m[\u001b[0m\u001b[0;34m'other_diagnosis_codes'\u001b[0m\u001b[0;34m]\u001b[0m\u001b[0;34m.\u001b[0m\u001b[0mapply\u001b[0m\u001b[0;34m(\u001b[0m\u001b[0;32mlambda\u001b[0m \u001b[0mx\u001b[0m\u001b[0;34m:\u001b[0m \u001b[0mx\u001b[0m\u001b[0;34m.\u001b[0m\u001b[0msplit\u001b[0m\u001b[0;34m(\u001b[0m\u001b[0;34m\"|\"\u001b[0m\u001b[0;34m)\u001b[0m \u001b[0;32mif\u001b[0m \u001b[0mx\u001b[0m \u001b[0;32mis\u001b[0m \u001b[0;32mnot\u001b[0m \u001b[0mnp\u001b[0m\u001b[0;34m.\u001b[0m\u001b[0mnan\u001b[0m \u001b[0;32melse\u001b[0m \u001b[0;34m[\u001b[0m\u001b[0;34m]\u001b[0m\u001b[0;34m)\u001b[0m\u001b[0;34m\u001b[0m\u001b[0;34m\u001b[0m\u001b[0m\n\u001b[0m\u001b[1;32m      2\u001b[0m \u001b[0magg_drug_df\u001b[0m\u001b[0;34m.\u001b[0m\u001b[0mhead\u001b[0m\u001b[0;34m(\u001b[0m\u001b[0;34m)\u001b[0m\u001b[0;34m\u001b[0m\u001b[0;34m\u001b[0m\u001b[0m\n",
      "\u001b[0;31mAttributeError\u001b[0m: 'list' object has no attribute 'split'"
     ]
    }
   ],
   "source": [
    "\n",
    "agg_drug_df['other_diagnosis_codes']= agg_drug_df['other_diagnosis_codes'].apply(lambda x: x.split(\"|\") if x is not np.nan else [])\n",
    "agg_drug_df.head()"
   ]
  },
  {
   "cell_type": "code",
   "execution_count": 129,
   "metadata": {},
   "outputs": [
    {
     "name": "stdout",
     "output_type": "stream",
     "text": [
      "69559\n",
      "69559\n",
      "69559\n"
     ]
    }
   ],
   "source": [
    "print(agg_drug_df[\"encounter_id\"].count())\n",
    "print(agg_drug_df[\"patient_nbr\"].count())\n",
    "print(len(agg_drug_df[\"patient_nbr\"]))"
   ]
  },
  {
   "cell_type": "code",
   "execution_count": 130,
   "metadata": {},
   "outputs": [],
   "source": [
    "\n",
    "assert len(agg_drug_df) == agg_drug_df['patient_nbr'].nunique() == agg_drug_df['encounter_id'].nunique()"
   ]
  },
  {
   "cell_type": "markdown",
   "metadata": {},
   "source": [
    "## Prepare Fields and Cast Dataset "
   ]
  },
  {
   "cell_type": "markdown",
   "metadata": {},
   "source": [
    "### Feature Selection"
   ]
  },
  {
   "cell_type": "markdown",
   "metadata": {},
   "source": [
    "**Question 5**: After you have aggregated the dataset to the right level, we can do feature selection (we will include the ndc_col_list, dummy column features too). In the block below, please select the categorical and numerical features that you will use for the model, so that we can create a dataset subset. \n",
    "\n",
    "For the payer_code and weight fields, please provide whether you think we should include/exclude the field in our model and give a justification/rationale for this based off of the statistics of the data. Feel free to use visualizations or summary statistics to support your choice."
   ]
  },
  {
   "cell_type": "markdown",
   "metadata": {},
   "source": [
    "Student response: For the weight, payer_code, medical_specialty I think they should be dropped from the dataset because most of these columns data is missing (139122,54190,69463), Also I think payer_code,medical_specialty are hardly relevant to the main goal of the project."
   ]
  },
  {
   "cell_type": "code",
   "execution_count": 131,
   "metadata": {},
   "outputs": [],
   "source": [
    "'''\n",
    "Please update the list to include the features you think are appropriate for the model \n",
    "and the field that we will be using to train the model. There are three required demographic features for the model \n",
    "and I have inserted a list with them already in the categorical list. \n",
    "These will be required for later steps when analyzing data splits and model biases.\n",
    "'''\n",
    "\n",
    "#generic_drug_name\n",
    "required_demo_col_list = ['race', 'gender', 'age']\n",
    "student_categorical_col_list = [ 'admission_type_id', 'discharge_disposition_id',\n",
    "       'admission_source_id','primary_diagnosis_code', #'other_diagnosis_codes',\n",
    "       'max_glu_serum', 'A1Cresult', 'change'] + required_demo_col_list + ndc_col_list\n",
    "student_numerical_col_list =['number_outpatient', 'number_inpatient', 'number_emergency',\n",
    "                   'num_lab_procedures', 'number_diagnoses', 'num_medications',\n",
    "                   'num_procedures']\n",
    "PREDICTOR_FIELD = 'time_in_hospital'"
   ]
  },
  {
   "cell_type": "code",
   "execution_count": 132,
   "metadata": {},
   "outputs": [],
   "source": [
    "def select_model_features(df, categorical_col_list, numerical_col_list, PREDICTOR_FIELD, grouping_key='patient_nbr'):\n",
    "    selected_col_list = [grouping_key] + [PREDICTOR_FIELD] + categorical_col_list + numerical_col_list   \n",
    "    return df[selected_col_list]\n"
   ]
  },
  {
   "cell_type": "code",
   "execution_count": 133,
   "metadata": {},
   "outputs": [
    {
     "data": {
      "text/plain": [
       "encounter_id                                      0\n",
       "patient_nbr                                       0\n",
       "race                                              0\n",
       "gender                                            0\n",
       "age                                               0\n",
       "admission_type_id                                 0\n",
       "discharge_disposition_id                          0\n",
       "admission_source_id                               0\n",
       "time_in_hospital                                  0\n",
       "primary_diagnosis_code                            0\n",
       "other_diagnosis_codes                             0\n",
       "number_outpatient                                 0\n",
       "number_inpatient                                  0\n",
       "number_emergency                                  0\n",
       "num_lab_procedures                                0\n",
       "number_diagnoses                                  0\n",
       "num_medications                                   0\n",
       "num_procedures                                    0\n",
       "max_glu_serum                                     0\n",
       "A1Cresult                                         0\n",
       "change                                            0\n",
       "readmitted                                        0\n",
       "generic_drug_name_array                           0\n",
       "Acarbose                                      16873\n",
       "Glimepiride                                   16873\n",
       "Glipizide                                     16873\n",
       "Glipizide_And_Metformin_Hcl                   16873\n",
       "Glipizide_And_Metformin_Hydrochloride         16873\n",
       "Glyburide                                     16873\n",
       "Glyburide_And_Metformin_Hydrochloride         16873\n",
       "Glyburide-metformin_Hydrochloride             16873\n",
       "Human_Insulin                                 16873\n",
       "Insulin_Human                                 16873\n",
       "Metformin_Hcl                                 16873\n",
       "Metformin_Hydrochloride                       16873\n",
       "Miglitol                                      16873\n",
       "Nateglinide                                   16873\n",
       "Pioglitazole_And_Metformin_Hydrochloride      16873\n",
       "Pioglitazone                                  16873\n",
       "Pioglitazone_Hydrochloride_And_Glimepiride    16873\n",
       "Repaglinide                                   16873\n",
       "Rosiglitazone_Maleate                         16873\n",
       "Tolazamide                                    16873\n",
       "Tolbutamide                                   16873\n",
       "dtype: int64"
      ]
     },
     "execution_count": 133,
     "metadata": {},
     "output_type": "execute_result"
    }
   ],
   "source": [
    "agg_drug_df.isna().sum()"
   ]
  },
  {
   "cell_type": "code",
   "execution_count": 134,
   "metadata": {
    "scrolled": true
   },
   "outputs": [],
   "source": [
    "selected_features_df = select_model_features(agg_drug_df, student_categorical_col_list, student_numerical_col_list,\n",
    "                                            PREDICTOR_FIELD)\n"
   ]
  },
  {
   "cell_type": "code",
   "execution_count": 135,
   "metadata": {},
   "outputs": [],
   "source": [
    "#selected_features_df.isna().sum()"
   ]
  },
  {
   "cell_type": "markdown",
   "metadata": {},
   "source": [
    "### Preprocess Dataset - Casting and Imputing  "
   ]
  },
  {
   "cell_type": "markdown",
   "metadata": {},
   "source": [
    "We will cast and impute the dataset before splitting so that we do not have to repeat these steps across the splits in the next step. For imputing, there can be deeper analysis into which features to impute and how to impute but for the sake of time, we are taking a general strategy of imputing zero for only numerical features. \n",
    "\n",
    "OPTIONAL: What are some potential issues with this approach? Can you recommend a better way and also implement it?\n",
    "Answer: imputation with zero can give missing data real wrong values, so it will be better of the imputing values for features has a value out of the range of the featur values like -1 in \"num_lab_procedures\""
   ]
  },
  {
   "cell_type": "code",
   "execution_count": 154,
   "metadata": {},
   "outputs": [
    {
     "name": "stderr",
     "output_type": "stream",
     "text": [
      "/home/workspace/starter_code/utils.py:29: SettingWithCopyWarning: \n",
      "A value is trying to be set on a copy of a slice from a DataFrame.\n",
      "Try using .loc[row_indexer,col_indexer] = value instead\n",
      "\n",
      "See the caveats in the documentation: https://pandas.pydata.org/pandas-docs/stable/user_guide/indexing.html#returning-a-view-versus-a-copy\n",
      "  df[predictor] = df[predictor].astype(float)\n",
      "/home/workspace/starter_code/utils.py:31: SettingWithCopyWarning: \n",
      "A value is trying to be set on a copy of a slice from a DataFrame.\n",
      "Try using .loc[row_indexer,col_indexer] = value instead\n",
      "\n",
      "See the caveats in the documentation: https://pandas.pydata.org/pandas-docs/stable/user_guide/indexing.html#returning-a-view-versus-a-copy\n",
      "  if c!=\"other_diagnosis_codes\":\n"
     ]
    }
   ],
   "source": [
    "processed_df = preprocess_df(selected_features_df, student_categorical_col_list, \n",
    "        student_numerical_col_list, PREDICTOR_FIELD, categorical_impute_value=np.nan, numerical_impute_value=0)"
   ]
  },
  {
   "cell_type": "code",
   "execution_count": 155,
   "metadata": {},
   "outputs": [
    {
     "data": {
      "text/plain": [
       "0          ['427', '38']\n",
       "1         ['198', '486']\n",
       "2         ['157', '250']\n",
       "3         ['403', '996']\n",
       "4         ['411', '250']\n",
       "5         ['288', '197']\n",
       "6    ['250.43', '250.6']\n",
       "7         ['411', '427']\n",
       "8         ['411', 'V45']\n",
       "9         ['998', '627']\n",
       "Name: other_diagnosis_codes, dtype: object"
      ]
     },
     "execution_count": 155,
     "metadata": {},
     "output_type": "execute_result"
    }
   ],
   "source": [
    "#processed_df.isna().sum()\n",
    "#processed_df.isnull().sum()\n",
    "processed_df[\"other_diagnosis_codes\"].head(10)"
   ]
  },
  {
   "cell_type": "code",
   "execution_count": 156,
   "metadata": {},
   "outputs": [],
   "source": [
    "# print(processed_df.isna().sum())\n",
    "# print(\"\\n\",processed_df.isnull().sum())"
   ]
  },
  {
   "cell_type": "markdown",
   "metadata": {},
   "source": [
    "## Split Dataset into Train, Validation, and Test Partitions"
   ]
  },
  {
   "cell_type": "markdown",
   "metadata": {},
   "source": [
    "**Question 6**: In order to prepare the data for being trained and evaluated by a deep learning model, we will split the dataset into three partitions, with the validation partition used for optimizing the model hyperparameters during training. One of the key parts is that we need to sure that \n",
    "\n",
    "Please complete the function below to split the input dataset into three partitions(train, validation, test) with the following requirements.\n",
    "- Approximately 60%/20%/20%  train/validation/test split\n",
    "- Randomly sample different patients into each data partition\n",
    "- **IMPORTANT** Make sure that a patient's data is not in more than one partition, so that we can avoid possible data leakage.\n",
    "- Make sure that the total number of unique patients across the splits is equal to the total number of unique patients in the original dataset\n",
    "- Total number of rows in original dataset = sum of rows across all three dataset partitions"
   ]
  },
  {
   "cell_type": "code",
   "execution_count": 139,
   "metadata": {},
   "outputs": [],
   "source": [
    "from student_utils import patient_dataset_splitter\n"
   ]
  },
  {
   "cell_type": "code",
   "execution_count": 140,
   "metadata": {},
   "outputs": [],
   "source": [
    "#processed_df=processed_df.drop(processed_df[processed_df[\"gender\"]=='Unknown/Invalid'].index)\n",
    "d_train, d_val, d_test = patient_dataset_splitter(processed_df, 'patient_nbr')"
   ]
  },
  {
   "cell_type": "code",
   "execution_count": 141,
   "metadata": {},
   "outputs": [
    {
     "name": "stdout",
     "output_type": "stream",
     "text": [
      "Test passed for number of total rows equal!\n"
     ]
    }
   ],
   "source": [
    "assert len(d_train) + len(d_val) + len(d_test) == len(processed_df)\n",
    "print(\"Test passed for number of total rows equal!\")"
   ]
  },
  {
   "cell_type": "code",
   "execution_count": 142,
   "metadata": {},
   "outputs": [
    {
     "name": "stdout",
     "output_type": "stream",
     "text": [
      "Test passed for number of unique patients being equal!\n"
     ]
    }
   ],
   "source": [
    "assert (d_train['patient_nbr'].nunique() + d_val['patient_nbr'].nunique() + d_test['patient_nbr'].nunique()) == agg_drug_df['patient_nbr'].nunique()\n",
    "print(\"Test passed for number of unique patients being equal!\")"
   ]
  },
  {
   "cell_type": "markdown",
   "metadata": {},
   "source": [
    "## Demographic Representation Analysis of Split"
   ]
  },
  {
   "cell_type": "markdown",
   "metadata": {},
   "source": [
    "After the split, we should check to see the distribution of key features/groups and make sure that there is representative samples across the partitions. The show_group_stats_viz function in the utils.py file can be used to group and visualize different groups and dataframe partitions."
   ]
  },
  {
   "cell_type": "markdown",
   "metadata": {},
   "source": [
    "### Label Distribution Across Partitions"
   ]
  },
  {
   "cell_type": "markdown",
   "metadata": {},
   "source": [
    "Below you can see the distributution of the label across your splits. Are the histogram distribution shapes similar across partitions?"
   ]
  },
  {
   "cell_type": "code",
   "execution_count": 143,
   "metadata": {},
   "outputs": [
    {
     "name": "stdout",
     "output_type": "stream",
     "text": [
      "time_in_hospital\n",
      "1.0     10416\n",
      "2.0     12062\n",
      "3.0     12341\n",
      "4.0      9301\n",
      "5.0      6664\n",
      "6.0      5023\n",
      "7.0      3886\n",
      "8.0      2843\n",
      "9.0      1937\n",
      "10.0     1519\n",
      "11.0     1208\n",
      "12.0      936\n",
      "13.0      776\n",
      "14.0      647\n",
      "dtype: int64\n",
      "AxesSubplot(0.125,0.125;0.775x0.755)\n"
     ]
    },
    {
     "data": {
      "image/png": "[encoded data removed]",
      "text/plain": [
       "<Figure size 432x288 with 1 Axes>"
      ]
     },
     "metadata": {
      "needs_background": "light"
     },
     "output_type": "display_data"
    }
   ],
   "source": [
    "show_group_stats_viz(processed_df, PREDICTOR_FIELD)"
   ]
  },
  {
   "cell_type": "code",
   "execution_count": 144,
   "metadata": {},
   "outputs": [
    {
     "name": "stdout",
     "output_type": "stream",
     "text": [
      "time_in_hospital\n",
      "1.0     6211\n",
      "2.0     7174\n",
      "3.0     7455\n",
      "4.0     5651\n",
      "5.0     3927\n",
      "6.0     3044\n",
      "7.0     2306\n",
      "8.0     1757\n",
      "9.0     1163\n",
      "10.0     908\n",
      "11.0     729\n",
      "12.0     564\n",
      "13.0     452\n",
      "14.0     394\n",
      "dtype: int64\n",
      "AxesSubplot(0.125,0.125;0.775x0.755)\n"
     ]
    },
    {
     "data": {
      "image/png": "[encoded data removed]",
      "text/plain": [
       "<Figure size 432x288 with 1 Axes>"
      ]
     },
     "metadata": {
      "needs_background": "light"
     },
     "output_type": "display_data"
    }
   ],
   "source": [
    "show_group_stats_viz(d_train, PREDICTOR_FIELD)"
   ]
  },
  {
   "cell_type": "code",
   "execution_count": 145,
   "metadata": {},
   "outputs": [
    {
     "name": "stdout",
     "output_type": "stream",
     "text": [
      "time_in_hospital\n",
      "1.0     2084\n",
      "2.0     2438\n",
      "3.0     2412\n",
      "4.0     1873\n",
      "5.0     1375\n",
      "6.0      982\n",
      "7.0      770\n",
      "8.0      552\n",
      "9.0      390\n",
      "10.0     301\n",
      "11.0     253\n",
      "12.0     186\n",
      "13.0     164\n",
      "14.0     132\n",
      "dtype: int64\n",
      "AxesSubplot(0.125,0.125;0.775x0.755)\n"
     ]
    },
    {
     "data": {
      "image/png": "[encoded data removed]",
      "text/plain": [
       "<Figure size 432x288 with 1 Axes>"
      ]
     },
     "metadata": {
      "needs_background": "light"
     },
     "output_type": "display_data"
    }
   ],
   "source": [
    "show_group_stats_viz(d_test, PREDICTOR_FIELD)"
   ]
  },
  {
   "cell_type": "markdown",
   "metadata": {},
   "source": [
    "## Demographic Group Analysis"
   ]
  },
  {
   "cell_type": "markdown",
   "metadata": {},
   "source": [
    "We should check that our partitions/splits of the dataset are similar in terms of their demographic profiles. Below you can see how we might visualize and analyze the full dataset vs. the partitions."
   ]
  },
  {
   "cell_type": "code",
   "execution_count": 146,
   "metadata": {},
   "outputs": [
    {
     "name": "stdout",
     "output_type": "stream",
     "text": [
      "gender\n",
      "Female    37042\n",
      "Male      32517\n",
      "dtype: int64\n",
      "AxesSubplot(0.125,0.125;0.775x0.755)\n"
     ]
    },
    {
     "data": {
      "image/png": "[encoded data removed]",
      "text/plain": [
       "<Figure size 432x288 with 1 Axes>"
      ]
     },
     "metadata": {
      "needs_background": "light"
     },
     "output_type": "display_data"
    }
   ],
   "source": [
    "# Full dataset before splitting\n",
    "patient_demo_features = ['race', 'gender', 'age', 'patient_nbr']\n",
    "patient_group_analysis_df = processed_df[patient_demo_features].groupby('patient_nbr').head(1).reset_index(drop=True)\n",
    "show_group_stats_viz(patient_group_analysis_df, 'gender')"
   ]
  },
  {
   "cell_type": "code",
   "execution_count": 147,
   "metadata": {},
   "outputs": [
    {
     "name": "stdout",
     "output_type": "stream",
     "text": [
      "gender\n",
      "Female    22239\n",
      "Male      19496\n",
      "dtype: int64\n",
      "AxesSubplot(0.125,0.125;0.775x0.755)\n"
     ]
    },
    {
     "data": {
      "image/png": "[encoded data removed]",
      "text/plain": [
       "<Figure size 432x288 with 1 Axes>"
      ]
     },
     "metadata": {
      "needs_background": "light"
     },
     "output_type": "display_data"
    }
   ],
   "source": [
    "# Training partition\n",
    "show_group_stats_viz(d_train, 'gender')"
   ]
  },
  {
   "cell_type": "code",
   "execution_count": 148,
   "metadata": {},
   "outputs": [
    {
     "name": "stdout",
     "output_type": "stream",
     "text": [
      "gender\n",
      "Female    7385\n",
      "Male      6527\n",
      "dtype: int64\n",
      "AxesSubplot(0.125,0.125;0.775x0.755)\n"
     ]
    },
    {
     "data": {
      "image/png": "[encoded data removed]",
      "text/plain": [
       "<Figure size 432x288 with 1 Axes>"
      ]
     },
     "metadata": {
      "needs_background": "light"
     },
     "output_type": "display_data"
    }
   ],
   "source": [
    "# Test partition\n",
    "show_group_stats_viz(d_test, 'gender')"
   ]
  },
  {
   "cell_type": "markdown",
   "metadata": {},
   "source": [
    "## Convert Dataset Splits to TF Dataset"
   ]
  },
  {
   "cell_type": "markdown",
   "metadata": {},
   "source": [
    "We have provided you the function to convert the Pandas dataframe to TF tensors using the TF Dataset API. \n",
    "Please note that this is not a scalable method and for larger datasets, the 'make_csv_dataset' method is recommended -https://www.tensorflow.org/api_docs/python/tf/data/experimental/make_csv_dataset."
   ]
  },
  {
   "cell_type": "code",
   "execution_count": 149,
   "metadata": {},
   "outputs": [
    {
     "ename": "ValueError",
     "evalue": "Can't convert non-rectangular Python sequence to Tensor.",
     "output_type": "error",
     "traceback": [
      "\u001b[0;31m---------------------------------------------------------------------------\u001b[0m",
      "\u001b[0;31mTypeError\u001b[0m                                 Traceback (most recent call last)",
      "\u001b[0;32m/opt/conda/lib/python3.7/site-packages/tensorflow_core/python/data/util/structure.py\u001b[0m in \u001b[0;36mnormalize_element\u001b[0;34m(element)\u001b[0m\n\u001b[1;32m     92\u001b[0m       \u001b[0;32mtry\u001b[0m\u001b[0;34m:\u001b[0m\u001b[0;34m\u001b[0m\u001b[0;34m\u001b[0m\u001b[0m\n\u001b[0;32m---> 93\u001b[0;31m         \u001b[0mspec\u001b[0m \u001b[0;34m=\u001b[0m \u001b[0mtype_spec_from_value\u001b[0m\u001b[0;34m(\u001b[0m\u001b[0mt\u001b[0m\u001b[0;34m,\u001b[0m \u001b[0muse_fallback\u001b[0m\u001b[0;34m=\u001b[0m\u001b[0;32mFalse\u001b[0m\u001b[0;34m)\u001b[0m\u001b[0;34m\u001b[0m\u001b[0;34m\u001b[0m\u001b[0m\n\u001b[0m\u001b[1;32m     94\u001b[0m       \u001b[0;32mexcept\u001b[0m \u001b[0mTypeError\u001b[0m\u001b[0;34m:\u001b[0m\u001b[0;34m\u001b[0m\u001b[0;34m\u001b[0m\u001b[0m\n",
      "\u001b[0;32m/opt/conda/lib/python3.7/site-packages/tensorflow_core/python/data/util/structure.py\u001b[0m in \u001b[0;36mtype_spec_from_value\u001b[0;34m(element, use_fallback)\u001b[0m\n\u001b[1;32m    463\u001b[0m   raise TypeError(\"Could not build a TypeSpec for %r with type %s\" %\n\u001b[0;32m--> 464\u001b[0;31m                   (element, type(element).__name__))\n\u001b[0m",
      "\u001b[0;31mTypeError\u001b[0m: Could not build a TypeSpec for 23830       [404, 278]\n38014     [250.8, 414]\n56150       [451, 441]\n30538       [599, 591]\n33148    [250.13, 276]\n             ...      \n43356       [453, 584]\n12875       [250, 664]\n15539       [276, 584]\n56586       [410, 427]\n54986       [427, 507]\nName: other_diagnosis_codes, Length: 41735, dtype: object with type Series",
      "\nDuring handling of the above exception, another exception occurred:\n",
      "\u001b[0;31mValueError\u001b[0m                                Traceback (most recent call last)",
      "\u001b[0;32m<ipython-input-149-4d3f939e3bf8>\u001b[0m in \u001b[0;36m<module>\u001b[0;34m\u001b[0m\n\u001b[1;32m      1\u001b[0m \u001b[0;31m# Convert dataset from Pandas dataframes to TF dataset\u001b[0m\u001b[0;34m\u001b[0m\u001b[0;34m\u001b[0m\u001b[0;34m\u001b[0m\u001b[0m\n\u001b[1;32m      2\u001b[0m \u001b[0mbatch_size\u001b[0m \u001b[0;34m=\u001b[0m \u001b[0;36m128\u001b[0m\u001b[0;34m\u001b[0m\u001b[0;34m\u001b[0m\u001b[0m\n\u001b[0;32m----> 3\u001b[0;31m \u001b[0mdiabetes_train_ds\u001b[0m \u001b[0;34m=\u001b[0m \u001b[0mdf_to_dataset\u001b[0m\u001b[0;34m(\u001b[0m\u001b[0md_train\u001b[0m\u001b[0;34m,\u001b[0m \u001b[0mPREDICTOR_FIELD\u001b[0m\u001b[0;34m,\u001b[0m \u001b[0mbatch_size\u001b[0m\u001b[0;34m=\u001b[0m\u001b[0mbatch_size\u001b[0m\u001b[0;34m)\u001b[0m\u001b[0;34m\u001b[0m\u001b[0;34m\u001b[0m\u001b[0m\n\u001b[0m\u001b[1;32m      4\u001b[0m \u001b[0mdiabetes_val_ds\u001b[0m \u001b[0;34m=\u001b[0m \u001b[0mdf_to_dataset\u001b[0m\u001b[0;34m(\u001b[0m\u001b[0md_val\u001b[0m\u001b[0;34m,\u001b[0m \u001b[0mPREDICTOR_FIELD\u001b[0m\u001b[0;34m,\u001b[0m \u001b[0mbatch_size\u001b[0m\u001b[0;34m=\u001b[0m\u001b[0mbatch_size\u001b[0m\u001b[0;34m)\u001b[0m\u001b[0;34m\u001b[0m\u001b[0;34m\u001b[0m\u001b[0m\n\u001b[1;32m      5\u001b[0m \u001b[0mdiabetes_test_ds\u001b[0m \u001b[0;34m=\u001b[0m \u001b[0mdf_to_dataset\u001b[0m\u001b[0;34m(\u001b[0m\u001b[0md_test\u001b[0m\u001b[0;34m,\u001b[0m \u001b[0mPREDICTOR_FIELD\u001b[0m\u001b[0;34m,\u001b[0m \u001b[0mbatch_size\u001b[0m\u001b[0;34m=\u001b[0m\u001b[0mbatch_size\u001b[0m\u001b[0;34m)\u001b[0m\u001b[0;34m\u001b[0m\u001b[0;34m\u001b[0m\u001b[0m\n",
      "\u001b[0;32m/home/workspace/starter_code/utils.py\u001b[0m in \u001b[0;36mdf_to_dataset\u001b[0;34m(df, predictor, batch_size)\u001b[0m\n\u001b[1;32m     41\u001b[0m     \u001b[0mdf\u001b[0m \u001b[0;34m=\u001b[0m \u001b[0mdf\u001b[0m\u001b[0;34m.\u001b[0m\u001b[0mcopy\u001b[0m\u001b[0;34m(\u001b[0m\u001b[0;34m)\u001b[0m\u001b[0;34m\u001b[0m\u001b[0;34m\u001b[0m\u001b[0m\n\u001b[1;32m     42\u001b[0m     \u001b[0mlabels\u001b[0m \u001b[0;34m=\u001b[0m \u001b[0mdf\u001b[0m\u001b[0;34m.\u001b[0m\u001b[0mpop\u001b[0m\u001b[0;34m(\u001b[0m\u001b[0mpredictor\u001b[0m\u001b[0;34m)\u001b[0m\u001b[0;34m\u001b[0m\u001b[0;34m\u001b[0m\u001b[0m\n\u001b[0;32m---> 43\u001b[0;31m     \u001b[0mds\u001b[0m \u001b[0;34m=\u001b[0m \u001b[0mtf\u001b[0m\u001b[0;34m.\u001b[0m\u001b[0mdata\u001b[0m\u001b[0;34m.\u001b[0m\u001b[0mDataset\u001b[0m\u001b[0;34m.\u001b[0m\u001b[0mfrom_tensor_slices\u001b[0m\u001b[0;34m(\u001b[0m\u001b[0;34m(\u001b[0m\u001b[0mdict\u001b[0m\u001b[0;34m(\u001b[0m\u001b[0mdf\u001b[0m\u001b[0;34m)\u001b[0m\u001b[0;34m,\u001b[0m \u001b[0mlabels\u001b[0m\u001b[0;34m)\u001b[0m\u001b[0;34m)\u001b[0m\u001b[0;34m\u001b[0m\u001b[0;34m\u001b[0m\u001b[0m\n\u001b[0m\u001b[1;32m     44\u001b[0m     \u001b[0mds\u001b[0m \u001b[0;34m=\u001b[0m \u001b[0mds\u001b[0m\u001b[0;34m.\u001b[0m\u001b[0mshuffle\u001b[0m\u001b[0;34m(\u001b[0m\u001b[0mbuffer_size\u001b[0m\u001b[0;34m=\u001b[0m\u001b[0mlen\u001b[0m\u001b[0;34m(\u001b[0m\u001b[0mdf\u001b[0m\u001b[0;34m)\u001b[0m\u001b[0;34m)\u001b[0m\u001b[0;34m\u001b[0m\u001b[0;34m\u001b[0m\u001b[0m\n\u001b[1;32m     45\u001b[0m     \u001b[0mds\u001b[0m \u001b[0;34m=\u001b[0m \u001b[0mds\u001b[0m\u001b[0;34m.\u001b[0m\u001b[0mbatch\u001b[0m\u001b[0;34m(\u001b[0m\u001b[0mbatch_size\u001b[0m\u001b[0;34m)\u001b[0m\u001b[0;34m\u001b[0m\u001b[0;34m\u001b[0m\u001b[0m\n",
      "\u001b[0;32m/opt/conda/lib/python3.7/site-packages/tensorflow_core/python/data/ops/dataset_ops.py\u001b[0m in \u001b[0;36mfrom_tensor_slices\u001b[0;34m(tensors)\u001b[0m\n\u001b[1;32m    642\u001b[0m       \u001b[0mDataset\u001b[0m\u001b[0;34m:\u001b[0m \u001b[0mA\u001b[0m\u001b[0;31m \u001b[0m\u001b[0;31m`\u001b[0m\u001b[0mDataset\u001b[0m\u001b[0;31m`\u001b[0m\u001b[0;34m.\u001b[0m\u001b[0;34m\u001b[0m\u001b[0;34m\u001b[0m\u001b[0m\n\u001b[1;32m    643\u001b[0m     \"\"\"\n\u001b[0;32m--> 644\u001b[0;31m     \u001b[0;32mreturn\u001b[0m \u001b[0mTensorSliceDataset\u001b[0m\u001b[0;34m(\u001b[0m\u001b[0mtensors\u001b[0m\u001b[0;34m)\u001b[0m\u001b[0;34m\u001b[0m\u001b[0;34m\u001b[0m\u001b[0m\n\u001b[0m\u001b[1;32m    645\u001b[0m \u001b[0;34m\u001b[0m\u001b[0m\n\u001b[1;32m    646\u001b[0m   \u001b[0;32mclass\u001b[0m \u001b[0m_GeneratorState\u001b[0m\u001b[0;34m(\u001b[0m\u001b[0mobject\u001b[0m\u001b[0;34m)\u001b[0m\u001b[0;34m:\u001b[0m\u001b[0;34m\u001b[0m\u001b[0;34m\u001b[0m\u001b[0m\n",
      "\u001b[0;32m/opt/conda/lib/python3.7/site-packages/tensorflow_core/python/data/ops/dataset_ops.py\u001b[0m in \u001b[0;36m__init__\u001b[0;34m(self, element)\u001b[0m\n\u001b[1;32m   2782\u001b[0m   \u001b[0;32mdef\u001b[0m \u001b[0m__init__\u001b[0m\u001b[0;34m(\u001b[0m\u001b[0mself\u001b[0m\u001b[0;34m,\u001b[0m \u001b[0melement\u001b[0m\u001b[0;34m)\u001b[0m\u001b[0;34m:\u001b[0m\u001b[0;34m\u001b[0m\u001b[0;34m\u001b[0m\u001b[0m\n\u001b[1;32m   2783\u001b[0m     \u001b[0;34m\"\"\"See `Dataset.from_tensor_slices()` for details.\"\"\"\u001b[0m\u001b[0;34m\u001b[0m\u001b[0;34m\u001b[0m\u001b[0m\n\u001b[0;32m-> 2784\u001b[0;31m     \u001b[0melement\u001b[0m \u001b[0;34m=\u001b[0m \u001b[0mstructure\u001b[0m\u001b[0;34m.\u001b[0m\u001b[0mnormalize_element\u001b[0m\u001b[0;34m(\u001b[0m\u001b[0melement\u001b[0m\u001b[0;34m)\u001b[0m\u001b[0;34m\u001b[0m\u001b[0;34m\u001b[0m\u001b[0m\n\u001b[0m\u001b[1;32m   2785\u001b[0m     \u001b[0mbatched_spec\u001b[0m \u001b[0;34m=\u001b[0m \u001b[0mstructure\u001b[0m\u001b[0;34m.\u001b[0m\u001b[0mtype_spec_from_value\u001b[0m\u001b[0;34m(\u001b[0m\u001b[0melement\u001b[0m\u001b[0;34m)\u001b[0m\u001b[0;34m\u001b[0m\u001b[0;34m\u001b[0m\u001b[0m\n\u001b[1;32m   2786\u001b[0m     \u001b[0mself\u001b[0m\u001b[0;34m.\u001b[0m\u001b[0m_tensors\u001b[0m \u001b[0;34m=\u001b[0m \u001b[0mstructure\u001b[0m\u001b[0;34m.\u001b[0m\u001b[0mto_batched_tensor_list\u001b[0m\u001b[0;34m(\u001b[0m\u001b[0mbatched_spec\u001b[0m\u001b[0;34m,\u001b[0m \u001b[0melement\u001b[0m\u001b[0;34m)\u001b[0m\u001b[0;34m\u001b[0m\u001b[0;34m\u001b[0m\u001b[0m\n",
      "\u001b[0;32m/opt/conda/lib/python3.7/site-packages/tensorflow_core/python/data/util/structure.py\u001b[0m in \u001b[0;36mnormalize_element\u001b[0;34m(element)\u001b[0m\n\u001b[1;32m     96\u001b[0m         \u001b[0;31m# the value. As a fallback try converting the value to a tensor.\u001b[0m\u001b[0;34m\u001b[0m\u001b[0;34m\u001b[0m\u001b[0;34m\u001b[0m\u001b[0m\n\u001b[1;32m     97\u001b[0m         normalized_components.append(\n\u001b[0;32m---> 98\u001b[0;31m             ops.convert_to_tensor(t, name=\"component_%d\" % i))\n\u001b[0m\u001b[1;32m     99\u001b[0m       \u001b[0;32melse\u001b[0m\u001b[0;34m:\u001b[0m\u001b[0;34m\u001b[0m\u001b[0;34m\u001b[0m\u001b[0m\n\u001b[1;32m    100\u001b[0m         \u001b[0;32mif\u001b[0m \u001b[0misinstance\u001b[0m\u001b[0;34m(\u001b[0m\u001b[0mspec\u001b[0m\u001b[0;34m,\u001b[0m \u001b[0msparse_tensor\u001b[0m\u001b[0;34m.\u001b[0m\u001b[0mSparseTensorSpec\u001b[0m\u001b[0;34m)\u001b[0m\u001b[0;34m:\u001b[0m\u001b[0;34m\u001b[0m\u001b[0;34m\u001b[0m\u001b[0m\n",
      "\u001b[0;32m/opt/conda/lib/python3.7/site-packages/tensorflow_core/python/framework/ops.py\u001b[0m in \u001b[0;36mconvert_to_tensor\u001b[0;34m(value, dtype, name, as_ref, preferred_dtype, dtype_hint, ctx, accepted_result_types)\u001b[0m\n\u001b[1;32m   1312\u001b[0m \u001b[0;34m\u001b[0m\u001b[0m\n\u001b[1;32m   1313\u001b[0m     \u001b[0;32mif\u001b[0m \u001b[0mret\u001b[0m \u001b[0;32mis\u001b[0m \u001b[0;32mNone\u001b[0m\u001b[0;34m:\u001b[0m\u001b[0;34m\u001b[0m\u001b[0;34m\u001b[0m\u001b[0m\n\u001b[0;32m-> 1314\u001b[0;31m       \u001b[0mret\u001b[0m \u001b[0;34m=\u001b[0m \u001b[0mconversion_func\u001b[0m\u001b[0;34m(\u001b[0m\u001b[0mvalue\u001b[0m\u001b[0;34m,\u001b[0m \u001b[0mdtype\u001b[0m\u001b[0;34m=\u001b[0m\u001b[0mdtype\u001b[0m\u001b[0;34m,\u001b[0m \u001b[0mname\u001b[0m\u001b[0;34m=\u001b[0m\u001b[0mname\u001b[0m\u001b[0;34m,\u001b[0m \u001b[0mas_ref\u001b[0m\u001b[0;34m=\u001b[0m\u001b[0mas_ref\u001b[0m\u001b[0;34m)\u001b[0m\u001b[0;34m\u001b[0m\u001b[0;34m\u001b[0m\u001b[0m\n\u001b[0m\u001b[1;32m   1315\u001b[0m \u001b[0;34m\u001b[0m\u001b[0m\n\u001b[1;32m   1316\u001b[0m     \u001b[0;32mif\u001b[0m \u001b[0mret\u001b[0m \u001b[0;32mis\u001b[0m \u001b[0mNotImplemented\u001b[0m\u001b[0;34m:\u001b[0m\u001b[0;34m\u001b[0m\u001b[0;34m\u001b[0m\u001b[0m\n",
      "\u001b[0;32m/opt/conda/lib/python3.7/site-packages/tensorflow_core/python/framework/constant_op.py\u001b[0m in \u001b[0;36m_constant_tensor_conversion_function\u001b[0;34m(v, dtype, name, as_ref)\u001b[0m\n\u001b[1;32m    315\u001b[0m                                          as_ref=False):\n\u001b[1;32m    316\u001b[0m   \u001b[0m_\u001b[0m \u001b[0;34m=\u001b[0m \u001b[0mas_ref\u001b[0m\u001b[0;34m\u001b[0m\u001b[0;34m\u001b[0m\u001b[0m\n\u001b[0;32m--> 317\u001b[0;31m   \u001b[0;32mreturn\u001b[0m \u001b[0mconstant\u001b[0m\u001b[0;34m(\u001b[0m\u001b[0mv\u001b[0m\u001b[0;34m,\u001b[0m \u001b[0mdtype\u001b[0m\u001b[0;34m=\u001b[0m\u001b[0mdtype\u001b[0m\u001b[0;34m,\u001b[0m \u001b[0mname\u001b[0m\u001b[0;34m=\u001b[0m\u001b[0mname\u001b[0m\u001b[0;34m)\u001b[0m\u001b[0;34m\u001b[0m\u001b[0;34m\u001b[0m\u001b[0m\n\u001b[0m\u001b[1;32m    318\u001b[0m \u001b[0;34m\u001b[0m\u001b[0m\n\u001b[1;32m    319\u001b[0m \u001b[0;34m\u001b[0m\u001b[0m\n",
      "\u001b[0;32m/opt/conda/lib/python3.7/site-packages/tensorflow_core/python/framework/constant_op.py\u001b[0m in \u001b[0;36mconstant\u001b[0;34m(value, dtype, shape, name)\u001b[0m\n\u001b[1;32m    256\u001b[0m   \"\"\"\n\u001b[1;32m    257\u001b[0m   return _constant_impl(value, dtype, shape, name, verify_shape=False,\n\u001b[0;32m--> 258\u001b[0;31m                         allow_broadcast=True)\n\u001b[0m\u001b[1;32m    259\u001b[0m \u001b[0;34m\u001b[0m\u001b[0m\n\u001b[1;32m    260\u001b[0m \u001b[0;34m\u001b[0m\u001b[0m\n",
      "\u001b[0;32m/opt/conda/lib/python3.7/site-packages/tensorflow_core/python/framework/constant_op.py\u001b[0m in \u001b[0;36m_constant_impl\u001b[0;34m(value, dtype, shape, name, verify_shape, allow_broadcast)\u001b[0m\n\u001b[1;32m    264\u001b[0m   \u001b[0mctx\u001b[0m \u001b[0;34m=\u001b[0m \u001b[0mcontext\u001b[0m\u001b[0;34m.\u001b[0m\u001b[0mcontext\u001b[0m\u001b[0;34m(\u001b[0m\u001b[0;34m)\u001b[0m\u001b[0;34m\u001b[0m\u001b[0;34m\u001b[0m\u001b[0m\n\u001b[1;32m    265\u001b[0m   \u001b[0;32mif\u001b[0m \u001b[0mctx\u001b[0m\u001b[0;34m.\u001b[0m\u001b[0mexecuting_eagerly\u001b[0m\u001b[0;34m(\u001b[0m\u001b[0;34m)\u001b[0m\u001b[0;34m:\u001b[0m\u001b[0;34m\u001b[0m\u001b[0;34m\u001b[0m\u001b[0m\n\u001b[0;32m--> 266\u001b[0;31m     \u001b[0mt\u001b[0m \u001b[0;34m=\u001b[0m \u001b[0mconvert_to_eager_tensor\u001b[0m\u001b[0;34m(\u001b[0m\u001b[0mvalue\u001b[0m\u001b[0;34m,\u001b[0m \u001b[0mctx\u001b[0m\u001b[0;34m,\u001b[0m \u001b[0mdtype\u001b[0m\u001b[0;34m)\u001b[0m\u001b[0;34m\u001b[0m\u001b[0;34m\u001b[0m\u001b[0m\n\u001b[0m\u001b[1;32m    267\u001b[0m     \u001b[0;32mif\u001b[0m \u001b[0mshape\u001b[0m \u001b[0;32mis\u001b[0m \u001b[0;32mNone\u001b[0m\u001b[0;34m:\u001b[0m\u001b[0;34m\u001b[0m\u001b[0;34m\u001b[0m\u001b[0m\n\u001b[1;32m    268\u001b[0m       \u001b[0;32mreturn\u001b[0m \u001b[0mt\u001b[0m\u001b[0;34m\u001b[0m\u001b[0;34m\u001b[0m\u001b[0m\n",
      "\u001b[0;32m/opt/conda/lib/python3.7/site-packages/tensorflow_core/python/framework/constant_op.py\u001b[0m in \u001b[0;36mconvert_to_eager_tensor\u001b[0;34m(value, ctx, dtype)\u001b[0m\n\u001b[1;32m     94\u001b[0m       \u001b[0mdtype\u001b[0m \u001b[0;34m=\u001b[0m \u001b[0mdtypes\u001b[0m\u001b[0;34m.\u001b[0m\u001b[0mas_dtype\u001b[0m\u001b[0;34m(\u001b[0m\u001b[0mdtype\u001b[0m\u001b[0;34m)\u001b[0m\u001b[0;34m.\u001b[0m\u001b[0mas_datatype_enum\u001b[0m\u001b[0;34m\u001b[0m\u001b[0;34m\u001b[0m\u001b[0m\n\u001b[1;32m     95\u001b[0m   \u001b[0mctx\u001b[0m\u001b[0;34m.\u001b[0m\u001b[0mensure_initialized\u001b[0m\u001b[0;34m(\u001b[0m\u001b[0;34m)\u001b[0m\u001b[0;34m\u001b[0m\u001b[0;34m\u001b[0m\u001b[0m\n\u001b[0;32m---> 96\u001b[0;31m   \u001b[0;32mreturn\u001b[0m \u001b[0mops\u001b[0m\u001b[0;34m.\u001b[0m\u001b[0mEagerTensor\u001b[0m\u001b[0;34m(\u001b[0m\u001b[0mvalue\u001b[0m\u001b[0;34m,\u001b[0m \u001b[0mctx\u001b[0m\u001b[0;34m.\u001b[0m\u001b[0mdevice_name\u001b[0m\u001b[0;34m,\u001b[0m \u001b[0mdtype\u001b[0m\u001b[0;34m)\u001b[0m\u001b[0;34m\u001b[0m\u001b[0;34m\u001b[0m\u001b[0m\n\u001b[0m\u001b[1;32m     97\u001b[0m \u001b[0;34m\u001b[0m\u001b[0m\n\u001b[1;32m     98\u001b[0m \u001b[0;34m\u001b[0m\u001b[0m\n",
      "\u001b[0;31mValueError\u001b[0m: Can't convert non-rectangular Python sequence to Tensor."
     ]
    }
   ],
   "source": [
    "# Convert dataset from Pandas dataframes to TF dataset \n",
    "batch_size = 128\n",
    "diabetes_train_ds = df_to_dataset(d_train, PREDICTOR_FIELD, batch_size=batch_size)\n",
    "diabetes_val_ds = df_to_dataset(d_val, PREDICTOR_FIELD, batch_size=batch_size)\n",
    "diabetes_test_ds = df_to_dataset(d_test, PREDICTOR_FIELD, batch_size=batch_size)"
   ]
  },
  {
   "cell_type": "code",
   "execution_count": null,
   "metadata": {},
   "outputs": [],
   "source": [
    "diabetes_test_ds"
   ]
  },
  {
   "cell_type": "code",
   "execution_count": null,
   "metadata": {},
   "outputs": [],
   "source": [
    "# We use this sample of the dataset to show transformations later\n",
    "diabetes_batch = next(iter(diabetes_train_ds))[0]\n",
    "def demo(feature_column, example_batch):\n",
    "    feature_layer = layers.DenseFeatures(feature_column)\n",
    "    print(feature_layer(example_batch))\n",
    "diabetes_batch"
   ]
  },
  {
   "cell_type": "markdown",
   "metadata": {},
   "source": [
    "# 4. Create Categorical Features with TF Feature Columns"
   ]
  },
  {
   "cell_type": "markdown",
   "metadata": {},
   "source": [
    "## Build Vocabulary for Categorical Features"
   ]
  },
  {
   "cell_type": "markdown",
   "metadata": {},
   "source": [
    "Before we can create the TF categorical features, we must first create the vocab files with the unique values for a given field that are from the **training** dataset. Below we have provided a function that you can use that only requires providing the pandas train dataset partition and the list of the categorical columns in a list format. The output variable 'vocab_file_list' will be a list of the file paths that can be used in the next step for creating the categorical features."
   ]
  },
  {
   "cell_type": "code",
   "execution_count": 127,
   "metadata": {},
   "outputs": [
    {
     "data": {
      "text/plain": [
       "array([\"['404', '278']\", \"['250.8', '414']\", \"['451', '441']\", ...,\n",
       "       \"['276', '584']\", \"['410', '427']\", \"['427', '507']\"], dtype=object)"
      ]
     },
     "execution_count": 127,
     "metadata": {},
     "output_type": "execute_result"
    }
   ],
   "source": [
    "ll=[]\n",
    "d_train[\"other_diagnosis_codes\"].apply(lambda x: ll.append(x))\n",
    "d_train[\"other_diagnosis_codes\"].values\n",
    "#ll"
   ]
  },
  {
   "cell_type": "code",
   "execution_count": 86,
   "metadata": {
    "scrolled": true
   },
   "outputs": [
    {
     "data": {
      "text/plain": [
       "['./diabetes_vocab/admission_type_id_vocab.txt',\n",
       " './diabetes_vocab/discharge_disposition_id_vocab.txt',\n",
       " './diabetes_vocab/admission_source_id_vocab.txt',\n",
       " './diabetes_vocab/primary_diagnosis_code_vocab.txt',\n",
       " './diabetes_vocab/other_diagnosis_codes_vocab.txt',\n",
       " './diabetes_vocab/max_glu_serum_vocab.txt',\n",
       " './diabetes_vocab/A1Cresult_vocab.txt',\n",
       " './diabetes_vocab/change_vocab.txt',\n",
       " './diabetes_vocab/race_vocab.txt',\n",
       " './diabetes_vocab/gender_vocab.txt',\n",
       " './diabetes_vocab/age_vocab.txt',\n",
       " './diabetes_vocab/Acarbose_vocab.txt',\n",
       " './diabetes_vocab/Glimepiride_vocab.txt',\n",
       " './diabetes_vocab/Glipizide_vocab.txt',\n",
       " './diabetes_vocab/Glipizide_And_Metformin_Hcl_vocab.txt',\n",
       " './diabetes_vocab/Glipizide_And_Metformin_Hydrochloride_vocab.txt',\n",
       " './diabetes_vocab/Glyburide_vocab.txt',\n",
       " './diabetes_vocab/Glyburide_And_Metformin_Hydrochloride_vocab.txt',\n",
       " './diabetes_vocab/Glyburide-metformin_Hydrochloride_vocab.txt',\n",
       " './diabetes_vocab/Human_Insulin_vocab.txt',\n",
       " './diabetes_vocab/Insulin_Human_vocab.txt',\n",
       " './diabetes_vocab/Metformin_Hcl_vocab.txt',\n",
       " './diabetes_vocab/Metformin_Hydrochloride_vocab.txt',\n",
       " './diabetes_vocab/Miglitol_vocab.txt',\n",
       " './diabetes_vocab/Nateglinide_vocab.txt',\n",
       " './diabetes_vocab/Pioglitazole_And_Metformin_Hydrochloride_vocab.txt',\n",
       " './diabetes_vocab/Pioglitazone_vocab.txt',\n",
       " './diabetes_vocab/Pioglitazone_Hydrochloride_And_Glimepiride_vocab.txt',\n",
       " './diabetes_vocab/Repaglinide_vocab.txt',\n",
       " './diabetes_vocab/Rosiglitazone_Maleate_vocab.txt',\n",
       " './diabetes_vocab/Tolazamide_vocab.txt',\n",
       " './diabetes_vocab/Tolbutamide_vocab.txt']"
      ]
     },
     "execution_count": 86,
     "metadata": {},
     "output_type": "execute_result"
    }
   ],
   "source": [
    "vocab_file_list = build_vocab_files(d_train, student_categorical_col_list)\n",
    "vocab_file_list"
   ]
  },
  {
   "cell_type": "markdown",
   "metadata": {},
   "source": [
    "## Create Categorical Features with Tensorflow Feature Column API"
   ]
  },
  {
   "cell_type": "markdown",
   "metadata": {},
   "source": [
    "**Question 7**: Using the vocab file list from above that was derived fromt the features you selected earlier, please create categorical features with the Tensorflow Feature Column API, https://www.tensorflow.org/api_docs/python/tf/feature_column. Below is a function to help guide you."
   ]
  },
  {
   "cell_type": "code",
   "execution_count": 58,
   "metadata": {
    "scrolled": true
   },
   "outputs": [
    {
     "name": "stdout",
     "output_type": "stream",
     "text": [
      "The autoreload extension is already loaded. To reload it, use:\n",
      "  %reload_ext autoreload\n",
      "INFO:tensorflow:vocabulary_size = 9 in admission_type_id is inferred from the number of elements in the vocabulary_file ./diabetes_vocab/admission_type_id_vocab.txt.\n",
      "INFO:tensorflow:vocabulary_size = 27 in discharge_disposition_id is inferred from the number of elements in the vocabulary_file ./diabetes_vocab/discharge_disposition_id_vocab.txt.\n",
      "INFO:tensorflow:vocabulary_size = 16 in admission_source_id is inferred from the number of elements in the vocabulary_file ./diabetes_vocab/admission_source_id_vocab.txt.\n",
      "INFO:tensorflow:vocabulary_size = 660 in primary_diagnosis_code is inferred from the number of elements in the vocabulary_file ./diabetes_vocab/primary_diagnosis_code_vocab.txt.\n",
      "INFO:tensorflow:vocabulary_size = 11338 in other_diagnosis_codes is inferred from the number of elements in the vocabulary_file ./diabetes_vocab/other_diagnosis_codes_vocab.txt.\n",
      "INFO:tensorflow:vocabulary_size = 5 in max_glu_serum is inferred from the number of elements in the vocabulary_file ./diabetes_vocab/max_glu_serum_vocab.txt.\n",
      "INFO:tensorflow:vocabulary_size = 5 in A1Cresult is inferred from the number of elements in the vocabulary_file ./diabetes_vocab/A1Cresult_vocab.txt.\n",
      "INFO:tensorflow:vocabulary_size = 3 in change is inferred from the number of elements in the vocabulary_file ./diabetes_vocab/change_vocab.txt.\n",
      "INFO:tensorflow:vocabulary_size = 6 in race is inferred from the number of elements in the vocabulary_file ./diabetes_vocab/race_vocab.txt.\n",
      "INFO:tensorflow:vocabulary_size = 3 in gender is inferred from the number of elements in the vocabulary_file ./diabetes_vocab/gender_vocab.txt.\n",
      "INFO:tensorflow:vocabulary_size = 11 in age is inferred from the number of elements in the vocabulary_file ./diabetes_vocab/age_vocab.txt.\n",
      "INFO:tensorflow:vocabulary_size = 4 in Acarbose is inferred from the number of elements in the vocabulary_file ./diabetes_vocab/Acarbose_vocab.txt.\n",
      "INFO:tensorflow:vocabulary_size = 4 in Glimepiride is inferred from the number of elements in the vocabulary_file ./diabetes_vocab/Glimepiride_vocab.txt.\n",
      "INFO:tensorflow:vocabulary_size = 4 in Glipizide is inferred from the number of elements in the vocabulary_file ./diabetes_vocab/Glipizide_vocab.txt.\n",
      "INFO:tensorflow:vocabulary_size = 4 in Glipizide_And_Metformin_Hcl is inferred from the number of elements in the vocabulary_file ./diabetes_vocab/Glipizide_And_Metformin_Hcl_vocab.txt.\n",
      "INFO:tensorflow:vocabulary_size = 4 in Glipizide_And_Metformin_Hydrochloride is inferred from the number of elements in the vocabulary_file ./diabetes_vocab/Glipizide_And_Metformin_Hydrochloride_vocab.txt.\n",
      "INFO:tensorflow:vocabulary_size = 4 in Glyburide is inferred from the number of elements in the vocabulary_file ./diabetes_vocab/Glyburide_vocab.txt.\n",
      "INFO:tensorflow:vocabulary_size = 4 in Glyburide_And_Metformin_Hydrochloride is inferred from the number of elements in the vocabulary_file ./diabetes_vocab/Glyburide_And_Metformin_Hydrochloride_vocab.txt.\n",
      "INFO:tensorflow:vocabulary_size = 4 in Glyburide-metformin_Hydrochloride is inferred from the number of elements in the vocabulary_file ./diabetes_vocab/Glyburide-metformin_Hydrochloride_vocab.txt.\n",
      "INFO:tensorflow:vocabulary_size = 4 in Human_Insulin is inferred from the number of elements in the vocabulary_file ./diabetes_vocab/Human_Insulin_vocab.txt.\n",
      "INFO:tensorflow:vocabulary_size = 4 in Insulin_Human is inferred from the number of elements in the vocabulary_file ./diabetes_vocab/Insulin_Human_vocab.txt.\n",
      "INFO:tensorflow:vocabulary_size = 4 in Metformin_Hcl is inferred from the number of elements in the vocabulary_file ./diabetes_vocab/Metformin_Hcl_vocab.txt.\n",
      "INFO:tensorflow:vocabulary_size = 4 in Metformin_Hydrochloride is inferred from the number of elements in the vocabulary_file ./diabetes_vocab/Metformin_Hydrochloride_vocab.txt.\n",
      "INFO:tensorflow:vocabulary_size = 4 in Miglitol is inferred from the number of elements in the vocabulary_file ./diabetes_vocab/Miglitol_vocab.txt.\n",
      "INFO:tensorflow:vocabulary_size = 4 in Nateglinide is inferred from the number of elements in the vocabulary_file ./diabetes_vocab/Nateglinide_vocab.txt.\n",
      "INFO:tensorflow:vocabulary_size = 3 in Pioglitazole_And_Metformin_Hydrochloride is inferred from the number of elements in the vocabulary_file ./diabetes_vocab/Pioglitazole_And_Metformin_Hydrochloride_vocab.txt.\n",
      "INFO:tensorflow:vocabulary_size = 4 in Pioglitazone is inferred from the number of elements in the vocabulary_file ./diabetes_vocab/Pioglitazone_vocab.txt.\n",
      "INFO:tensorflow:vocabulary_size = 4 in Pioglitazone_Hydrochloride_And_Glimepiride is inferred from the number of elements in the vocabulary_file ./diabetes_vocab/Pioglitazone_Hydrochloride_And_Glimepiride_vocab.txt.\n",
      "INFO:tensorflow:vocabulary_size = 4 in Repaglinide is inferred from the number of elements in the vocabulary_file ./diabetes_vocab/Repaglinide_vocab.txt.\n",
      "INFO:tensorflow:vocabulary_size = 4 in Rosiglitazone_Maleate is inferred from the number of elements in the vocabulary_file ./diabetes_vocab/Rosiglitazone_Maleate_vocab.txt.\n",
      "INFO:tensorflow:vocabulary_size = 4 in Tolazamide is inferred from the number of elements in the vocabulary_file ./diabetes_vocab/Tolazamide_vocab.txt.\n",
      "INFO:tensorflow:vocabulary_size = 4 in Tolbutamide is inferred from the number of elements in the vocabulary_file ./diabetes_vocab/Tolbutamide_vocab.txt.\n"
     ]
    }
   ],
   "source": [
    "from student_utils import create_tf_categorical_feature_cols\n",
    "%load_ext autoreload\n",
    "%autoreload\n",
    "tf_cat_col_list = create_tf_categorical_feature_cols(student_categorical_col_list)\n"
   ]
  },
  {
   "cell_type": "code",
   "execution_count": 59,
   "metadata": {
    "scrolled": true
   },
   "outputs": [
    {
     "data": {
      "text/plain": [
       "[IndicatorColumn(categorical_column=VocabularyFileCategoricalColumn(key='admission_type_id', vocabulary_file='./diabetes_vocab/admission_type_id_vocab.txt', vocabulary_size=9, num_oov_buckets=1, dtype=tf.string, default_value=-1)),\n",
       " IndicatorColumn(categorical_column=VocabularyFileCategoricalColumn(key='discharge_disposition_id', vocabulary_file='./diabetes_vocab/discharge_disposition_id_vocab.txt', vocabulary_size=27, num_oov_buckets=1, dtype=tf.string, default_value=-1)),\n",
       " IndicatorColumn(categorical_column=VocabularyFileCategoricalColumn(key='admission_source_id', vocabulary_file='./diabetes_vocab/admission_source_id_vocab.txt', vocabulary_size=16, num_oov_buckets=1, dtype=tf.string, default_value=-1)),\n",
       " EmbeddingColumn(categorical_column=VocabularyFileCategoricalColumn(key='primary_diagnosis_code', vocabulary_file='./diabetes_vocab/primary_diagnosis_code_vocab.txt', vocabulary_size=660, num_oov_buckets=1, dtype=tf.string, default_value=-1), dimension=8, combiner='mean', initializer=<tensorflow.python.ops.init_ops.TruncatedNormal object at 0x7f1ce2d78650>, ckpt_to_load_from=None, tensor_name_in_ckpt=None, max_norm=None, trainable=True),\n",
       " EmbeddingColumn(categorical_column=VocabularyFileCategoricalColumn(key='other_diagnosis_codes', vocabulary_file='./diabetes_vocab/other_diagnosis_codes_vocab.txt', vocabulary_size=11338, num_oov_buckets=1, dtype=tf.string, default_value=-1), dimension=8, combiner='mean', initializer=<tensorflow.python.ops.init_ops.TruncatedNormal object at 0x7f1ce2bd8c90>, ckpt_to_load_from=None, tensor_name_in_ckpt=None, max_norm=None, trainable=True),\n",
       " IndicatorColumn(categorical_column=VocabularyFileCategoricalColumn(key='max_glu_serum', vocabulary_file='./diabetes_vocab/max_glu_serum_vocab.txt', vocabulary_size=5, num_oov_buckets=1, dtype=tf.string, default_value=-1)),\n",
       " IndicatorColumn(categorical_column=VocabularyFileCategoricalColumn(key='A1Cresult', vocabulary_file='./diabetes_vocab/A1Cresult_vocab.txt', vocabulary_size=5, num_oov_buckets=1, dtype=tf.string, default_value=-1)),\n",
       " IndicatorColumn(categorical_column=VocabularyFileCategoricalColumn(key='change', vocabulary_file='./diabetes_vocab/change_vocab.txt', vocabulary_size=3, num_oov_buckets=1, dtype=tf.string, default_value=-1)),\n",
       " IndicatorColumn(categorical_column=VocabularyFileCategoricalColumn(key='race', vocabulary_file='./diabetes_vocab/race_vocab.txt', vocabulary_size=6, num_oov_buckets=1, dtype=tf.string, default_value=-1)),\n",
       " IndicatorColumn(categorical_column=VocabularyFileCategoricalColumn(key='gender', vocabulary_file='./diabetes_vocab/gender_vocab.txt', vocabulary_size=3, num_oov_buckets=1, dtype=tf.string, default_value=-1)),\n",
       " IndicatorColumn(categorical_column=VocabularyFileCategoricalColumn(key='age', vocabulary_file='./diabetes_vocab/age_vocab.txt', vocabulary_size=11, num_oov_buckets=1, dtype=tf.string, default_value=-1)),\n",
       " IndicatorColumn(categorical_column=VocabularyFileCategoricalColumn(key='Acarbose', vocabulary_file='./diabetes_vocab/Acarbose_vocab.txt', vocabulary_size=4, num_oov_buckets=1, dtype=tf.string, default_value=-1)),\n",
       " IndicatorColumn(categorical_column=VocabularyFileCategoricalColumn(key='Glimepiride', vocabulary_file='./diabetes_vocab/Glimepiride_vocab.txt', vocabulary_size=4, num_oov_buckets=1, dtype=tf.string, default_value=-1)),\n",
       " IndicatorColumn(categorical_column=VocabularyFileCategoricalColumn(key='Glipizide', vocabulary_file='./diabetes_vocab/Glipizide_vocab.txt', vocabulary_size=4, num_oov_buckets=1, dtype=tf.string, default_value=-1)),\n",
       " IndicatorColumn(categorical_column=VocabularyFileCategoricalColumn(key='Glipizide_And_Metformin_Hcl', vocabulary_file='./diabetes_vocab/Glipizide_And_Metformin_Hcl_vocab.txt', vocabulary_size=4, num_oov_buckets=1, dtype=tf.string, default_value=-1)),\n",
       " IndicatorColumn(categorical_column=VocabularyFileCategoricalColumn(key='Glipizide_And_Metformin_Hydrochloride', vocabulary_file='./diabetes_vocab/Glipizide_And_Metformin_Hydrochloride_vocab.txt', vocabulary_size=4, num_oov_buckets=1, dtype=tf.string, default_value=-1)),\n",
       " IndicatorColumn(categorical_column=VocabularyFileCategoricalColumn(key='Glyburide', vocabulary_file='./diabetes_vocab/Glyburide_vocab.txt', vocabulary_size=4, num_oov_buckets=1, dtype=tf.string, default_value=-1)),\n",
       " IndicatorColumn(categorical_column=VocabularyFileCategoricalColumn(key='Glyburide_And_Metformin_Hydrochloride', vocabulary_file='./diabetes_vocab/Glyburide_And_Metformin_Hydrochloride_vocab.txt', vocabulary_size=4, num_oov_buckets=1, dtype=tf.string, default_value=-1)),\n",
       " IndicatorColumn(categorical_column=VocabularyFileCategoricalColumn(key='Glyburide-metformin_Hydrochloride', vocabulary_file='./diabetes_vocab/Glyburide-metformin_Hydrochloride_vocab.txt', vocabulary_size=4, num_oov_buckets=1, dtype=tf.string, default_value=-1)),\n",
       " IndicatorColumn(categorical_column=VocabularyFileCategoricalColumn(key='Human_Insulin', vocabulary_file='./diabetes_vocab/Human_Insulin_vocab.txt', vocabulary_size=4, num_oov_buckets=1, dtype=tf.string, default_value=-1)),\n",
       " IndicatorColumn(categorical_column=VocabularyFileCategoricalColumn(key='Insulin_Human', vocabulary_file='./diabetes_vocab/Insulin_Human_vocab.txt', vocabulary_size=4, num_oov_buckets=1, dtype=tf.string, default_value=-1)),\n",
       " IndicatorColumn(categorical_column=VocabularyFileCategoricalColumn(key='Metformin_Hcl', vocabulary_file='./diabetes_vocab/Metformin_Hcl_vocab.txt', vocabulary_size=4, num_oov_buckets=1, dtype=tf.string, default_value=-1)),\n",
       " IndicatorColumn(categorical_column=VocabularyFileCategoricalColumn(key='Metformin_Hydrochloride', vocabulary_file='./diabetes_vocab/Metformin_Hydrochloride_vocab.txt', vocabulary_size=4, num_oov_buckets=1, dtype=tf.string, default_value=-1)),\n",
       " IndicatorColumn(categorical_column=VocabularyFileCategoricalColumn(key='Miglitol', vocabulary_file='./diabetes_vocab/Miglitol_vocab.txt', vocabulary_size=4, num_oov_buckets=1, dtype=tf.string, default_value=-1)),\n",
       " IndicatorColumn(categorical_column=VocabularyFileCategoricalColumn(key='Nateglinide', vocabulary_file='./diabetes_vocab/Nateglinide_vocab.txt', vocabulary_size=4, num_oov_buckets=1, dtype=tf.string, default_value=-1)),\n",
       " IndicatorColumn(categorical_column=VocabularyFileCategoricalColumn(key='Pioglitazole_And_Metformin_Hydrochloride', vocabulary_file='./diabetes_vocab/Pioglitazole_And_Metformin_Hydrochloride_vocab.txt', vocabulary_size=3, num_oov_buckets=1, dtype=tf.string, default_value=-1)),\n",
       " IndicatorColumn(categorical_column=VocabularyFileCategoricalColumn(key='Pioglitazone', vocabulary_file='./diabetes_vocab/Pioglitazone_vocab.txt', vocabulary_size=4, num_oov_buckets=1, dtype=tf.string, default_value=-1)),\n",
       " IndicatorColumn(categorical_column=VocabularyFileCategoricalColumn(key='Pioglitazone_Hydrochloride_And_Glimepiride', vocabulary_file='./diabetes_vocab/Pioglitazone_Hydrochloride_And_Glimepiride_vocab.txt', vocabulary_size=4, num_oov_buckets=1, dtype=tf.string, default_value=-1)),\n",
       " IndicatorColumn(categorical_column=VocabularyFileCategoricalColumn(key='Repaglinide', vocabulary_file='./diabetes_vocab/Repaglinide_vocab.txt', vocabulary_size=4, num_oov_buckets=1, dtype=tf.string, default_value=-1)),\n",
       " IndicatorColumn(categorical_column=VocabularyFileCategoricalColumn(key='Rosiglitazone_Maleate', vocabulary_file='./diabetes_vocab/Rosiglitazone_Maleate_vocab.txt', vocabulary_size=4, num_oov_buckets=1, dtype=tf.string, default_value=-1)),\n",
       " IndicatorColumn(categorical_column=VocabularyFileCategoricalColumn(key='Tolazamide', vocabulary_file='./diabetes_vocab/Tolazamide_vocab.txt', vocabulary_size=4, num_oov_buckets=1, dtype=tf.string, default_value=-1)),\n",
       " IndicatorColumn(categorical_column=VocabularyFileCategoricalColumn(key='Tolbutamide', vocabulary_file='./diabetes_vocab/Tolbutamide_vocab.txt', vocabulary_size=4, num_oov_buckets=1, dtype=tf.string, default_value=-1))]"
      ]
     },
     "execution_count": 59,
     "metadata": {},
     "output_type": "execute_result"
    }
   ],
   "source": [
    "tf_cat_col_list"
   ]
  },
  {
   "cell_type": "code",
   "execution_count": 60,
   "metadata": {},
   "outputs": [
    {
     "name": "stdout",
     "output_type": "stream",
     "text": [
      "Example categorical field:\n",
      "IndicatorColumn(categorical_column=VocabularyFileCategoricalColumn(key='max_glu_serum', vocabulary_file='./diabetes_vocab/max_glu_serum_vocab.txt', vocabulary_size=5, num_oov_buckets=1, dtype=tf.string, default_value=-1))\n",
      "WARNING:tensorflow:From /opt/conda/lib/python3.7/site-packages/tensorflow_core/python/feature_column/feature_column_v2.py:4267: IndicatorColumn._variable_shape (from tensorflow.python.feature_column.feature_column_v2) is deprecated and will be removed in a future version.\n",
      "Instructions for updating:\n",
      "The old _FeatureColumn APIs are being deprecated. Please use the new FeatureColumn APIs instead.\n",
      "WARNING:tensorflow:From /opt/conda/lib/python3.7/site-packages/tensorflow_core/python/feature_column/feature_column_v2.py:4322: VocabularyFileCategoricalColumn._num_buckets (from tensorflow.python.feature_column.feature_column_v2) is deprecated and will be removed in a future version.\n",
      "Instructions for updating:\n",
      "The old _FeatureColumn APIs are being deprecated. Please use the new FeatureColumn APIs instead.\n",
      "tf.Tensor(\n",
      "[[0. 1. 0. 0. 0. 0.]\n",
      " [0. 1. 0. 0. 0. 0.]\n",
      " [0. 1. 0. 0. 0. 0.]\n",
      " [0. 1. 0. 0. 0. 0.]\n",
      " [0. 1. 0. 0. 0. 0.]\n",
      " [0. 1. 0. 0. 0. 0.]\n",
      " [0. 1. 0. 0. 0. 0.]\n",
      " [0. 0. 0. 1. 0. 0.]\n",
      " [0. 1. 0. 0. 0. 0.]\n",
      " [0. 1. 0. 0. 0. 0.]\n",
      " [0. 1. 0. 0. 0. 0.]\n",
      " [0. 1. 0. 0. 0. 0.]\n",
      " [0. 1. 0. 0. 0. 0.]\n",
      " [0. 1. 0. 0. 0. 0.]\n",
      " [0. 1. 0. 0. 0. 0.]\n",
      " [0. 1. 0. 0. 0. 0.]\n",
      " [0. 1. 0. 0. 0. 0.]\n",
      " [0. 1. 0. 0. 0. 0.]\n",
      " [0. 1. 0. 0. 0. 0.]\n",
      " [0. 1. 0. 0. 0. 0.]\n",
      " [0. 1. 0. 0. 0. 0.]\n",
      " [0. 1. 0. 0. 0. 0.]\n",
      " [0. 1. 0. 0. 0. 0.]\n",
      " [0. 1. 0. 0. 0. 0.]\n",
      " [0. 1. 0. 0. 0. 0.]\n",
      " [0. 1. 0. 0. 0. 0.]\n",
      " [0. 1. 0. 0. 0. 0.]\n",
      " [0. 1. 0. 0. 0. 0.]\n",
      " [0. 1. 0. 0. 0. 0.]\n",
      " [0. 1. 0. 0. 0. 0.]\n",
      " [0. 1. 0. 0. 0. 0.]\n",
      " [0. 1. 0. 0. 0. 0.]\n",
      " [0. 1. 0. 0. 0. 0.]\n",
      " [0. 1. 0. 0. 0. 0.]\n",
      " [0. 1. 0. 0. 0. 0.]\n",
      " [0. 1. 0. 0. 0. 0.]\n",
      " [0. 1. 0. 0. 0. 0.]\n",
      " [0. 1. 0. 0. 0. 0.]\n",
      " [0. 1. 0. 0. 0. 0.]\n",
      " [0. 1. 0. 0. 0. 0.]\n",
      " [0. 1. 0. 0. 0. 0.]\n",
      " [0. 1. 0. 0. 0. 0.]\n",
      " [0. 1. 0. 0. 0. 0.]\n",
      " [0. 0. 0. 0. 1. 0.]\n",
      " [0. 1. 0. 0. 0. 0.]\n",
      " [0. 1. 0. 0. 0. 0.]\n",
      " [0. 1. 0. 0. 0. 0.]\n",
      " [0. 1. 0. 0. 0. 0.]\n",
      " [0. 0. 1. 0. 0. 0.]\n",
      " [0. 1. 0. 0. 0. 0.]\n",
      " [0. 1. 0. 0. 0. 0.]\n",
      " [0. 1. 0. 0. 0. 0.]\n",
      " [0. 1. 0. 0. 0. 0.]\n",
      " [0. 1. 0. 0. 0. 0.]\n",
      " [0. 1. 0. 0. 0. 0.]\n",
      " [0. 1. 0. 0. 0. 0.]\n",
      " [0. 1. 0. 0. 0. 0.]\n",
      " [0. 1. 0. 0. 0. 0.]\n",
      " [0. 1. 0. 0. 0. 0.]\n",
      " [0. 1. 0. 0. 0. 0.]\n",
      " [0. 1. 0. 0. 0. 0.]\n",
      " [0. 1. 0. 0. 0. 0.]\n",
      " [0. 1. 0. 0. 0. 0.]\n",
      " [0. 1. 0. 0. 0. 0.]\n",
      " [0. 1. 0. 0. 0. 0.]\n",
      " [0. 1. 0. 0. 0. 0.]\n",
      " [0. 1. 0. 0. 0. 0.]\n",
      " [0. 1. 0. 0. 0. 0.]\n",
      " [0. 1. 0. 0. 0. 0.]\n",
      " [0. 1. 0. 0. 0. 0.]\n",
      " [0. 1. 0. 0. 0. 0.]\n",
      " [0. 1. 0. 0. 0. 0.]\n",
      " [0. 1. 0. 0. 0. 0.]\n",
      " [0. 1. 0. 0. 0. 0.]\n",
      " [0. 1. 0. 0. 0. 0.]\n",
      " [0. 1. 0. 0. 0. 0.]\n",
      " [0. 1. 0. 0. 0. 0.]\n",
      " [0. 1. 0. 0. 0. 0.]\n",
      " [0. 1. 0. 0. 0. 0.]\n",
      " [0. 1. 0. 0. 0. 0.]\n",
      " [0. 1. 0. 0. 0. 0.]\n",
      " [0. 1. 0. 0. 0. 0.]\n",
      " [0. 1. 0. 0. 0. 0.]\n",
      " [0. 1. 0. 0. 0. 0.]\n",
      " [0. 0. 0. 1. 0. 0.]\n",
      " [0. 1. 0. 0. 0. 0.]\n",
      " [0. 1. 0. 0. 0. 0.]\n",
      " [0. 1. 0. 0. 0. 0.]\n",
      " [0. 1. 0. 0. 0. 0.]\n",
      " [0. 0. 0. 0. 1. 0.]\n",
      " [0. 1. 0. 0. 0. 0.]\n",
      " [0. 1. 0. 0. 0. 0.]\n",
      " [0. 1. 0. 0. 0. 0.]\n",
      " [0. 1. 0. 0. 0. 0.]\n",
      " [0. 1. 0. 0. 0. 0.]\n",
      " [0. 1. 0. 0. 0. 0.]\n",
      " [0. 1. 0. 0. 0. 0.]\n",
      " [0. 1. 0. 0. 0. 0.]\n",
      " [0. 1. 0. 0. 0. 0.]\n",
      " [0. 1. 0. 0. 0. 0.]\n",
      " [0. 1. 0. 0. 0. 0.]\n",
      " [0. 1. 0. 0. 0. 0.]\n",
      " [0. 1. 0. 0. 0. 0.]\n",
      " [0. 1. 0. 0. 0. 0.]\n",
      " [0. 1. 0. 0. 0. 0.]\n",
      " [0. 1. 0. 0. 0. 0.]\n",
      " [0. 1. 0. 0. 0. 0.]\n",
      " [0. 1. 0. 0. 0. 0.]\n",
      " [0. 1. 0. 0. 0. 0.]\n",
      " [0. 1. 0. 0. 0. 0.]\n",
      " [0. 1. 0. 0. 0. 0.]\n",
      " [0. 1. 0. 0. 0. 0.]\n",
      " [0. 1. 0. 0. 0. 0.]\n",
      " [0. 1. 0. 0. 0. 0.]\n",
      " [0. 1. 0. 0. 0. 0.]\n",
      " [0. 1. 0. 0. 0. 0.]\n",
      " [0. 1. 0. 0. 0. 0.]\n",
      " [0. 1. 0. 0. 0. 0.]\n",
      " [0. 1. 0. 0. 0. 0.]\n",
      " [0. 1. 0. 0. 0. 0.]\n",
      " [0. 1. 0. 0. 0. 0.]\n",
      " [0. 1. 0. 0. 0. 0.]\n",
      " [0. 1. 0. 0. 0. 0.]\n",
      " [0. 1. 0. 0. 0. 0.]\n",
      " [0. 1. 0. 0. 0. 0.]\n",
      " [0. 1. 0. 0. 0. 0.]\n",
      " [0. 1. 0. 0. 0. 0.]\n",
      " [0. 1. 0. 0. 0. 0.]], shape=(128, 6), dtype=float32)\n"
     ]
    }
   ],
   "source": [
    "test_cat_var1 = tf_cat_col_list[5]\n",
    "print(\"Example categorical field:\\n{}\".format(test_cat_var1))\n",
    "demo(test_cat_var1, diabetes_batch)"
   ]
  },
  {
   "cell_type": "markdown",
   "metadata": {},
   "source": [
    "# 5. Create Numerical Features with TF Feature Columns"
   ]
  },
  {
   "cell_type": "markdown",
   "metadata": {},
   "source": [
    "**Question 8**: Using the TF Feature Column API(https://www.tensorflow.org/api_docs/python/tf/feature_column/), please create normalized Tensorflow numeric features for the model. Try to use the z-score normalizer function below to help as well as the 'calculate_stats_from_train_data' function."
   ]
  },
  {
   "cell_type": "code",
   "execution_count": 61,
   "metadata": {},
   "outputs": [
    {
     "name": "stdout",
     "output_type": "stream",
     "text": [
      "<class 'pandas.core.frame.DataFrame'>\n",
      "Int64Index: 41735 entries, 23830 to 54986\n",
      "Data columns (total 41 columns):\n",
      " #   Column                                      Non-Null Count  Dtype  \n",
      "---  ------                                      --------------  -----  \n",
      " 0   patient_nbr                                 41735 non-null  int64  \n",
      " 1   time_in_hospital                            41735 non-null  float64\n",
      " 2   admission_type_id                           41735 non-null  object \n",
      " 3   discharge_disposition_id                    41735 non-null  object \n",
      " 4   admission_source_id                         41735 non-null  object \n",
      " 5   primary_diagnosis_code                      41735 non-null  object \n",
      " 6   other_diagnosis_codes                       41735 non-null  object \n",
      " 7   max_glu_serum                               41735 non-null  object \n",
      " 8   A1Cresult                                   41735 non-null  object \n",
      " 9   change                                      41735 non-null  object \n",
      " 10  race                                        41735 non-null  object \n",
      " 11  gender                                      41735 non-null  object \n",
      " 12  age                                         41735 non-null  object \n",
      " 13  Acarbose                                    41735 non-null  object \n",
      " 14  Glimepiride                                 41735 non-null  object \n",
      " 15  Glipizide                                   41735 non-null  object \n",
      " 16  Glipizide_And_Metformin_Hcl                 41735 non-null  object \n",
      " 17  Glipizide_And_Metformin_Hydrochloride       41735 non-null  object \n",
      " 18  Glyburide                                   41735 non-null  object \n",
      " 19  Glyburide_And_Metformin_Hydrochloride       41735 non-null  object \n",
      " 20  Glyburide-metformin_Hydrochloride           41735 non-null  object \n",
      " 21  Human_Insulin                               41735 non-null  object \n",
      " 22  Insulin_Human                               41735 non-null  object \n",
      " 23  Metformin_Hcl                               41735 non-null  object \n",
      " 24  Metformin_Hydrochloride                     41735 non-null  object \n",
      " 25  Miglitol                                    41735 non-null  object \n",
      " 26  Nateglinide                                 41735 non-null  object \n",
      " 27  Pioglitazole_And_Metformin_Hydrochloride    41735 non-null  object \n",
      " 28  Pioglitazone                                41735 non-null  object \n",
      " 29  Pioglitazone_Hydrochloride_And_Glimepiride  41735 non-null  object \n",
      " 30  Repaglinide                                 41735 non-null  object \n",
      " 31  Rosiglitazone_Maleate                       41735 non-null  object \n",
      " 32  Tolazamide                                  41735 non-null  object \n",
      " 33  Tolbutamide                                 41735 non-null  object \n",
      " 34  number_outpatient                           41735 non-null  int64  \n",
      " 35  number_inpatient                            41735 non-null  int64  \n",
      " 36  number_emergency                            41735 non-null  int64  \n",
      " 37  num_lab_procedures                          41735 non-null  int64  \n",
      " 38  number_diagnoses                            41735 non-null  int64  \n",
      " 39  num_medications                             41735 non-null  int64  \n",
      " 40  num_procedures                              41735 non-null  int64  \n",
      "dtypes: float64(1), int64(8), object(32)\n",
      "memory usage: 13.4+ MB\n"
     ]
    }
   ],
   "source": [
    "d_train.info()"
   ]
  },
  {
   "cell_type": "code",
   "execution_count": 62,
   "metadata": {},
   "outputs": [
    {
     "name": "stdout",
     "output_type": "stream",
     "text": [
      "The autoreload extension is already loaded. To reload it, use:\n",
      "  %reload_ext autoreload\n"
     ]
    }
   ],
   "source": [
    "from student_utils import create_tf_numeric_feature\n",
    "%load_ext autoreload\n",
    "%autoreload"
   ]
  },
  {
   "cell_type": "markdown",
   "metadata": {},
   "source": [
    "For simplicity the create_tf_numerical_feature_cols function below uses the same normalizer function across all features(z-score normalization) but if you have time feel free to analyze and adapt the normalizer based off the statistical distributions. You may find this as a good resource in determining which transformation fits best for the data https://developers.google.com/machine-learning/data-prep/transform/normalization.\n"
   ]
  },
  {
   "cell_type": "code",
   "execution_count": 63,
   "metadata": {},
   "outputs": [],
   "source": [
    "def calculate_stats_from_train_data(df, col):\n",
    "    mean = df[col].describe()['mean']\n",
    "    std = df[col].describe()['std']\n",
    "    return mean, std\n",
    "\n",
    "def create_tf_numerical_feature_cols(numerical_col_list, train_df):\n",
    "    tf_numeric_col_list = []\n",
    "    for c in numerical_col_list:\n",
    "        mean, std = calculate_stats_from_train_data(train_df, c)\n",
    "        print(mean,std)\n",
    "        tf_numeric_feature = create_tf_numeric_feature(c, mean, std,default_value=0)\n",
    "        tf_numeric_col_list.append(tf_numeric_feature)\n",
    "    return tf_numeric_col_list"
   ]
  },
  {
   "cell_type": "code",
   "execution_count": 64,
   "metadata": {
    "scrolled": false
   },
   "outputs": [
    {
     "name": "stdout",
     "output_type": "stream",
     "text": [
      "0.28180184497424227 1.0681786456159696\n",
      "0.17656643105307296 0.5898431458717809\n",
      "0.10559482448783994 0.5444193938148875\n",
      "43.12100155744579 19.975886972490905\n",
      "7.262729124236253 1.983604232575535\n",
      "15.691649694501018 8.305205730588817\n",
      "1.432131304660357 1.759266533477442\n"
     ]
    }
   ],
   "source": [
    "tf_cont_col_list = create_tf_numerical_feature_cols(student_numerical_col_list, d_train)"
   ]
  },
  {
   "cell_type": "code",
   "execution_count": 65,
   "metadata": {},
   "outputs": [
    {
     "data": {
      "text/plain": [
       "{'patient_nbr': <tf.Tensor: shape=(128,), dtype=int32, numpy=\n",
       " array([ 90752202, 104663637,  23350887,   3893184,  18616887,  32564628,\n",
       "         40576212,  23554332,  80169489,  41581485,  85318416,  90792405,\n",
       "         41606991,  85743513, 104420196,   3478455,  10120473,  80419230,\n",
       "         53746947,   6561846,  98427600,   1429821,  82567215,    725067,\n",
       "         68496147,  56226078,    487350, 107090271,   8007246, 139362701,\n",
       "        102526542,  62178291,  84318156,   1338120,  24527187,  40903722,\n",
       "         42514713, 111176856,    419832,     27936, 107044461,  24976692,\n",
       "           244629,  64832823,   6528402,  35994474,     10377,  70631055,\n",
       "         23395950, 112157757,  95245263,  91398213,     78129, 105822144,\n",
       "         59737914,  87885882,  80763894,   6251184, 189257846,  80101566,\n",
       "         24094215, 108731844,  30143844,    377523,  18580878,  23626629,\n",
       "         66776904,  21667167,  38278341,   5693103,  89418528,   1236933,\n",
       "          3965526,  31848462,  86047416,    325980,  23945607,   3339216,\n",
       "         19001421,  85845537, 102351636,  83077533,   1182384,  24022530,\n",
       "         25270164, 105493626,  60881814, 101413557,  96551055,  23643405,\n",
       "         83396502,  68785479,  68230296, 187750211,  23878827, 101504385,\n",
       "         52019892,  86161338, 134973860,  87338070, 103624506,  71710956,\n",
       "         99103275,   6792642,    838575,  87414903,  24769332,  21417129,\n",
       "         91153611,  39503970,   3625776, 101216043,  23639841,    547668,\n",
       "         23030928,  13900734,  81131589,    135261, 104704110,    279288,\n",
       "          2773899,  38356119,  76773537, 100298628,  90111483,  71785764,\n",
       "         80462151,  55847214], dtype=int32)>,\n",
       " 'admission_type_id': <tf.Tensor: shape=(128,), dtype=string, numpy=\n",
       " array([b'2', b'1', b'1', b'2', b'3', b'1', b'2', b'5', b'1', b'1', b'1',\n",
       "        b'3', b'3', b'1', b'1', b'1', b'1', b'2', b'1', b'1', b'1', b'1',\n",
       "        b'3', b'1', b'1', b'5', b'1', b'2', b'3', b'2', b'1', b'1', b'1',\n",
       "        b'2', b'1', b'1', b'3', b'1', b'6', b'6', b'3', b'1', b'1', b'6',\n",
       "        b'3', b'2', b'2', b'2', b'5', b'1', b'2', b'3', b'3', b'1', b'1',\n",
       "        b'1', b'1', b'3', b'1', b'6', b'1', b'1', b'1', b'6', b'2', b'3',\n",
       "        b'1', b'3', b'1', b'2', b'3', b'6', b'1', b'1', b'1', b'6', b'1',\n",
       "        b'2', b'2', b'6', b'1', b'1', b'1', b'1', b'5', b'1', b'3', b'1',\n",
       "        b'1', b'5', b'1', b'1', b'1', b'1', b'1', b'1', b'1', b'1', b'3',\n",
       "        b'1', b'2', b'6', b'3', b'3', b'2', b'1', b'1', b'1', b'1', b'1',\n",
       "        b'1', b'6', b'1', b'1', b'1', b'2', b'2', b'1', b'3', b'1', b'1',\n",
       "        b'1', b'6', b'1', b'2', b'1', b'3', b'1'], dtype=object)>,\n",
       " 'discharge_disposition_id': <tf.Tensor: shape=(128,), dtype=string, numpy=\n",
       " array([b'2', b'1', b'1', b'22', b'6', b'1', b'1', b'1', b'1', b'4', b'3',\n",
       "        b'3', b'6', b'1', b'6', b'2', b'6', b'1', b'1', b'1', b'1', b'11',\n",
       "        b'1', b'1', b'3', b'1', b'1', b'1', b'5', b'3', b'6', b'1', b'3',\n",
       "        b'1', b'1', b'1', b'1', b'5', b'25', b'25', b'1', b'22', b'3',\n",
       "        b'1', b'1', b'1', b'1', b'1', b'3', b'1', b'1', b'3', b'1', b'6',\n",
       "        b'1', b'6', b'6', b'1', b'1', b'6', b'1', b'7', b'1', b'1', b'6',\n",
       "        b'1', b'6', b'1', b'1', b'1', b'1', b'25', b'18', b'1', b'1', b'1',\n",
       "        b'1', b'1', b'18', b'5', b'1', b'1', b'1', b'23', b'1', b'1', b'3',\n",
       "        b'6', b'4', b'1', b'1', b'6', b'1', b'13', b'1', b'1', b'3', b'2',\n",
       "        b'1', b'1', b'3', b'3', b'1', b'1', b'1', b'3', b'1', b'8', b'6',\n",
       "        b'3', b'1', b'1', b'1', b'1', b'1', b'1', b'1', b'1', b'1', b'1',\n",
       "        b'1', b'1', b'3', b'3', b'1', b'1', b'3', b'1'], dtype=object)>,\n",
       " 'admission_source_id': <tf.Tensor: shape=(128,), dtype=string, numpy=\n",
       " array([b'7', b'7', b'7', b'1', b'4', b'7', b'1', b'17', b'7', b'7', b'7',\n",
       "        b'7', b'1', b'7', b'7', b'6', b'7', b'1', b'7', b'7', b'7', b'6',\n",
       "        b'1', b'7', b'7', b'1', b'7', b'1', b'1', b'5', b'7', b'7', b'7',\n",
       "        b'1', b'7', b'7', b'1', b'7', b'7', b'7', b'1', b'7', b'7', b'7',\n",
       "        b'2', b'1', b'1', b'1', b'17', b'7', b'2', b'1', b'1', b'7', b'7',\n",
       "        b'7', b'7', b'1', b'7', b'17', b'7', b'7', b'7', b'17', b'1', b'1',\n",
       "        b'7', b'1', b'7', b'1', b'1', b'7', b'7', b'7', b'1', b'17', b'7',\n",
       "        b'1', b'4', b'17', b'7', b'7', b'7', b'7', b'17', b'1', b'1', b'7',\n",
       "        b'7', b'17', b'7', b'7', b'7', b'7', b'7', b'2', b'7', b'7', b'1',\n",
       "        b'7', b'6', b'1', b'7', b'1', b'1', b'7', b'7', b'7', b'7', b'7',\n",
       "        b'6', b'17', b'17', b'7', b'7', b'1', b'1', b'6', b'1', b'7', b'7',\n",
       "        b'7', b'5', b'7', b'7', b'7', b'1', b'7'], dtype=object)>,\n",
       " 'primary_diagnosis_code': <tf.Tensor: shape=(128,), dtype=string, numpy=\n",
       " array([b'410', b'491', b'38', b'434', b'V57', b'490', b'486', b'562',\n",
       "        b'428', b'491', b'820', b'786', b'V58', b'491', b'507', b'805',\n",
       "        b'599', b'285', b'786', b'599', b'428', b'507', b'185', b'309',\n",
       "        b'535', b'274', b'682', b'722', b'715', b'491', b'427', b'250',\n",
       "        b'924', b'414', b'435', b'427', b'414', b'250.1', b'250.8', b'441',\n",
       "        b'250.6', b'433', b'820', b'250.13', b'162', b'996', b'600',\n",
       "        b'250.7', b'682', b'428', b'584', b'715', b'998', b'486', b'813',\n",
       "        b'298', b'428', b'787', b'578', b'577', b'250.82', b'427', b'250',\n",
       "        b'786', b'453', b'558', b'410', b'715', b'401', b'414', b'537',\n",
       "        b'250.22', b'428', b'578', b'459', b'428', b'786', b'280', b'410',\n",
       "        b'562', b'611', b'780', b'455', b'38', b'211', b'562', b'585',\n",
       "        b'459', b'786', b'646', b'491', b'820', b'560', b'276', b'851',\n",
       "        b'428', b'824', b'410', b'414', b'434', b'584', b'434', b'786',\n",
       "        b'410', b'722', b'808', b'250.12', b'453', b'250.22', b'486',\n",
       "        b'540', b'456', b'789', b'596', b'577', b'403', b'414', b'414',\n",
       "        b'722', b'574', b'458', b'574', b'730', b'562', b'786', b'333',\n",
       "        b'682', b'8'], dtype=object)>,\n",
       " 'other_diagnosis_codes': <tf.Tensor: shape=(128,), dtype=string, numpy=\n",
       " array([b\"['414', '250']\", b\"['162', '198']\", b\"['250.03', '403']\",\n",
       "        b\"['784', '293']\", b\"['250.02', '780']\", b\"['780', '401']\",\n",
       "        b\"['491', '250.02']\", b\"['276', '272']\", b\"['425', '428']\",\n",
       "        b\"['276', '410']\", b\"['E885', 'E849']\", b\"['428', '276']\",\n",
       "        b\"['198', '250.02']\", b\"['682', '295']\", b\"['491', '799']\",\n",
       "        b\"['788', '?']\", b\"['276', '276']\", b\"['250.01', '537']\",\n",
       "        b\"['242', '684']\", b\"['276', '560']\", b\"['401', '250']\",\n",
       "        b\"['38', '518']\", b\"['250', '401']\", b\"['250.01', '305']\",\n",
       "        b\"['427', '428']\", b\"['250', '401']\", b\"['305', '250']\",\n",
       "        b\"['996', '998']\", b\"['595', '401']\", b\"['584', '599']\",\n",
       "        b\"['585', '584']\", b\"['244', '382']\", b\"['250.6', '250.42']\",\n",
       "        b\"['411', '250.02']\", b\"['437', 'V12']\", b\"['250.92', '427']\",\n",
       "        b\"['414', '401']\", b\"['584', '276']\", b\"['401', '414']\",\n",
       "        b\"['444', '805']\", b\"['707', '707']\", b\"['342', '401']\",\n",
       "        b\"['287', '414']\", b\"['285', '535']\", b\"['518', '401']\",\n",
       "        b\"['38', '996']\", b\"['599', '496']\", b\"['440', '403']\",\n",
       "        b\"['707', '599']\", b\"['611', '288']\", b\"['403', '276']\",\n",
       "        b\"['401', '250']\", b\"['433', '414']\", b\"['584', '493']\",\n",
       "        b\"['813', '824']\", b\"['427', '434']\", b\"['427', '250']\",\n",
       "        b\"['710', '716']\", b\"['425', '558']\", b\"['427', '276']\",\n",
       "        b\"['707', '730']\", b\"['428', '294']\", b\"['599', 'V63']\",\n",
       "        b\"['272', '250']\", b\"['250.7', '401']\", b\"['276', '276']\",\n",
       "        b\"['428', '428']\", b\"['424', '401']\", b\"['723', '782']\",\n",
       "        b\"['584', '428']\", b\"['276', '401']\", b\"['276', '401']\",\n",
       "        b\"['425', '250']\", b\"['285', '562']\", b\"['682', '135']\",\n",
       "        b\"['491', '250.41']\", b\"['250', '272']\", b\"['401', '250']\",\n",
       "        b\"['414', '250']\", b\"['560', '403']\", b\"['250.02', '305']\",\n",
       "        b\"['493', '427']\", b\"['427', '562']\", b\"['599', '427']\",\n",
       "        b\"['250.01', '?']\", b\"['276', '250']\", b\"['250', '438']\",\n",
       "        b\"['162', '197']\", b\"['518', '250']\", b\"['577', '401']\",\n",
       "        b\"['428', '401']\", b\"['413', '250']\", b\"['250', '401']\",\n",
       "        b\"['707', '162']\", b\"['E885', '910']\", b\"['491', '276']\",\n",
       "        b\"['286', '296']\", b\"['427', 'V43']\", b\"['746', '401']\",\n",
       "        b\"['357', 'V58']\", b\"['276', '496']\", b\"['276', '276']\",\n",
       "        b\"['427', '250']\", b\"['414', '250']\", b\"['250', '305']\",\n",
       "        b\"['E880', '916']\", b\"['276', '425']\", b\"['428', '250']\",\n",
       "        b\"['250.52', '362']\", b\"['785', '250.6']\", b\"['710', '620']\",\n",
       "        b\"['285', '531']\", b\"['250', '?']\", b\"['584', '276']\",\n",
       "        b\"['276', '574']\", b\"['250.02', '263']\", b\"['411', '562']\",\n",
       "        b\"['54', '402']\", b\"['585', '721']\", b\"['250', '244']\",\n",
       "        b\"['276', '263']\", b\"['250.02', '397']\", b\"['427', '428']\",\n",
       "        b\"['599', '250.8']\", b\"['401', '250']\", b\"['250', '276']\",\n",
       "        b\"['276', '511']\", b\"['294', '272']\"], dtype=object)>,\n",
       " 'max_glu_serum': <tf.Tensor: shape=(128,), dtype=string, numpy=\n",
       " array([b'None', b'None', b'None', b'None', b'None', b'None', b'None',\n",
       "        b'>200', b'None', b'None', b'None', b'None', b'None', b'None',\n",
       "        b'None', b'None', b'None', b'None', b'None', b'None', b'None',\n",
       "        b'None', b'None', b'None', b'None', b'None', b'None', b'None',\n",
       "        b'None', b'None', b'None', b'None', b'None', b'None', b'None',\n",
       "        b'None', b'None', b'None', b'None', b'None', b'None', b'None',\n",
       "        b'None', b'>300', b'None', b'None', b'None', b'None', b'Norm',\n",
       "        b'None', b'None', b'None', b'None', b'None', b'None', b'None',\n",
       "        b'None', b'None', b'None', b'None', b'None', b'None', b'None',\n",
       "        b'None', b'None', b'None', b'None', b'None', b'None', b'None',\n",
       "        b'None', b'None', b'None', b'None', b'None', b'None', b'None',\n",
       "        b'None', b'None', b'None', b'None', b'None', b'None', b'None',\n",
       "        b'>200', b'None', b'None', b'None', b'None', b'>300', b'None',\n",
       "        b'None', b'None', b'None', b'None', b'None', b'None', b'None',\n",
       "        b'None', b'None', b'None', b'None', b'None', b'None', b'None',\n",
       "        b'None', b'None', b'None', b'None', b'None', b'None', b'None',\n",
       "        b'None', b'None', b'None', b'None', b'None', b'None', b'None',\n",
       "        b'None', b'None', b'None', b'None', b'None', b'None', b'None',\n",
       "        b'None', b'None'], dtype=object)>,\n",
       " 'A1Cresult': <tf.Tensor: shape=(128,), dtype=string, numpy=\n",
       " array([b'Norm', b'None', b'None', b'>7', b'None', b'None', b'None',\n",
       "        b'None', b'>7', b'None', b'None', b'>7', b'None', b'None', b'None',\n",
       "        b'None', b'>8', b'None', b'None', b'None', b'None', b'None',\n",
       "        b'None', b'None', b'None', b'None', b'None', b'None', b'None',\n",
       "        b'None', b'None', b'None', b'None', b'None', b'None', b'None',\n",
       "        b'None', b'>8', b'>8', b'None', b'None', b'None', b'None', b'None',\n",
       "        b'None', b'None', b'None', b'None', b'None', b'>7', b'None',\n",
       "        b'None', b'None', b'None', b'None', b'None', b'None', b'None',\n",
       "        b'None', b'None', b'>8', b'None', b'Norm', b'None', b'None',\n",
       "        b'None', b'None', b'None', b'>7', b'None', b'None', b'None', b'>8',\n",
       "        b'None', b'None', b'None', b'>7', b'None', b'>8', b'None', b'>8',\n",
       "        b'None', b'None', b'None', b'None', b'None', b'None', b'None',\n",
       "        b'None', b'None', b'None', b'None', b'None', b'None', b'None',\n",
       "        b'None', b'None', b'None', b'None', b'None', b'None', b'None',\n",
       "        b'None', b'None', b'None', b'>8', b'None', b'None', b'>8', b'>7',\n",
       "        b'None', b'None', b'None', b'None', b'Norm', b'>8', b'None',\n",
       "        b'None', b'None', b'Norm', b'Norm', b'None', b'>7', b'None',\n",
       "        b'None', b'None', b'None', b'None'], dtype=object)>,\n",
       " 'change': <tf.Tensor: shape=(128,), dtype=string, numpy=\n",
       " array([b'No', b'No', b'No', b'No', b'Ch', b'No', b'Ch', b'Ch', b'No',\n",
       "        b'No', b'Ch', b'No', b'Ch', b'Ch', b'No', b'Ch', b'No', b'Ch',\n",
       "        b'No', b'No', b'Ch', b'No', b'No', b'No', b'No', b'Ch', b'Ch',\n",
       "        b'No', b'No', b'Ch', b'Ch', b'Ch', b'No', b'Ch', b'No', b'No',\n",
       "        b'Ch', b'Ch', b'Ch', b'No', b'Ch', b'Ch', b'Ch', b'Ch', b'Ch',\n",
       "        b'No', b'No', b'No', b'No', b'Ch', b'Ch', b'Ch', b'No', b'No',\n",
       "        b'Ch', b'No', b'No', b'No', b'Ch', b'No', b'Ch', b'No', b'Ch',\n",
       "        b'Ch', b'No', b'No', b'No', b'Ch', b'Ch', b'Ch', b'No', b'No',\n",
       "        b'No', b'No', b'No', b'Ch', b'Ch', b'No', b'Ch', b'No', b'Ch',\n",
       "        b'No', b'No', b'Ch', b'No', b'No', b'No', b'No', b'No', b'No',\n",
       "        b'Ch', b'No', b'No', b'No', b'Ch', b'Ch', b'Ch', b'Ch', b'Ch',\n",
       "        b'No', b'Ch', b'Ch', b'No', b'No', b'No', b'Ch', b'Ch', b'No',\n",
       "        b'Ch', b'No', b'No', b'Ch', b'Ch', b'No', b'No', b'No', b'No',\n",
       "        b'Ch', b'No', b'No', b'No', b'Ch', b'Ch', b'No', b'No', b'Ch',\n",
       "        b'Ch', b'No'], dtype=object)>,\n",
       " 'race': <tf.Tensor: shape=(128,), dtype=string, numpy=\n",
       " array([b'Caucasian', b'Caucasian', b'AfricanAmerican', b'Caucasian',\n",
       "        b'Caucasian', b'Caucasian', b'Caucasian', b'Caucasian',\n",
       "        b'Caucasian', b'Caucasian', b'Caucasian', b'Caucasian',\n",
       "        b'Caucasian', b'Caucasian', b'Caucasian', b'Caucasian',\n",
       "        b'Caucasian', b'Caucasian', b'Caucasian', b'Caucasian',\n",
       "        b'AfricanAmerican', b'Caucasian', b'Caucasian', b'Caucasian',\n",
       "        b'Caucasian', b'Other', b'AfricanAmerican', b'Caucasian',\n",
       "        b'Caucasian', b'Caucasian', b'Caucasian', b'Caucasian',\n",
       "        b'Caucasian', b'AfricanAmerican', b'Caucasian', b'Caucasian',\n",
       "        b'Caucasian', b'Caucasian', b'Caucasian', b'Caucasian',\n",
       "        b'Caucasian', b'AfricanAmerican', b'Caucasian', b'Caucasian',\n",
       "        b'Other', b'Asian', b'Caucasian', b'Caucasian', b'Caucasian',\n",
       "        b'Caucasian', b'Caucasian', b'Caucasian', b'Caucasian',\n",
       "        b'Caucasian', b'Caucasian', b'Caucasian', b'Caucasian',\n",
       "        b'AfricanAmerican', b'Asian', b'Caucasian', b'AfricanAmerican',\n",
       "        b'Caucasian', b'AfricanAmerican', b'Caucasian', b'AfricanAmerican',\n",
       "        b'AfricanAmerican', b'Caucasian', b'Caucasian', b'Asian',\n",
       "        b'Caucasian', b'Caucasian', b'AfricanAmerican', b'AfricanAmerican',\n",
       "        b'Caucasian', b'Caucasian', b'Caucasian', b'AfricanAmerican',\n",
       "        b'AfricanAmerican', b'Caucasian', b'AfricanAmerican', b'Caucasian',\n",
       "        b'Caucasian', b'Caucasian', b'Caucasian', b'Caucasian',\n",
       "        b'Caucasian', b'Caucasian', b'Caucasian', b'AfricanAmerican',\n",
       "        b'Caucasian', b'Caucasian', b'Caucasian', b'Caucasian', b'Other',\n",
       "        b'AfricanAmerican', b'Caucasian', b'Caucasian', b'Caucasian',\n",
       "        b'AfricanAmerican', b'Caucasian', b'Caucasian', b'Caucasian',\n",
       "        b'Caucasian', b'Caucasian', b'Caucasian', b'Caucasian',\n",
       "        b'Caucasian', b'AfricanAmerican', b'Caucasian', b'Caucasian',\n",
       "        b'Caucasian', b'Hispanic', b'Caucasian', b'AfricanAmerican',\n",
       "        b'Caucasian', b'Caucasian', b'Caucasian', b'Caucasian',\n",
       "        b'Caucasian', b'Caucasian', b'AfricanAmerican', b'Hispanic',\n",
       "        b'Caucasian', b'Caucasian', b'AfricanAmerican', b'Caucasian',\n",
       "        b'Caucasian', b'Caucasian'], dtype=object)>,\n",
       " 'gender': <tf.Tensor: shape=(128,), dtype=string, numpy=\n",
       " array([b'Male', b'Female', b'Female', b'Female', b'Female', b'Female',\n",
       "        b'Male', b'Female', b'Female', b'Female', b'Female', b'Female',\n",
       "        b'Female', b'Male', b'Male', b'Male', b'Male', b'Male', b'Female',\n",
       "        b'Male', b'Female', b'Male', b'Male', b'Female', b'Female',\n",
       "        b'Female', b'Female', b'Female', b'Female', b'Female', b'Male',\n",
       "        b'Female', b'Male', b'Male', b'Male', b'Female', b'Male', b'Male',\n",
       "        b'Male', b'Male', b'Male', b'Female', b'Female', b'Female',\n",
       "        b'Female', b'Female', b'Male', b'Male', b'Male', b'Female',\n",
       "        b'Male', b'Female', b'Female', b'Male', b'Female', b'Male',\n",
       "        b'Male', b'Female', b'Male', b'Male', b'Male', b'Female',\n",
       "        b'Female', b'Male', b'Male', b'Female', b'Female', b'Female',\n",
       "        b'Male', b'Female', b'Female', b'Male', b'Female', b'Female',\n",
       "        b'Male', b'Female', b'Female', b'Male', b'Female', b'Female',\n",
       "        b'Female', b'Female', b'Male', b'Male', b'Male', b'Female',\n",
       "        b'Female', b'Male', b'Male', b'Female', b'Female', b'Female',\n",
       "        b'Female', b'Male', b'Female', b'Female', b'Female', b'Male',\n",
       "        b'Female', b'Male', b'Female', b'Female', b'Female', b'Male',\n",
       "        b'Male', b'Female', b'Male', b'Female', b'Female', b'Female',\n",
       "        b'Female', b'Female', b'Male', b'Female', b'Male', b'Female',\n",
       "        b'Male', b'Male', b'Female', b'Female', b'Female', b'Male',\n",
       "        b'Female', b'Female', b'Male', b'Female', b'Male', b'Male'],\n",
       "       dtype=object)>,\n",
       " 'age': <tf.Tensor: shape=(128,), dtype=string, numpy=\n",
       " array([b'[60-70)', b'[60-70)', b'[40-50)', b'[60-70)', b'[60-70)',\n",
       "        b'[70-80)', b'[50-60)', b'[60-70)', b'[30-40)', b'[70-80)',\n",
       "        b'[80-90)', b'[90-100)', b'[50-60)', b'[50-60)', b'[60-70)',\n",
       "        b'[50-60)', b'[80-90)', b'[80-90)', b'[80-90)', b'[80-90)',\n",
       "        b'[50-60)', b'[70-80)', b'[50-60)', b'[30-40)', b'[80-90)',\n",
       "        b'[80-90)', b'[40-50)', b'[30-40)', b'[50-60)', b'[90-100)',\n",
       "        b'[80-90)', b'[50-60)', b'[60-70)', b'[50-60)', b'[60-70)',\n",
       "        b'[70-80)', b'[70-80)', b'[20-30)', b'[50-60)', b'[80-90)',\n",
       "        b'[70-80)', b'[50-60)', b'[70-80)', b'[30-40)', b'[60-70)',\n",
       "        b'[70-80)', b'[70-80)', b'[50-60)', b'[20-30)', b'[80-90)',\n",
       "        b'[60-70)', b'[80-90)', b'[60-70)', b'[50-60)', b'[50-60)',\n",
       "        b'[70-80)', b'[70-80)', b'[30-40)', b'[60-70)', b'[70-80)',\n",
       "        b'[50-60)', b'[80-90)', b'[40-50)', b'[40-50)', b'[60-70)',\n",
       "        b'[60-70)', b'[70-80)', b'[60-70)', b'[40-50)', b'[80-90)',\n",
       "        b'[50-60)', b'[40-50)', b'[80-90)', b'[70-80)', b'[50-60)',\n",
       "        b'[50-60)', b'[40-50)', b'[80-90)', b'[50-60)', b'[60-70)',\n",
       "        b'[40-50)', b'[80-90)', b'[80-90)', b'[60-70)', b'[50-60)',\n",
       "        b'[40-50)', b'[80-90)', b'[70-80)', b'[40-50)', b'[20-30)',\n",
       "        b'[50-60)', b'[80-90)', b'[60-70)', b'[70-80)', b'[90-100)',\n",
       "        b'[60-70)', b'[60-70)', b'[50-60)', b'[50-60)', b'[60-70)',\n",
       "        b'[80-90)', b'[70-80)', b'[70-80)', b'[40-50)', b'[50-60)',\n",
       "        b'[60-70)', b'[60-70)', b'[60-70)', b'[70-80)', b'[80-90)',\n",
       "        b'[40-50)', b'[50-60)', b'[40-50)', b'[60-70)', b'[60-70)',\n",
       "        b'[50-60)', b'[60-70)', b'[70-80)', b'[70-80)', b'[50-60)',\n",
       "        b'[70-80)', b'[60-70)', b'[80-90)', b'[80-90)', b'[50-60)',\n",
       "        b'[40-50)', b'[80-90)', b'[80-90)'], dtype=object)>,\n",
       " 'Acarbose': <tf.Tensor: shape=(128,), dtype=string, numpy=\n",
       " array([b'nan', b'0.0', b'0.0', b'nan', b'0.0', b'nan', b'0.0', b'0.0',\n",
       "        b'0.0', b'0.0', b'0.0', b'nan', b'0.0', b'0.0', b'0.0', b'0.0',\n",
       "        b'0.0', b'0.0', b'0.0', b'nan', b'0.0', b'0.0', b'nan', b'0.0',\n",
       "        b'0.0', b'0.0', b'0.0', b'nan', b'nan', b'0.0', b'0.0', b'0.0',\n",
       "        b'nan', b'0.0', b'0.0', b'0.0', b'0.0', b'0.0', b'0.0', b'0.0',\n",
       "        b'0.0', b'0.0', b'0.0', b'0.0', b'0.0', b'nan', b'0.0', b'0.0',\n",
       "        b'0.0', b'0.0', b'0.0', b'0.0', b'0.0', b'0.0', b'0.0', b'0.0',\n",
       "        b'0.0', b'0.0', b'0.0', b'0.0', b'0.0', b'nan', b'0.0', b'0.0',\n",
       "        b'0.0', b'nan', b'0.0', b'0.0', b'0.0', b'0.0', b'nan', b'0.0',\n",
       "        b'0.0', b'0.0', b'0.0', b'0.0', b'0.0', b'nan', b'0.0', b'nan',\n",
       "        b'0.0', b'nan', b'nan', b'0.0', b'nan', b'nan', b'nan', b'0.0',\n",
       "        b'0.0', b'0.0', b'0.0', b'nan', b'nan', b'nan', b'0.0', b'0.0',\n",
       "        b'0.0', b'0.0', b'0.0', b'nan', b'0.0', b'0.0', b'nan', b'nan',\n",
       "        b'0.0', b'0.0', b'0.0', b'0.0', b'0.0', b'0.0', b'nan', b'0.0',\n",
       "        b'0.0', b'0.0', b'0.0', b'0.0', b'0.0', b'0.0', b'0.0', b'nan',\n",
       "        b'0.0', b'0.0', b'0.0', b'0.0', b'nan', b'0.0', b'0.0', b'nan'],\n",
       "       dtype=object)>,\n",
       " 'Glimepiride': <tf.Tensor: shape=(128,), dtype=string, numpy=\n",
       " array([b'nan', b'0.0', b'0.0', b'nan', b'0.0', b'nan', b'0.0', b'0.0',\n",
       "        b'0.0', b'0.0', b'0.0', b'nan', b'0.0', b'0.0', b'0.0', b'0.0',\n",
       "        b'0.0', b'0.0', b'0.0', b'nan', b'0.0', b'0.0', b'nan', b'0.0',\n",
       "        b'0.0', b'0.0', b'0.0', b'nan', b'nan', b'0.0', b'0.0', b'0.0',\n",
       "        b'nan', b'0.0', b'0.0', b'0.0', b'0.0', b'0.0', b'0.0', b'0.0',\n",
       "        b'0.0', b'1.0', b'1.0', b'0.0', b'0.0', b'nan', b'0.0', b'0.0',\n",
       "        b'0.0', b'0.0', b'0.0', b'0.0', b'0.0', b'0.0', b'0.0', b'0.0',\n",
       "        b'0.0', b'0.0', b'0.0', b'0.0', b'0.0', b'nan', b'0.0', b'0.0',\n",
       "        b'0.0', b'nan', b'0.0', b'0.0', b'0.0', b'0.0', b'nan', b'0.0',\n",
       "        b'0.0', b'0.0', b'0.0', b'0.0', b'0.0', b'nan', b'0.0', b'nan',\n",
       "        b'0.0', b'nan', b'nan', b'0.0', b'nan', b'nan', b'nan', b'0.0',\n",
       "        b'0.0', b'0.0', b'0.0', b'nan', b'nan', b'nan', b'0.0', b'1.0',\n",
       "        b'0.0', b'0.0', b'0.0', b'nan', b'0.0', b'0.0', b'nan', b'nan',\n",
       "        b'0.0', b'0.0', b'0.0', b'0.0', b'0.0', b'0.0', b'nan', b'0.0',\n",
       "        b'1.0', b'0.0', b'0.0', b'0.0', b'0.0', b'0.0', b'0.0', b'nan',\n",
       "        b'0.0', b'0.0', b'0.0', b'0.0', b'nan', b'0.0', b'0.0', b'nan'],\n",
       "       dtype=object)>,\n",
       " 'Glipizide': <tf.Tensor: shape=(128,), dtype=string, numpy=\n",
       " array([b'nan', b'0.0', b'0.0', b'nan', b'1.0', b'nan', b'1.0', b'0.0',\n",
       "        b'0.0', b'0.0', b'0.0', b'nan', b'0.0', b'1.0', b'0.0', b'1.0',\n",
       "        b'0.0', b'0.0', b'0.0', b'nan', b'0.0', b'0.0', b'nan', b'0.0',\n",
       "        b'0.0', b'0.0', b'0.0', b'nan', b'nan', b'0.0', b'1.0', b'0.0',\n",
       "        b'nan', b'1.0', b'0.0', b'0.0', b'1.0', b'0.0', b'1.0', b'1.0',\n",
       "        b'1.0', b'0.0', b'0.0', b'0.0', b'1.0', b'nan', b'0.0', b'0.0',\n",
       "        b'0.0', b'1.0', b'0.0', b'0.0', b'0.0', b'0.0', b'0.0', b'0.0',\n",
       "        b'0.0', b'0.0', b'0.0', b'1.0', b'0.0', b'nan', b'0.0', b'0.0',\n",
       "        b'0.0', b'nan', b'0.0', b'1.0', b'0.0', b'1.0', b'nan', b'0.0',\n",
       "        b'0.0', b'0.0', b'1.0', b'0.0', b'0.0', b'nan', b'0.0', b'nan',\n",
       "        b'0.0', b'nan', b'nan', b'1.0', b'nan', b'nan', b'nan', b'0.0',\n",
       "        b'0.0', b'0.0', b'0.0', b'nan', b'nan', b'nan', b'0.0', b'0.0',\n",
       "        b'1.0', b'1.0', b'0.0', b'nan', b'0.0', b'0.0', b'nan', b'nan',\n",
       "        b'0.0', b'0.0', b'0.0', b'0.0', b'1.0', b'0.0', b'nan', b'1.0',\n",
       "        b'0.0', b'1.0', b'0.0', b'0.0', b'0.0', b'0.0', b'0.0', b'nan',\n",
       "        b'0.0', b'0.0', b'0.0', b'1.0', b'nan', b'0.0', b'0.0', b'nan'],\n",
       "       dtype=object)>,\n",
       " 'Glipizide_And_Metformin_Hcl': <tf.Tensor: shape=(128,), dtype=string, numpy=\n",
       " array([b'nan', b'0.0', b'0.0', b'nan', b'0.0', b'nan', b'0.0', b'0.0',\n",
       "        b'0.0', b'0.0', b'0.0', b'nan', b'0.0', b'0.0', b'0.0', b'0.0',\n",
       "        b'0.0', b'0.0', b'0.0', b'nan', b'0.0', b'0.0', b'nan', b'0.0',\n",
       "        b'0.0', b'0.0', b'0.0', b'nan', b'nan', b'0.0', b'0.0', b'0.0',\n",
       "        b'nan', b'0.0', b'0.0', b'0.0', b'0.0', b'0.0', b'0.0', b'0.0',\n",
       "        b'0.0', b'0.0', b'0.0', b'0.0', b'0.0', b'nan', b'0.0', b'0.0',\n",
       "        b'0.0', b'0.0', b'0.0', b'0.0', b'0.0', b'0.0', b'0.0', b'0.0',\n",
       "        b'0.0', b'0.0', b'0.0', b'0.0', b'0.0', b'nan', b'0.0', b'0.0',\n",
       "        b'0.0', b'nan', b'0.0', b'0.0', b'0.0', b'0.0', b'nan', b'0.0',\n",
       "        b'0.0', b'0.0', b'0.0', b'0.0', b'0.0', b'nan', b'0.0', b'nan',\n",
       "        b'0.0', b'nan', b'nan', b'0.0', b'nan', b'nan', b'nan', b'0.0',\n",
       "        b'0.0', b'0.0', b'0.0', b'nan', b'nan', b'nan', b'0.0', b'0.0',\n",
       "        b'0.0', b'0.0', b'0.0', b'nan', b'0.0', b'0.0', b'nan', b'nan',\n",
       "        b'0.0', b'0.0', b'0.0', b'0.0', b'0.0', b'0.0', b'nan', b'0.0',\n",
       "        b'0.0', b'0.0', b'0.0', b'0.0', b'0.0', b'0.0', b'0.0', b'nan',\n",
       "        b'0.0', b'0.0', b'0.0', b'0.0', b'nan', b'0.0', b'0.0', b'nan'],\n",
       "       dtype=object)>,\n",
       " 'Glipizide_And_Metformin_Hydrochloride': <tf.Tensor: shape=(128,), dtype=string, numpy=\n",
       " array([b'nan', b'0.0', b'0.0', b'nan', b'0.0', b'nan', b'0.0', b'0.0',\n",
       "        b'0.0', b'0.0', b'0.0', b'nan', b'0.0', b'0.0', b'0.0', b'0.0',\n",
       "        b'0.0', b'0.0', b'0.0', b'nan', b'0.0', b'0.0', b'nan', b'0.0',\n",
       "        b'0.0', b'0.0', b'0.0', b'nan', b'nan', b'0.0', b'0.0', b'0.0',\n",
       "        b'nan', b'0.0', b'0.0', b'0.0', b'0.0', b'0.0', b'0.0', b'0.0',\n",
       "        b'0.0', b'0.0', b'0.0', b'0.0', b'0.0', b'nan', b'0.0', b'0.0',\n",
       "        b'0.0', b'0.0', b'0.0', b'0.0', b'0.0', b'0.0', b'0.0', b'0.0',\n",
       "        b'0.0', b'0.0', b'0.0', b'0.0', b'0.0', b'nan', b'0.0', b'0.0',\n",
       "        b'0.0', b'nan', b'0.0', b'0.0', b'0.0', b'0.0', b'nan', b'0.0',\n",
       "        b'0.0', b'0.0', b'0.0', b'0.0', b'0.0', b'nan', b'0.0', b'nan',\n",
       "        b'0.0', b'nan', b'nan', b'0.0', b'nan', b'nan', b'nan', b'0.0',\n",
       "        b'0.0', b'0.0', b'0.0', b'nan', b'nan', b'nan', b'0.0', b'0.0',\n",
       "        b'0.0', b'0.0', b'0.0', b'nan', b'0.0', b'0.0', b'nan', b'nan',\n",
       "        b'0.0', b'0.0', b'0.0', b'0.0', b'0.0', b'0.0', b'nan', b'0.0',\n",
       "        b'0.0', b'0.0', b'0.0', b'0.0', b'0.0', b'0.0', b'0.0', b'nan',\n",
       "        b'0.0', b'0.0', b'0.0', b'0.0', b'nan', b'0.0', b'0.0', b'nan'],\n",
       "       dtype=object)>,\n",
       " 'Glyburide': <tf.Tensor: shape=(128,), dtype=string, numpy=\n",
       " array([b'nan', b'0.0', b'0.0', b'nan', b'0.0', b'nan', b'0.0', b'0.0',\n",
       "        b'0.0', b'0.0', b'1.0', b'nan', b'0.0', b'0.0', b'1.0', b'0.0',\n",
       "        b'1.0', b'0.0', b'0.0', b'nan', b'0.0', b'0.0', b'nan', b'0.0',\n",
       "        b'0.0', b'1.0', b'1.0', b'nan', b'nan', b'0.0', b'0.0', b'1.0',\n",
       "        b'nan', b'0.0', b'0.0', b'0.0', b'0.0', b'0.0', b'0.0', b'0.0',\n",
       "        b'0.0', b'0.0', b'0.0', b'0.0', b'0.0', b'nan', b'0.0', b'0.0',\n",
       "        b'0.0', b'0.0', b'0.0', b'0.0', b'0.0', b'0.0', b'0.0', b'0.0',\n",
       "        b'0.0', b'0.0', b'0.0', b'0.0', b'0.0', b'nan', b'0.0', b'1.0',\n",
       "        b'1.0', b'nan', b'0.0', b'0.0', b'0.0', b'0.0', b'nan', b'0.0',\n",
       "        b'1.0', b'0.0', b'0.0', b'0.0', b'1.0', b'nan', b'0.0', b'nan',\n",
       "        b'0.0', b'nan', b'nan', b'0.0', b'nan', b'nan', b'nan', b'0.0',\n",
       "        b'0.0', b'0.0', b'0.0', b'nan', b'nan', b'nan', b'0.0', b'0.0',\n",
       "        b'0.0', b'0.0', b'0.0', b'nan', b'0.0', b'0.0', b'nan', b'nan',\n",
       "        b'0.0', b'0.0', b'0.0', b'0.0', b'0.0', b'0.0', b'nan', b'0.0',\n",
       "        b'0.0', b'0.0', b'0.0', b'0.0', b'0.0', b'0.0', b'0.0', b'nan',\n",
       "        b'0.0', b'0.0', b'1.0', b'0.0', b'nan', b'0.0', b'0.0', b'nan'],\n",
       "       dtype=object)>,\n",
       " 'Glyburide_And_Metformin_Hydrochloride': <tf.Tensor: shape=(128,), dtype=string, numpy=\n",
       " array([b'nan', b'0.0', b'0.0', b'nan', b'0.0', b'nan', b'0.0', b'0.0',\n",
       "        b'0.0', b'0.0', b'0.0', b'nan', b'0.0', b'0.0', b'0.0', b'0.0',\n",
       "        b'0.0', b'0.0', b'0.0', b'nan', b'1.0', b'0.0', b'nan', b'0.0',\n",
       "        b'0.0', b'0.0', b'0.0', b'nan', b'nan', b'0.0', b'0.0', b'0.0',\n",
       "        b'nan', b'0.0', b'0.0', b'0.0', b'0.0', b'0.0', b'0.0', b'0.0',\n",
       "        b'0.0', b'0.0', b'0.0', b'0.0', b'0.0', b'nan', b'0.0', b'0.0',\n",
       "        b'0.0', b'0.0', b'0.0', b'0.0', b'0.0', b'0.0', b'0.0', b'0.0',\n",
       "        b'0.0', b'0.0', b'0.0', b'0.0', b'0.0', b'nan', b'0.0', b'0.0',\n",
       "        b'0.0', b'nan', b'0.0', b'0.0', b'0.0', b'0.0', b'nan', b'0.0',\n",
       "        b'0.0', b'0.0', b'0.0', b'0.0', b'0.0', b'nan', b'0.0', b'nan',\n",
       "        b'0.0', b'nan', b'nan', b'0.0', b'nan', b'nan', b'nan', b'0.0',\n",
       "        b'0.0', b'0.0', b'0.0', b'nan', b'nan', b'nan', b'0.0', b'0.0',\n",
       "        b'0.0', b'0.0', b'0.0', b'nan', b'0.0', b'0.0', b'nan', b'nan',\n",
       "        b'0.0', b'1.0', b'0.0', b'0.0', b'0.0', b'0.0', b'nan', b'0.0',\n",
       "        b'0.0', b'0.0', b'0.0', b'0.0', b'0.0', b'0.0', b'0.0', b'nan',\n",
       "        b'0.0', b'0.0', b'0.0', b'0.0', b'nan', b'0.0', b'0.0', b'nan'],\n",
       "       dtype=object)>,\n",
       " 'Glyburide-metformin_Hydrochloride': <tf.Tensor: shape=(128,), dtype=string, numpy=\n",
       " array([b'nan', b'0.0', b'0.0', b'nan', b'0.0', b'nan', b'0.0', b'0.0',\n",
       "        b'0.0', b'0.0', b'0.0', b'nan', b'0.0', b'0.0', b'0.0', b'0.0',\n",
       "        b'0.0', b'0.0', b'0.0', b'nan', b'0.0', b'0.0', b'nan', b'0.0',\n",
       "        b'0.0', b'0.0', b'0.0', b'nan', b'nan', b'0.0', b'0.0', b'0.0',\n",
       "        b'nan', b'0.0', b'0.0', b'0.0', b'0.0', b'0.0', b'0.0', b'0.0',\n",
       "        b'0.0', b'0.0', b'0.0', b'0.0', b'0.0', b'nan', b'0.0', b'0.0',\n",
       "        b'0.0', b'0.0', b'0.0', b'0.0', b'0.0', b'0.0', b'0.0', b'0.0',\n",
       "        b'0.0', b'0.0', b'0.0', b'0.0', b'0.0', b'nan', b'0.0', b'0.0',\n",
       "        b'0.0', b'nan', b'0.0', b'0.0', b'0.0', b'0.0', b'nan', b'0.0',\n",
       "        b'0.0', b'0.0', b'0.0', b'0.0', b'0.0', b'nan', b'0.0', b'nan',\n",
       "        b'0.0', b'nan', b'nan', b'0.0', b'nan', b'nan', b'nan', b'0.0',\n",
       "        b'0.0', b'0.0', b'0.0', b'nan', b'nan', b'nan', b'0.0', b'0.0',\n",
       "        b'0.0', b'0.0', b'0.0', b'nan', b'0.0', b'0.0', b'nan', b'nan',\n",
       "        b'0.0', b'0.0', b'0.0', b'0.0', b'0.0', b'0.0', b'nan', b'0.0',\n",
       "        b'0.0', b'0.0', b'0.0', b'0.0', b'0.0', b'0.0', b'0.0', b'nan',\n",
       "        b'0.0', b'0.0', b'0.0', b'0.0', b'nan', b'0.0', b'0.0', b'nan'],\n",
       "       dtype=object)>,\n",
       " 'Human_Insulin': <tf.Tensor: shape=(128,), dtype=string, numpy=\n",
       " array([b'nan', b'1.0', b'0.0', b'nan', b'0.0', b'nan', b'1.0', b'1.0',\n",
       "        b'0.0', b'0.0', b'0.0', b'nan', b'0.0', b'0.0', b'0.0', b'0.0',\n",
       "        b'0.0', b'0.0', b'1.0', b'nan', b'0.0', b'0.0', b'nan', b'0.0',\n",
       "        b'1.0', b'0.0', b'0.0', b'nan', b'nan', b'0.0', b'0.0', b'1.0',\n",
       "        b'nan', b'0.0', b'0.0', b'0.0', b'0.0', b'0.0', b'0.0', b'0.0',\n",
       "        b'0.0', b'0.0', b'0.0', b'0.0', b'1.0', b'nan', b'0.0', b'0.0',\n",
       "        b'1.0', b'0.0', b'1.0', b'1.0', b'0.0', b'0.0', b'1.0', b'0.0',\n",
       "        b'0.0', b'0.0', b'0.0', b'0.0', b'1.0', b'nan', b'1.0', b'0.0',\n",
       "        b'0.0', b'nan', b'0.0', b'0.0', b'0.0', b'0.0', b'nan', b'0.0',\n",
       "        b'0.0', b'1.0', b'0.0', b'0.0', b'0.0', b'nan', b'0.0', b'nan',\n",
       "        b'0.0', b'nan', b'nan', b'1.0', b'nan', b'nan', b'nan', b'0.0',\n",
       "        b'0.0', b'0.0', b'1.0', b'nan', b'nan', b'nan', b'1.0', b'0.0',\n",
       "        b'0.0', b'0.0', b'1.0', b'nan', b'0.0', b'1.0', b'nan', b'nan',\n",
       "        b'0.0', b'0.0', b'0.0', b'0.0', b'0.0', b'0.0', b'nan', b'0.0',\n",
       "        b'0.0', b'0.0', b'0.0', b'0.0', b'0.0', b'0.0', b'0.0', b'nan',\n",
       "        b'1.0', b'1.0', b'0.0', b'0.0', b'nan', b'1.0', b'0.0', b'nan'],\n",
       "       dtype=object)>,\n",
       " 'Insulin_Human': <tf.Tensor: shape=(128,), dtype=string, numpy=\n",
       " array([b'nan', b'0.0', b'1.0', b'nan', b'0.0', b'nan', b'0.0', b'0.0',\n",
       "        b'1.0', b'1.0', b'1.0', b'nan', b'1.0', b'0.0', b'0.0', b'0.0',\n",
       "        b'0.0', b'1.0', b'0.0', b'nan', b'1.0', b'1.0', b'nan', b'1.0',\n",
       "        b'0.0', b'0.0', b'0.0', b'nan', b'nan', b'1.0', b'1.0', b'0.0',\n",
       "        b'nan', b'1.0', b'0.0', b'0.0', b'1.0', b'1.0', b'1.0', b'0.0',\n",
       "        b'0.0', b'1.0', b'0.0', b'1.0', b'0.0', b'nan', b'1.0', b'1.0',\n",
       "        b'0.0', b'0.0', b'0.0', b'0.0', b'1.0', b'1.0', b'0.0', b'0.0',\n",
       "        b'1.0', b'1.0', b'0.0', b'0.0', b'0.0', b'nan', b'0.0', b'0.0',\n",
       "        b'0.0', b'nan', b'1.0', b'0.0', b'1.0', b'1.0', b'nan', b'1.0',\n",
       "        b'0.0', b'0.0', b'0.0', b'1.0', b'0.0', b'nan', b'1.0', b'nan',\n",
       "        b'1.0', b'nan', b'nan', b'0.0', b'nan', b'nan', b'nan', b'0.0',\n",
       "        b'0.0', b'1.0', b'0.0', b'nan', b'nan', b'nan', b'0.0', b'0.0',\n",
       "        b'1.0', b'0.0', b'0.0', b'nan', b'1.0', b'0.0', b'nan', b'nan',\n",
       "        b'0.0', b'0.0', b'1.0', b'1.0', b'0.0', b'0.0', b'nan', b'1.0',\n",
       "        b'0.0', b'0.0', b'1.0', b'1.0', b'0.0', b'1.0', b'0.0', b'nan',\n",
       "        b'0.0', b'0.0', b'1.0', b'0.0', b'nan', b'0.0', b'1.0', b'nan'],\n",
       "       dtype=object)>,\n",
       " 'Metformin_Hcl': <tf.Tensor: shape=(128,), dtype=string, numpy=\n",
       " array([b'nan', b'0.0', b'0.0', b'nan', b'0.0', b'nan', b'0.0', b'0.0',\n",
       "        b'0.0', b'0.0', b'0.0', b'nan', b'0.0', b'0.0', b'0.0', b'0.0',\n",
       "        b'0.0', b'0.0', b'0.0', b'nan', b'0.0', b'0.0', b'nan', b'0.0',\n",
       "        b'0.0', b'0.0', b'0.0', b'nan', b'nan', b'0.0', b'0.0', b'0.0',\n",
       "        b'nan', b'0.0', b'0.0', b'0.0', b'0.0', b'0.0', b'0.0', b'0.0',\n",
       "        b'0.0', b'0.0', b'0.0', b'0.0', b'0.0', b'nan', b'0.0', b'0.0',\n",
       "        b'0.0', b'0.0', b'0.0', b'0.0', b'0.0', b'0.0', b'0.0', b'0.0',\n",
       "        b'0.0', b'0.0', b'0.0', b'0.0', b'0.0', b'nan', b'0.0', b'0.0',\n",
       "        b'0.0', b'nan', b'0.0', b'0.0', b'0.0', b'0.0', b'nan', b'0.0',\n",
       "        b'0.0', b'0.0', b'0.0', b'0.0', b'0.0', b'nan', b'0.0', b'nan',\n",
       "        b'0.0', b'nan', b'nan', b'0.0', b'nan', b'nan', b'nan', b'0.0',\n",
       "        b'0.0', b'0.0', b'0.0', b'nan', b'nan', b'nan', b'0.0', b'0.0',\n",
       "        b'0.0', b'1.0', b'0.0', b'nan', b'0.0', b'0.0', b'nan', b'nan',\n",
       "        b'0.0', b'0.0', b'0.0', b'0.0', b'0.0', b'0.0', b'nan', b'0.0',\n",
       "        b'0.0', b'0.0', b'0.0', b'0.0', b'0.0', b'0.0', b'0.0', b'nan',\n",
       "        b'0.0', b'0.0', b'0.0', b'0.0', b'nan', b'0.0', b'0.0', b'nan'],\n",
       "       dtype=object)>,\n",
       " 'Metformin_Hydrochloride': <tf.Tensor: shape=(128,), dtype=string, numpy=\n",
       " array([b'nan', b'0.0', b'0.0', b'nan', b'0.0', b'nan', b'0.0', b'0.0',\n",
       "        b'0.0', b'0.0', b'1.0', b'nan', b'0.0', b'1.0', b'0.0', b'0.0',\n",
       "        b'0.0', b'0.0', b'0.0', b'nan', b'1.0', b'0.0', b'nan', b'0.0',\n",
       "        b'0.0', b'1.0', b'1.0', b'nan', b'nan', b'0.0', b'0.0', b'1.0',\n",
       "        b'nan', b'0.0', b'0.0', b'1.0', b'0.0', b'0.0', b'1.0', b'0.0',\n",
       "        b'1.0', b'0.0', b'1.0', b'0.0', b'0.0', b'nan', b'0.0', b'0.0',\n",
       "        b'0.0', b'1.0', b'0.0', b'0.0', b'0.0', b'0.0', b'0.0', b'0.0',\n",
       "        b'0.0', b'0.0', b'1.0', b'0.0', b'1.0', b'nan', b'0.0', b'0.0',\n",
       "        b'0.0', b'nan', b'0.0', b'1.0', b'1.0', b'0.0', b'nan', b'0.0',\n",
       "        b'0.0', b'0.0', b'0.0', b'0.0', b'1.0', b'nan', b'1.0', b'nan',\n",
       "        b'1.0', b'nan', b'nan', b'1.0', b'nan', b'nan', b'nan', b'1.0',\n",
       "        b'0.0', b'0.0', b'1.0', b'nan', b'nan', b'nan', b'0.0', b'1.0',\n",
       "        b'0.0', b'0.0', b'0.0', b'nan', b'0.0', b'0.0', b'nan', b'nan',\n",
       "        b'1.0', b'1.0', b'1.0', b'0.0', b'1.0', b'0.0', b'nan', b'0.0',\n",
       "        b'1.0', b'0.0', b'0.0', b'0.0', b'1.0', b'1.0', b'0.0', b'nan',\n",
       "        b'0.0', b'0.0', b'0.0', b'0.0', b'nan', b'1.0', b'0.0', b'nan'],\n",
       "       dtype=object)>,\n",
       " 'Miglitol': <tf.Tensor: shape=(128,), dtype=string, numpy=\n",
       " array([b'nan', b'0.0', b'0.0', b'nan', b'0.0', b'nan', b'0.0', b'0.0',\n",
       "        b'0.0', b'0.0', b'0.0', b'nan', b'0.0', b'0.0', b'0.0', b'0.0',\n",
       "        b'0.0', b'0.0', b'0.0', b'nan', b'0.0', b'0.0', b'nan', b'0.0',\n",
       "        b'0.0', b'0.0', b'0.0', b'nan', b'nan', b'0.0', b'0.0', b'0.0',\n",
       "        b'nan', b'0.0', b'0.0', b'0.0', b'0.0', b'0.0', b'0.0', b'0.0',\n",
       "        b'0.0', b'0.0', b'0.0', b'0.0', b'0.0', b'nan', b'0.0', b'0.0',\n",
       "        b'0.0', b'0.0', b'0.0', b'0.0', b'0.0', b'0.0', b'0.0', b'0.0',\n",
       "        b'0.0', b'0.0', b'0.0', b'0.0', b'0.0', b'nan', b'0.0', b'0.0',\n",
       "        b'0.0', b'nan', b'0.0', b'0.0', b'0.0', b'0.0', b'nan', b'0.0',\n",
       "        b'0.0', b'0.0', b'0.0', b'0.0', b'0.0', b'nan', b'0.0', b'nan',\n",
       "        b'0.0', b'nan', b'nan', b'0.0', b'nan', b'nan', b'nan', b'0.0',\n",
       "        b'0.0', b'0.0', b'0.0', b'nan', b'nan', b'nan', b'0.0', b'0.0',\n",
       "        b'0.0', b'0.0', b'0.0', b'nan', b'0.0', b'0.0', b'nan', b'nan',\n",
       "        b'0.0', b'0.0', b'0.0', b'0.0', b'0.0', b'0.0', b'nan', b'0.0',\n",
       "        b'0.0', b'0.0', b'0.0', b'0.0', b'0.0', b'0.0', b'0.0', b'nan',\n",
       "        b'0.0', b'0.0', b'0.0', b'0.0', b'nan', b'0.0', b'0.0', b'nan'],\n",
       "       dtype=object)>,\n",
       " 'Nateglinide': <tf.Tensor: shape=(128,), dtype=string, numpy=\n",
       " array([b'nan', b'0.0', b'0.0', b'nan', b'0.0', b'nan', b'0.0', b'0.0',\n",
       "        b'0.0', b'0.0', b'0.0', b'nan', b'0.0', b'0.0', b'0.0', b'0.0',\n",
       "        b'0.0', b'0.0', b'0.0', b'nan', b'0.0', b'0.0', b'nan', b'0.0',\n",
       "        b'0.0', b'0.0', b'0.0', b'nan', b'nan', b'0.0', b'0.0', b'0.0',\n",
       "        b'nan', b'0.0', b'0.0', b'0.0', b'0.0', b'0.0', b'0.0', b'0.0',\n",
       "        b'0.0', b'0.0', b'0.0', b'0.0', b'0.0', b'nan', b'0.0', b'0.0',\n",
       "        b'0.0', b'0.0', b'0.0', b'0.0', b'0.0', b'0.0', b'0.0', b'0.0',\n",
       "        b'0.0', b'0.0', b'0.0', b'0.0', b'0.0', b'nan', b'0.0', b'0.0',\n",
       "        b'0.0', b'nan', b'0.0', b'0.0', b'0.0', b'0.0', b'nan', b'0.0',\n",
       "        b'0.0', b'0.0', b'0.0', b'0.0', b'0.0', b'nan', b'0.0', b'nan',\n",
       "        b'0.0', b'nan', b'nan', b'0.0', b'nan', b'nan', b'nan', b'0.0',\n",
       "        b'0.0', b'0.0', b'0.0', b'nan', b'nan', b'nan', b'0.0', b'0.0',\n",
       "        b'0.0', b'0.0', b'0.0', b'nan', b'0.0', b'0.0', b'nan', b'nan',\n",
       "        b'0.0', b'0.0', b'0.0', b'0.0', b'0.0', b'0.0', b'nan', b'0.0',\n",
       "        b'0.0', b'0.0', b'0.0', b'0.0', b'0.0', b'0.0', b'1.0', b'nan',\n",
       "        b'0.0', b'0.0', b'0.0', b'0.0', b'nan', b'0.0', b'0.0', b'nan'],\n",
       "       dtype=object)>,\n",
       " 'Pioglitazole_And_Metformin_Hydrochloride': <tf.Tensor: shape=(128,), dtype=string, numpy=\n",
       " array([b'nan', b'0.0', b'0.0', b'nan', b'0.0', b'nan', b'0.0', b'0.0',\n",
       "        b'0.0', b'0.0', b'0.0', b'nan', b'0.0', b'0.0', b'0.0', b'0.0',\n",
       "        b'0.0', b'0.0', b'0.0', b'nan', b'0.0', b'0.0', b'nan', b'0.0',\n",
       "        b'0.0', b'0.0', b'0.0', b'nan', b'nan', b'0.0', b'0.0', b'0.0',\n",
       "        b'nan', b'0.0', b'0.0', b'0.0', b'0.0', b'0.0', b'0.0', b'0.0',\n",
       "        b'0.0', b'0.0', b'0.0', b'0.0', b'0.0', b'nan', b'0.0', b'0.0',\n",
       "        b'0.0', b'0.0', b'0.0', b'0.0', b'0.0', b'0.0', b'0.0', b'0.0',\n",
       "        b'0.0', b'0.0', b'0.0', b'0.0', b'0.0', b'nan', b'0.0', b'0.0',\n",
       "        b'0.0', b'nan', b'0.0', b'0.0', b'0.0', b'0.0', b'nan', b'0.0',\n",
       "        b'0.0', b'0.0', b'0.0', b'0.0', b'0.0', b'nan', b'0.0', b'nan',\n",
       "        b'0.0', b'nan', b'nan', b'0.0', b'nan', b'nan', b'nan', b'0.0',\n",
       "        b'0.0', b'0.0', b'0.0', b'nan', b'nan', b'nan', b'0.0', b'0.0',\n",
       "        b'0.0', b'0.0', b'0.0', b'nan', b'0.0', b'0.0', b'nan', b'nan',\n",
       "        b'0.0', b'0.0', b'0.0', b'0.0', b'0.0', b'0.0', b'nan', b'0.0',\n",
       "        b'0.0', b'0.0', b'0.0', b'0.0', b'0.0', b'0.0', b'0.0', b'nan',\n",
       "        b'0.0', b'0.0', b'0.0', b'0.0', b'nan', b'0.0', b'0.0', b'nan'],\n",
       "       dtype=object)>,\n",
       " 'Pioglitazone': <tf.Tensor: shape=(128,), dtype=string, numpy=\n",
       " array([b'nan', b'0.0', b'0.0', b'nan', b'0.0', b'nan', b'0.0', b'0.0',\n",
       "        b'0.0', b'0.0', b'0.0', b'nan', b'0.0', b'1.0', b'0.0', b'1.0',\n",
       "        b'0.0', b'0.0', b'0.0', b'nan', b'0.0', b'0.0', b'nan', b'0.0',\n",
       "        b'0.0', b'0.0', b'0.0', b'nan', b'nan', b'0.0', b'0.0', b'0.0',\n",
       "        b'nan', b'0.0', b'1.0', b'0.0', b'1.0', b'0.0', b'0.0', b'0.0',\n",
       "        b'0.0', b'0.0', b'0.0', b'0.0', b'0.0', b'nan', b'0.0', b'0.0',\n",
       "        b'0.0', b'1.0', b'0.0', b'0.0', b'0.0', b'0.0', b'0.0', b'0.0',\n",
       "        b'0.0', b'0.0', b'1.0', b'0.0', b'0.0', b'nan', b'0.0', b'0.0',\n",
       "        b'0.0', b'nan', b'0.0', b'1.0', b'0.0', b'0.0', b'nan', b'0.0',\n",
       "        b'0.0', b'0.0', b'0.0', b'0.0', b'1.0', b'nan', b'0.0', b'nan',\n",
       "        b'0.0', b'nan', b'nan', b'0.0', b'nan', b'nan', b'nan', b'0.0',\n",
       "        b'1.0', b'0.0', b'1.0', b'nan', b'nan', b'nan', b'0.0', b'0.0',\n",
       "        b'0.0', b'0.0', b'0.0', b'nan', b'0.0', b'0.0', b'nan', b'nan',\n",
       "        b'0.0', b'0.0', b'0.0', b'0.0', b'0.0', b'1.0', b'nan', b'0.0',\n",
       "        b'1.0', b'0.0', b'0.0', b'0.0', b'0.0', b'0.0', b'0.0', b'nan',\n",
       "        b'0.0', b'0.0', b'0.0', b'0.0', b'nan', b'1.0', b'0.0', b'nan'],\n",
       "       dtype=object)>,\n",
       " 'Pioglitazone_Hydrochloride_And_Glimepiride': <tf.Tensor: shape=(128,), dtype=string, numpy=\n",
       " array([b'nan', b'0.0', b'0.0', b'nan', b'0.0', b'nan', b'0.0', b'0.0',\n",
       "        b'0.0', b'0.0', b'0.0', b'nan', b'0.0', b'0.0', b'0.0', b'0.0',\n",
       "        b'0.0', b'0.0', b'0.0', b'nan', b'0.0', b'0.0', b'nan', b'0.0',\n",
       "        b'0.0', b'0.0', b'0.0', b'nan', b'nan', b'0.0', b'0.0', b'0.0',\n",
       "        b'nan', b'0.0', b'0.0', b'0.0', b'0.0', b'0.0', b'0.0', b'0.0',\n",
       "        b'0.0', b'0.0', b'0.0', b'0.0', b'0.0', b'nan', b'0.0', b'0.0',\n",
       "        b'0.0', b'0.0', b'0.0', b'0.0', b'0.0', b'0.0', b'0.0', b'0.0',\n",
       "        b'0.0', b'0.0', b'0.0', b'0.0', b'0.0', b'nan', b'0.0', b'0.0',\n",
       "        b'0.0', b'nan', b'0.0', b'0.0', b'0.0', b'0.0', b'nan', b'0.0',\n",
       "        b'0.0', b'0.0', b'0.0', b'0.0', b'0.0', b'nan', b'0.0', b'nan',\n",
       "        b'0.0', b'nan', b'nan', b'0.0', b'nan', b'nan', b'nan', b'0.0',\n",
       "        b'0.0', b'0.0', b'0.0', b'nan', b'nan', b'nan', b'0.0', b'0.0',\n",
       "        b'0.0', b'0.0', b'0.0', b'nan', b'0.0', b'0.0', b'nan', b'nan',\n",
       "        b'0.0', b'0.0', b'0.0', b'0.0', b'0.0', b'0.0', b'nan', b'0.0',\n",
       "        b'0.0', b'0.0', b'0.0', b'0.0', b'0.0', b'0.0', b'0.0', b'nan',\n",
       "        b'0.0', b'0.0', b'0.0', b'0.0', b'nan', b'0.0', b'0.0', b'nan'],\n",
       "       dtype=object)>,\n",
       " 'Repaglinide': <tf.Tensor: shape=(128,), dtype=string, numpy=\n",
       " array([b'nan', b'0.0', b'0.0', b'nan', b'0.0', b'nan', b'0.0', b'0.0',\n",
       "        b'0.0', b'0.0', b'0.0', b'nan', b'0.0', b'0.0', b'0.0', b'0.0',\n",
       "        b'0.0', b'0.0', b'0.0', b'nan', b'0.0', b'0.0', b'nan', b'0.0',\n",
       "        b'0.0', b'0.0', b'0.0', b'nan', b'nan', b'0.0', b'0.0', b'0.0',\n",
       "        b'nan', b'0.0', b'0.0', b'0.0', b'0.0', b'0.0', b'0.0', b'0.0',\n",
       "        b'0.0', b'0.0', b'0.0', b'0.0', b'0.0', b'nan', b'0.0', b'0.0',\n",
       "        b'0.0', b'0.0', b'0.0', b'0.0', b'0.0', b'0.0', b'0.0', b'0.0',\n",
       "        b'0.0', b'0.0', b'0.0', b'0.0', b'0.0', b'nan', b'0.0', b'0.0',\n",
       "        b'0.0', b'nan', b'0.0', b'0.0', b'0.0', b'0.0', b'nan', b'0.0',\n",
       "        b'0.0', b'0.0', b'0.0', b'0.0', b'0.0', b'nan', b'0.0', b'nan',\n",
       "        b'0.0', b'nan', b'nan', b'0.0', b'nan', b'nan', b'nan', b'0.0',\n",
       "        b'0.0', b'0.0', b'0.0', b'nan', b'nan', b'nan', b'0.0', b'0.0',\n",
       "        b'0.0', b'0.0', b'0.0', b'nan', b'0.0', b'0.0', b'nan', b'nan',\n",
       "        b'0.0', b'0.0', b'0.0', b'0.0', b'0.0', b'0.0', b'nan', b'0.0',\n",
       "        b'0.0', b'0.0', b'0.0', b'0.0', b'0.0', b'0.0', b'0.0', b'nan',\n",
       "        b'0.0', b'0.0', b'0.0', b'0.0', b'nan', b'0.0', b'0.0', b'nan'],\n",
       "       dtype=object)>,\n",
       " 'Rosiglitazone_Maleate': <tf.Tensor: shape=(128,), dtype=string, numpy=\n",
       " array([b'nan', b'0.0', b'0.0', b'nan', b'0.0', b'nan', b'0.0', b'0.0',\n",
       "        b'0.0', b'0.0', b'0.0', b'nan', b'0.0', b'0.0', b'0.0', b'0.0',\n",
       "        b'0.0', b'0.0', b'0.0', b'nan', b'0.0', b'0.0', b'nan', b'0.0',\n",
       "        b'0.0', b'0.0', b'0.0', b'nan', b'nan', b'0.0', b'1.0', b'0.0',\n",
       "        b'nan', b'0.0', b'0.0', b'0.0', b'0.0', b'0.0', b'0.0', b'0.0',\n",
       "        b'0.0', b'0.0', b'0.0', b'0.0', b'0.0', b'nan', b'0.0', b'0.0',\n",
       "        b'0.0', b'0.0', b'1.0', b'0.0', b'0.0', b'0.0', b'0.0', b'1.0',\n",
       "        b'0.0', b'0.0', b'0.0', b'0.0', b'0.0', b'nan', b'0.0', b'0.0',\n",
       "        b'0.0', b'nan', b'0.0', b'0.0', b'0.0', b'0.0', b'nan', b'0.0',\n",
       "        b'0.0', b'0.0', b'0.0', b'0.0', b'0.0', b'nan', b'0.0', b'nan',\n",
       "        b'0.0', b'nan', b'nan', b'0.0', b'nan', b'nan', b'nan', b'0.0',\n",
       "        b'0.0', b'0.0', b'0.0', b'nan', b'nan', b'nan', b'0.0', b'0.0',\n",
       "        b'0.0', b'0.0', b'0.0', b'nan', b'0.0', b'0.0', b'nan', b'nan',\n",
       "        b'0.0', b'0.0', b'0.0', b'0.0', b'0.0', b'0.0', b'nan', b'0.0',\n",
       "        b'0.0', b'0.0', b'0.0', b'0.0', b'0.0', b'1.0', b'0.0', b'nan',\n",
       "        b'0.0', b'0.0', b'0.0', b'0.0', b'nan', b'0.0', b'0.0', b'nan'],\n",
       "       dtype=object)>,\n",
       " 'Tolazamide': <tf.Tensor: shape=(128,), dtype=string, numpy=\n",
       " array([b'nan', b'0.0', b'0.0', b'nan', b'0.0', b'nan', b'0.0', b'0.0',\n",
       "        b'0.0', b'0.0', b'0.0', b'nan', b'0.0', b'0.0', b'0.0', b'0.0',\n",
       "        b'0.0', b'0.0', b'0.0', b'nan', b'0.0', b'0.0', b'nan', b'0.0',\n",
       "        b'0.0', b'0.0', b'0.0', b'nan', b'nan', b'0.0', b'0.0', b'0.0',\n",
       "        b'nan', b'0.0', b'0.0', b'0.0', b'0.0', b'0.0', b'0.0', b'0.0',\n",
       "        b'0.0', b'0.0', b'0.0', b'0.0', b'0.0', b'nan', b'0.0', b'0.0',\n",
       "        b'0.0', b'0.0', b'0.0', b'0.0', b'0.0', b'0.0', b'0.0', b'0.0',\n",
       "        b'0.0', b'0.0', b'0.0', b'0.0', b'0.0', b'nan', b'0.0', b'0.0',\n",
       "        b'0.0', b'nan', b'0.0', b'0.0', b'0.0', b'0.0', b'nan', b'0.0',\n",
       "        b'0.0', b'0.0', b'0.0', b'0.0', b'0.0', b'nan', b'0.0', b'nan',\n",
       "        b'0.0', b'nan', b'nan', b'0.0', b'nan', b'nan', b'nan', b'0.0',\n",
       "        b'0.0', b'0.0', b'0.0', b'nan', b'nan', b'nan', b'0.0', b'0.0',\n",
       "        b'0.0', b'0.0', b'0.0', b'nan', b'0.0', b'0.0', b'nan', b'nan',\n",
       "        b'0.0', b'0.0', b'0.0', b'0.0', b'0.0', b'0.0', b'nan', b'0.0',\n",
       "        b'0.0', b'0.0', b'0.0', b'0.0', b'0.0', b'0.0', b'0.0', b'nan',\n",
       "        b'0.0', b'0.0', b'0.0', b'0.0', b'nan', b'0.0', b'0.0', b'nan'],\n",
       "       dtype=object)>,\n",
       " 'Tolbutamide': <tf.Tensor: shape=(128,), dtype=string, numpy=\n",
       " array([b'nan', b'0.0', b'0.0', b'nan', b'0.0', b'nan', b'0.0', b'0.0',\n",
       "        b'0.0', b'0.0', b'0.0', b'nan', b'0.0', b'0.0', b'0.0', b'0.0',\n",
       "        b'0.0', b'0.0', b'0.0', b'nan', b'0.0', b'0.0', b'nan', b'0.0',\n",
       "        b'0.0', b'0.0', b'0.0', b'nan', b'nan', b'0.0', b'0.0', b'0.0',\n",
       "        b'nan', b'0.0', b'0.0', b'0.0', b'0.0', b'0.0', b'0.0', b'0.0',\n",
       "        b'0.0', b'0.0', b'0.0', b'0.0', b'0.0', b'nan', b'0.0', b'0.0',\n",
       "        b'0.0', b'0.0', b'0.0', b'0.0', b'0.0', b'0.0', b'0.0', b'0.0',\n",
       "        b'0.0', b'0.0', b'0.0', b'0.0', b'0.0', b'nan', b'0.0', b'0.0',\n",
       "        b'0.0', b'nan', b'0.0', b'0.0', b'0.0', b'0.0', b'nan', b'0.0',\n",
       "        b'0.0', b'0.0', b'0.0', b'0.0', b'0.0', b'nan', b'0.0', b'nan',\n",
       "        b'0.0', b'nan', b'nan', b'0.0', b'nan', b'nan', b'nan', b'0.0',\n",
       "        b'0.0', b'0.0', b'0.0', b'nan', b'nan', b'nan', b'0.0', b'0.0',\n",
       "        b'0.0', b'0.0', b'0.0', b'nan', b'0.0', b'0.0', b'nan', b'nan',\n",
       "        b'0.0', b'0.0', b'0.0', b'0.0', b'0.0', b'0.0', b'nan', b'0.0',\n",
       "        b'0.0', b'0.0', b'0.0', b'0.0', b'0.0', b'0.0', b'0.0', b'nan',\n",
       "        b'0.0', b'0.0', b'0.0', b'0.0', b'nan', b'0.0', b'0.0', b'nan'],\n",
       "       dtype=object)>,\n",
       " 'number_outpatient': <tf.Tensor: shape=(128,), dtype=int32, numpy=\n",
       " array([0, 0, 0, 0, 0, 0, 0, 3, 0, 0, 3, 0, 0, 0, 1, 0, 0, 0, 0, 0, 0, 0,\n",
       "        0, 0, 0, 0, 0, 0, 0, 0, 3, 0, 0, 0, 0, 0, 0, 0, 0, 0, 0, 0, 0, 0,\n",
       "        0, 5, 0, 0, 0, 1, 0, 0, 0, 0, 0, 0, 0, 0, 0, 0, 0, 0, 0, 0, 0, 1,\n",
       "        0, 3, 0, 0, 0, 0, 0, 0, 2, 1, 0, 0, 0, 0, 0, 0, 0, 0, 2, 1, 0, 2,\n",
       "        0, 0, 0, 1, 0, 0, 0, 0, 0, 0, 0, 0, 0, 0, 0, 0, 0, 0, 0, 0, 0, 0,\n",
       "        0, 0, 0, 0, 0, 0, 0, 0, 0, 0, 0, 0, 0, 0, 0, 0, 0, 0], dtype=int32)>,\n",
       " 'number_inpatient': <tf.Tensor: shape=(128,), dtype=int32, numpy=\n",
       " array([0, 0, 1, 0, 0, 0, 0, 0, 0, 0, 0, 0, 0, 0, 0, 0, 0, 0, 0, 0, 0, 0,\n",
       "        0, 0, 0, 0, 0, 0, 0, 0, 0, 0, 1, 0, 0, 0, 0, 0, 0, 0, 0, 0, 0, 0,\n",
       "        0, 0, 0, 2, 0, 0, 0, 0, 0, 0, 0, 0, 0, 0, 1, 0, 0, 2, 0, 0, 0, 1,\n",
       "        0, 0, 0, 0, 0, 0, 0, 0, 0, 5, 0, 0, 0, 3, 0, 0, 0, 0, 0, 0, 1, 0,\n",
       "        0, 0, 3, 0, 0, 0, 0, 0, 0, 0, 0, 0, 0, 1, 0, 0, 0, 0, 0, 0, 2, 1,\n",
       "        0, 0, 0, 0, 0, 0, 0, 0, 0, 0, 0, 1, 0, 0, 0, 0, 0, 2], dtype=int32)>,\n",
       " 'number_emergency': <tf.Tensor: shape=(128,), dtype=int32, numpy=\n",
       " array([0, 0, 0, 0, 0, 0, 0, 0, 0, 0, 0, 0, 0, 0, 0, 0, 0, 0, 0, 0, 0, 0,\n",
       "        0, 0, 0, 0, 0, 0, 0, 0, 0, 0, 1, 0, 0, 0, 0, 0, 0, 0, 0, 0, 0, 0,\n",
       "        0, 0, 0, 0, 2, 0, 0, 0, 0, 0, 0, 0, 0, 0, 0, 0, 0, 1, 0, 0, 0, 0,\n",
       "        0, 0, 0, 0, 0, 0, 0, 0, 0, 0, 1, 0, 0, 0, 0, 0, 0, 0, 0, 0, 0, 0,\n",
       "        0, 1, 1, 0, 0, 0, 0, 0, 0, 0, 0, 0, 0, 0, 0, 0, 0, 0, 0, 0, 2, 0,\n",
       "        0, 0, 1, 0, 0, 0, 0, 0, 0, 0, 0, 0, 0, 0, 0, 0, 0, 0], dtype=int32)>,\n",
       " 'num_lab_procedures': <tf.Tensor: shape=(128,), dtype=int32, numpy=\n",
       " array([43, 65, 40, 45, 42, 59, 45, 24, 53, 41, 51, 80, 50, 72, 73, 40, 59,\n",
       "        31, 28, 59, 61, 68, 51, 47, 61, 37, 43, 15, 55, 79, 82,  9, 35, 60,\n",
       "        49, 10, 35, 90, 71, 34,  1, 43, 22, 53, 70, 58, 33, 29, 24, 52, 62,\n",
       "         5, 34, 86, 60, 52, 45, 31, 54, 48, 38, 45, 39, 69, 16, 20, 33, 14,\n",
       "        60, 47, 27, 72, 44, 45, 50, 80, 53, 37, 54, 58, 32, 58, 33, 48, 23,\n",
       "        56, 34, 40, 38, 24, 36, 40, 65, 45, 27, 49, 20,  8,  1, 40, 72, 85,\n",
       "         4, 47,  9, 37, 35, 50, 52, 66, 45, 65,  5, 58, 78, 49,  3, 71, 28,\n",
       "        58, 58, 35, 62, 61,  1, 12, 35, 41], dtype=int32)>,\n",
       " 'number_diagnoses': <tf.Tensor: shape=(128,), dtype=int32, numpy=\n",
       " array([7, 5, 6, 7, 7, 9, 9, 8, 9, 9, 9, 9, 6, 9, 9, 5, 8, 9, 9, 9, 5, 5,\n",
       "        8, 5, 9, 3, 5, 9, 8, 9, 9, 6, 9, 9, 6, 4, 9, 9, 6, 7, 6, 6, 6, 4,\n",
       "        7, 9, 5, 9, 8, 8, 9, 3, 9, 9, 9, 9, 9, 6, 9, 8, 3, 7, 7, 7, 4, 9,\n",
       "        9, 9, 9, 9, 9, 4, 7, 9, 9, 9, 6, 5, 6, 8, 7, 9, 6, 9, 2, 5, 4, 6,\n",
       "        7, 8, 7, 5, 7, 9, 9, 9, 9, 9, 7, 8, 8, 7, 3, 6, 4, 7, 6, 8, 9, 9,\n",
       "        4, 9, 2, 6, 9, 9, 9, 5, 7, 3, 9, 9, 7, 9, 3, 9, 9, 8], dtype=int32)>,\n",
       " 'num_medications': <tf.Tensor: shape=(128,), dtype=int32, numpy=\n",
       " array([13, 11, 12,  8, 14, 12, 24, 24, 33, 11, 16, 28, 11, 28, 24, 16, 10,\n",
       "         6, 18, 13, 12, 11, 21,  3, 13, 14, 12, 13, 17, 22, 18,  9, 10, 29,\n",
       "         5,  8, 20, 22, 11, 11, 13, 19, 27, 18, 33, 15, 12, 17, 18, 11, 17,\n",
       "        18, 15, 24, 24, 13, 12,  5, 17, 28, 18,  5, 10, 18,  7, 15, 16, 22,\n",
       "        18, 17, 16, 10,  8,  7, 13, 25, 16,  6, 37, 19, 24,  8, 18, 38, 13,\n",
       "        10, 10, 14, 14,  8, 24,  5, 12, 19, 10, 23, 14,  6, 16,  4, 20, 15,\n",
       "         2, 11,  9,  6, 18, 12,  7, 23,  7, 15,  7,  8, 17,  9, 16, 31, 12,\n",
       "        10, 26, 24, 16, 27,  7, 14, 19,  8], dtype=int32)>,\n",
       " 'num_procedures': <tf.Tensor: shape=(128,), dtype=int32, numpy=\n",
       " array([3, 0, 1, 2, 0, 0, 0, 0, 3, 2, 1, 0, 0, 1, 4, 0, 0, 5, 3, 2, 0, 0,\n",
       "        2, 0, 2, 2, 1, 5, 1, 0, 0, 0, 1, 6, 0, 0, 6, 1, 0, 3, 3, 0, 1, 0,\n",
       "        6, 3, 2, 2, 0, 0, 1, 1, 2, 1, 4, 0, 0, 0, 1, 2, 3, 0, 0, 3, 0, 0,\n",
       "        0, 1, 1, 3, 1, 0, 0, 2, 0, 4, 0, 1, 6, 3, 0, 0, 1, 3, 3, 0, 3, 0,\n",
       "        0, 0, 0, 1, 1, 0, 0, 0, 1, 0, 6, 0, 0, 1, 0, 5, 1, 0, 1, 0, 0, 0,\n",
       "        2, 6, 0, 1, 2, 1, 3, 5, 3, 2, 5, 3, 1, 2, 0, 0, 2, 1], dtype=int32)>}"
      ]
     },
     "execution_count": 65,
     "metadata": {},
     "output_type": "execute_result"
    }
   ],
   "source": [
    "diabetes_batch"
   ]
  },
  {
   "cell_type": "code",
   "execution_count": 66,
   "metadata": {},
   "outputs": [
    {
     "name": "stdout",
     "output_type": "stream",
     "text": [
      "Example continuous field:\n",
      "NumericColumn(key='number_inpatient', shape=(1,), default_value=(0,), dtype=tf.float32, normalizer_fn=None)\n",
      "\n",
      "tf.Tensor(\n",
      "[[0.]\n",
      " [0.]\n",
      " [1.]\n",
      " [0.]\n",
      " [0.]\n",
      " [0.]\n",
      " [0.]\n",
      " [0.]\n",
      " [0.]\n",
      " [0.]\n",
      " [0.]\n",
      " [0.]\n",
      " [0.]\n",
      " [0.]\n",
      " [0.]\n",
      " [0.]\n",
      " [0.]\n",
      " [0.]\n",
      " [0.]\n",
      " [0.]\n",
      " [0.]\n",
      " [0.]\n",
      " [0.]\n",
      " [0.]\n",
      " [0.]\n",
      " [0.]\n",
      " [0.]\n",
      " [0.]\n",
      " [0.]\n",
      " [0.]\n",
      " [0.]\n",
      " [0.]\n",
      " [1.]\n",
      " [0.]\n",
      " [0.]\n",
      " [0.]\n",
      " [0.]\n",
      " [0.]\n",
      " [0.]\n",
      " [0.]\n",
      " [0.]\n",
      " [0.]\n",
      " [0.]\n",
      " [0.]\n",
      " [0.]\n",
      " [0.]\n",
      " [0.]\n",
      " [2.]\n",
      " [0.]\n",
      " [0.]\n",
      " [0.]\n",
      " [0.]\n",
      " [0.]\n",
      " [0.]\n",
      " [0.]\n",
      " [0.]\n",
      " [0.]\n",
      " [0.]\n",
      " [1.]\n",
      " [0.]\n",
      " [0.]\n",
      " [2.]\n",
      " [0.]\n",
      " [0.]\n",
      " [0.]\n",
      " [1.]\n",
      " [0.]\n",
      " [0.]\n",
      " [0.]\n",
      " [0.]\n",
      " [0.]\n",
      " [0.]\n",
      " [0.]\n",
      " [0.]\n",
      " [0.]\n",
      " [5.]\n",
      " [0.]\n",
      " [0.]\n",
      " [0.]\n",
      " [3.]\n",
      " [0.]\n",
      " [0.]\n",
      " [0.]\n",
      " [0.]\n",
      " [0.]\n",
      " [0.]\n",
      " [1.]\n",
      " [0.]\n",
      " [0.]\n",
      " [0.]\n",
      " [3.]\n",
      " [0.]\n",
      " [0.]\n",
      " [0.]\n",
      " [0.]\n",
      " [0.]\n",
      " [0.]\n",
      " [0.]\n",
      " [0.]\n",
      " [0.]\n",
      " [0.]\n",
      " [1.]\n",
      " [0.]\n",
      " [0.]\n",
      " [0.]\n",
      " [0.]\n",
      " [0.]\n",
      " [0.]\n",
      " [2.]\n",
      " [1.]\n",
      " [0.]\n",
      " [0.]\n",
      " [0.]\n",
      " [0.]\n",
      " [0.]\n",
      " [0.]\n",
      " [0.]\n",
      " [0.]\n",
      " [0.]\n",
      " [0.]\n",
      " [0.]\n",
      " [1.]\n",
      " [0.]\n",
      " [0.]\n",
      " [0.]\n",
      " [0.]\n",
      " [0.]\n",
      " [2.]], shape=(128, 1), dtype=float32)\n"
     ]
    }
   ],
   "source": [
    "test_cont_var1 = tf_cont_col_list[1]\n",
    "print(\"Example continuous field:\\n{}\\n\".format(test_cont_var1))\n",
    "demo(test_cont_var1, diabetes_batch)"
   ]
  },
  {
   "cell_type": "markdown",
   "metadata": {},
   "source": [
    "# 6. Build Deep Learning Regression Model with Sequential API and TF Probability Layers"
   ]
  },
  {
   "cell_type": "markdown",
   "metadata": {},
   "source": [
    "## Use DenseFeatures to combine features for model"
   ]
  },
  {
   "cell_type": "markdown",
   "metadata": {},
   "source": [
    "Now that we have prepared categorical and numerical features using Tensorflow's Feature Column API, we can combine them into a dense vector representation for the model. Below we will create this new input layer, which we will call 'claim_feature_layer'."
   ]
  },
  {
   "cell_type": "code",
   "execution_count": 67,
   "metadata": {},
   "outputs": [],
   "source": [
    "claim_feature_columns = tf_cat_col_list + tf_cont_col_list\n",
    "claim_feature_layer = tf.keras.layers.DenseFeatures(claim_feature_columns)"
   ]
  },
  {
   "cell_type": "markdown",
   "metadata": {},
   "source": [
    "## Build Sequential API Model from DenseFeatures and TF Probability Layers"
   ]
  },
  {
   "cell_type": "markdown",
   "metadata": {},
   "source": [
    "Below we have provided some boilerplate code for building a model that connects the Sequential API, DenseFeatures, and Tensorflow Probability layers into a deep learning model. There are many opportunities to further optimize and explore different architectures through benchmarking and testing approaches in various research papers, loss and evaluation metrics, learning curves, hyperparameter tuning, TF probability layers, etc. Feel free to modify and explore as you wish."
   ]
  },
  {
   "cell_type": "markdown",
   "metadata": {},
   "source": [
    "**OPTIONAL**: Come up with a more optimal neural network architecture and hyperparameters. Share the process in discovering the architecture and hyperparameters."
   ]
  },
  {
   "cell_type": "code",
   "execution_count": 68,
   "metadata": {},
   "outputs": [],
   "source": [
    "def build_sequential_model(feature_layer):\n",
    "    model = tf.keras.Sequential([\n",
    "        feature_layer,\n",
    "        tf.keras.layers.Dense(150, activation='relu'),\n",
    "        tf.keras.layers.Dense(75, activation='relu'),\n",
    "        tf.keras.layers.Dense(32, activation='relu'),\n",
    "        tfp.layers.DenseVariational(1+1, posterior_mean_field, prior_trainable),\n",
    "        tfp.layers.DistributionLambda(\n",
    "            lambda t:tfp.distributions.Normal(loc=t[..., :1],\n",
    "                                             scale=1e-3 + tf.math.softplus(0.01 * t[...,1:])\n",
    "                                             )\n",
    "        ),\n",
    "    ])\n",
    "    return model\n",
    "\n",
    "def build_diabetes_model(train_ds, val_ds,  feature_layer,  epochs=5, loss_metric='mae'):\n",
    "    model = build_sequential_model(feature_layer)\n",
    "    negloglik = lambda y, rv_y: -rv_y.log_prob(y)\n",
    "    loss = negloglik\n",
    "    model.compile(optimizer=tf.optimizers.Adam(learning_rate=0.05), loss=loss, metrics=[loss_metric])\n",
    "    early_stop = tf.keras.callbacks.EarlyStopping(monitor=loss_metric, patience=5)     \n",
    "    history = model.fit(train_ds, validation_data=val_ds,\n",
    "                        callbacks=[early_stop],\n",
    "                        epochs=epochs)\n",
    "    return model, history "
   ]
  },
  {
   "cell_type": "code",
   "execution_count": 69,
   "metadata": {},
   "outputs": [
    {
     "name": "stdout",
     "output_type": "stream",
     "text": [
      "Train for 327 steps, validate for 109 steps\n",
      "Epoch 1/15\n",
      "327/327 [==============================] - 15s 47ms/step - loss: 42.5141 - mae: 3.3079 - val_loss: 12.8703 - val_mae: 2.5528\n",
      "Epoch 2/15\n",
      "327/327 [==============================] - 11s 34ms/step - loss: 12.2414 - mae: 2.4305 - val_loss: 11.4222 - val_mae: 2.4227\n",
      "Epoch 3/15\n",
      "327/327 [==============================] - 11s 32ms/step - loss: 11.6682 - mae: 2.4128\n"
     ]
    },
    {
     "ename": "KeyboardInterrupt",
     "evalue": "",
     "output_type": "error",
     "traceback": [
      "\u001b[0;31m---------------------------------------------------------------------------\u001b[0m",
      "\u001b[0;31mKeyboardInterrupt\u001b[0m                         Traceback (most recent call last)",
      "\u001b[0;32m<ipython-input-69-c9c19114157c>\u001b[0m in \u001b[0;36m<module>\u001b[0;34m\u001b[0m\n\u001b[0;32m----> 1\u001b[0;31m \u001b[0mdiabetes_model\u001b[0m\u001b[0;34m,\u001b[0m \u001b[0mhistory\u001b[0m \u001b[0;34m=\u001b[0m \u001b[0mbuild_diabetes_model\u001b[0m\u001b[0;34m(\u001b[0m\u001b[0mdiabetes_train_ds\u001b[0m\u001b[0;34m,\u001b[0m \u001b[0mdiabetes_val_ds\u001b[0m\u001b[0;34m,\u001b[0m  \u001b[0mclaim_feature_layer\u001b[0m\u001b[0;34m,\u001b[0m  \u001b[0mepochs\u001b[0m\u001b[0;34m=\u001b[0m\u001b[0;36m15\u001b[0m\u001b[0;34m)\u001b[0m\u001b[0;34m\u001b[0m\u001b[0;34m\u001b[0m\u001b[0m\n\u001b[0m",
      "\u001b[0;32m<ipython-input-68-0bd98fdb9de6>\u001b[0m in \u001b[0;36mbuild_diabetes_model\u001b[0;34m(train_ds, val_ds, feature_layer, epochs, loss_metric)\u001b[0m\n\u001b[1;32m     22\u001b[0m     history = model.fit(train_ds, validation_data=val_ds,\n\u001b[1;32m     23\u001b[0m                         \u001b[0mcallbacks\u001b[0m\u001b[0;34m=\u001b[0m\u001b[0;34m[\u001b[0m\u001b[0mearly_stop\u001b[0m\u001b[0;34m]\u001b[0m\u001b[0;34m,\u001b[0m\u001b[0;34m\u001b[0m\u001b[0;34m\u001b[0m\u001b[0m\n\u001b[0;32m---> 24\u001b[0;31m                         epochs=epochs)\n\u001b[0m\u001b[1;32m     25\u001b[0m     \u001b[0;32mreturn\u001b[0m \u001b[0mmodel\u001b[0m\u001b[0;34m,\u001b[0m \u001b[0mhistory\u001b[0m\u001b[0;34m\u001b[0m\u001b[0;34m\u001b[0m\u001b[0m\n",
      "\u001b[0;32m/opt/conda/lib/python3.7/site-packages/tensorflow_core/python/keras/engine/training.py\u001b[0m in \u001b[0;36mfit\u001b[0;34m(self, x, y, batch_size, epochs, verbose, callbacks, validation_split, validation_data, shuffle, class_weight, sample_weight, initial_epoch, steps_per_epoch, validation_steps, validation_freq, max_queue_size, workers, use_multiprocessing, **kwargs)\u001b[0m\n\u001b[1;32m    817\u001b[0m         \u001b[0mmax_queue_size\u001b[0m\u001b[0;34m=\u001b[0m\u001b[0mmax_queue_size\u001b[0m\u001b[0;34m,\u001b[0m\u001b[0;34m\u001b[0m\u001b[0;34m\u001b[0m\u001b[0m\n\u001b[1;32m    818\u001b[0m         \u001b[0mworkers\u001b[0m\u001b[0;34m=\u001b[0m\u001b[0mworkers\u001b[0m\u001b[0;34m,\u001b[0m\u001b[0;34m\u001b[0m\u001b[0;34m\u001b[0m\u001b[0m\n\u001b[0;32m--> 819\u001b[0;31m         use_multiprocessing=use_multiprocessing)\n\u001b[0m\u001b[1;32m    820\u001b[0m \u001b[0;34m\u001b[0m\u001b[0m\n\u001b[1;32m    821\u001b[0m   def evaluate(self,\n",
      "\u001b[0;32m/opt/conda/lib/python3.7/site-packages/tensorflow_core/python/keras/engine/training_v2.py\u001b[0m in \u001b[0;36mfit\u001b[0;34m(self, model, x, y, batch_size, epochs, verbose, callbacks, validation_split, validation_data, shuffle, class_weight, sample_weight, initial_epoch, steps_per_epoch, validation_steps, validation_freq, max_queue_size, workers, use_multiprocessing, **kwargs)\u001b[0m\n\u001b[1;32m    393\u001b[0m                       \u001b[0mmode\u001b[0m\u001b[0;34m=\u001b[0m\u001b[0mModeKeys\u001b[0m\u001b[0;34m.\u001b[0m\u001b[0mTEST\u001b[0m\u001b[0;34m,\u001b[0m\u001b[0;34m\u001b[0m\u001b[0;34m\u001b[0m\u001b[0m\n\u001b[1;32m    394\u001b[0m                       \u001b[0mtraining_context\u001b[0m\u001b[0;34m=\u001b[0m\u001b[0meval_context\u001b[0m\u001b[0;34m,\u001b[0m\u001b[0;34m\u001b[0m\u001b[0;34m\u001b[0m\u001b[0m\n\u001b[0;32m--> 395\u001b[0;31m                       total_epochs=1)\n\u001b[0m\u001b[1;32m    396\u001b[0m                   cbks.make_logs(model, epoch_logs, eval_result, ModeKeys.TEST,\n\u001b[1;32m    397\u001b[0m                                  prefix='val_')\n",
      "\u001b[0;32m/opt/conda/lib/python3.7/site-packages/tensorflow_core/python/keras/engine/training_v2.py\u001b[0m in \u001b[0;36mrun_one_epoch\u001b[0;34m(model, iterator, execution_function, dataset_size, batch_size, strategy, steps_per_epoch, num_samples, mode, training_context, total_epochs)\u001b[0m\n\u001b[1;32m    126\u001b[0m         step=step, mode=mode, size=current_batch_size) as batch_logs:\n\u001b[1;32m    127\u001b[0m       \u001b[0;32mtry\u001b[0m\u001b[0;34m:\u001b[0m\u001b[0;34m\u001b[0m\u001b[0;34m\u001b[0m\u001b[0m\n\u001b[0;32m--> 128\u001b[0;31m         \u001b[0mbatch_outs\u001b[0m \u001b[0;34m=\u001b[0m \u001b[0mexecution_function\u001b[0m\u001b[0;34m(\u001b[0m\u001b[0miterator\u001b[0m\u001b[0;34m)\u001b[0m\u001b[0;34m\u001b[0m\u001b[0;34m\u001b[0m\u001b[0m\n\u001b[0m\u001b[1;32m    129\u001b[0m       \u001b[0;32mexcept\u001b[0m \u001b[0;34m(\u001b[0m\u001b[0mStopIteration\u001b[0m\u001b[0;34m,\u001b[0m \u001b[0merrors\u001b[0m\u001b[0;34m.\u001b[0m\u001b[0mOutOfRangeError\u001b[0m\u001b[0;34m)\u001b[0m\u001b[0;34m:\u001b[0m\u001b[0;34m\u001b[0m\u001b[0;34m\u001b[0m\u001b[0m\n\u001b[1;32m    130\u001b[0m         \u001b[0;31m# TODO(kaftan): File bug about tf function and errors.OutOfRangeError?\u001b[0m\u001b[0;34m\u001b[0m\u001b[0;34m\u001b[0m\u001b[0;34m\u001b[0m\u001b[0m\n",
      "\u001b[0;32m/opt/conda/lib/python3.7/site-packages/tensorflow_core/python/keras/engine/training_v2_utils.py\u001b[0m in \u001b[0;36mexecution_function\u001b[0;34m(input_fn)\u001b[0m\n\u001b[1;32m     96\u001b[0m     \u001b[0;31m# `numpy` translates Tensors to values in Eager mode.\u001b[0m\u001b[0;34m\u001b[0m\u001b[0;34m\u001b[0m\u001b[0;34m\u001b[0m\u001b[0m\n\u001b[1;32m     97\u001b[0m     return nest.map_structure(_non_none_constant_value,\n\u001b[0;32m---> 98\u001b[0;31m                               distributed_function(input_fn))\n\u001b[0m\u001b[1;32m     99\u001b[0m \u001b[0;34m\u001b[0m\u001b[0m\n\u001b[1;32m    100\u001b[0m   \u001b[0;32mreturn\u001b[0m \u001b[0mexecution_function\u001b[0m\u001b[0;34m\u001b[0m\u001b[0;34m\u001b[0m\u001b[0m\n",
      "\u001b[0;32m/opt/conda/lib/python3.7/site-packages/tensorflow_core/python/eager/def_function.py\u001b[0m in \u001b[0;36m__call__\u001b[0;34m(self, *args, **kwds)\u001b[0m\n\u001b[1;32m    566\u001b[0m         \u001b[0mxla_context\u001b[0m\u001b[0;34m.\u001b[0m\u001b[0mExit\u001b[0m\u001b[0;34m(\u001b[0m\u001b[0;34m)\u001b[0m\u001b[0;34m\u001b[0m\u001b[0;34m\u001b[0m\u001b[0m\n\u001b[1;32m    567\u001b[0m     \u001b[0;32melse\u001b[0m\u001b[0;34m:\u001b[0m\u001b[0;34m\u001b[0m\u001b[0;34m\u001b[0m\u001b[0m\n\u001b[0;32m--> 568\u001b[0;31m       \u001b[0mresult\u001b[0m \u001b[0;34m=\u001b[0m \u001b[0mself\u001b[0m\u001b[0;34m.\u001b[0m\u001b[0m_call\u001b[0m\u001b[0;34m(\u001b[0m\u001b[0;34m*\u001b[0m\u001b[0margs\u001b[0m\u001b[0;34m,\u001b[0m \u001b[0;34m**\u001b[0m\u001b[0mkwds\u001b[0m\u001b[0;34m)\u001b[0m\u001b[0;34m\u001b[0m\u001b[0;34m\u001b[0m\u001b[0m\n\u001b[0m\u001b[1;32m    569\u001b[0m \u001b[0;34m\u001b[0m\u001b[0m\n\u001b[1;32m    570\u001b[0m     \u001b[0;32mif\u001b[0m \u001b[0mtracing_count\u001b[0m \u001b[0;34m==\u001b[0m \u001b[0mself\u001b[0m\u001b[0;34m.\u001b[0m\u001b[0m_get_tracing_count\u001b[0m\u001b[0;34m(\u001b[0m\u001b[0;34m)\u001b[0m\u001b[0;34m:\u001b[0m\u001b[0;34m\u001b[0m\u001b[0;34m\u001b[0m\u001b[0m\n",
      "\u001b[0;32m/opt/conda/lib/python3.7/site-packages/tensorflow_core/python/eager/def_function.py\u001b[0m in \u001b[0;36m_call\u001b[0;34m(self, *args, **kwds)\u001b[0m\n\u001b[1;32m    604\u001b[0m       \u001b[0;31m# In this case we have not created variables on the first call. So we can\u001b[0m\u001b[0;34m\u001b[0m\u001b[0;34m\u001b[0m\u001b[0;34m\u001b[0m\u001b[0m\n\u001b[1;32m    605\u001b[0m       \u001b[0;31m# run the first trace but we should fail if variables are created.\u001b[0m\u001b[0;34m\u001b[0m\u001b[0;34m\u001b[0m\u001b[0;34m\u001b[0m\u001b[0m\n\u001b[0;32m--> 606\u001b[0;31m       \u001b[0mresults\u001b[0m \u001b[0;34m=\u001b[0m \u001b[0mself\u001b[0m\u001b[0;34m.\u001b[0m\u001b[0m_stateful_fn\u001b[0m\u001b[0;34m(\u001b[0m\u001b[0;34m*\u001b[0m\u001b[0margs\u001b[0m\u001b[0;34m,\u001b[0m \u001b[0;34m**\u001b[0m\u001b[0mkwds\u001b[0m\u001b[0;34m)\u001b[0m\u001b[0;34m\u001b[0m\u001b[0;34m\u001b[0m\u001b[0m\n\u001b[0m\u001b[1;32m    607\u001b[0m       \u001b[0;32mif\u001b[0m \u001b[0mself\u001b[0m\u001b[0;34m.\u001b[0m\u001b[0m_created_variables\u001b[0m\u001b[0;34m:\u001b[0m\u001b[0;34m\u001b[0m\u001b[0;34m\u001b[0m\u001b[0m\n\u001b[1;32m    608\u001b[0m         raise ValueError(\"Creating variables on a non-first call to a function\"\n",
      "\u001b[0;32m/opt/conda/lib/python3.7/site-packages/tensorflow_core/python/eager/function.py\u001b[0m in \u001b[0;36m__call__\u001b[0;34m(self, *args, **kwargs)\u001b[0m\n\u001b[1;32m   2361\u001b[0m     \u001b[0;32mwith\u001b[0m \u001b[0mself\u001b[0m\u001b[0;34m.\u001b[0m\u001b[0m_lock\u001b[0m\u001b[0;34m:\u001b[0m\u001b[0;34m\u001b[0m\u001b[0;34m\u001b[0m\u001b[0m\n\u001b[1;32m   2362\u001b[0m       \u001b[0mgraph_function\u001b[0m\u001b[0;34m,\u001b[0m \u001b[0margs\u001b[0m\u001b[0;34m,\u001b[0m \u001b[0mkwargs\u001b[0m \u001b[0;34m=\u001b[0m \u001b[0mself\u001b[0m\u001b[0;34m.\u001b[0m\u001b[0m_maybe_define_function\u001b[0m\u001b[0;34m(\u001b[0m\u001b[0margs\u001b[0m\u001b[0;34m,\u001b[0m \u001b[0mkwargs\u001b[0m\u001b[0;34m)\u001b[0m\u001b[0;34m\u001b[0m\u001b[0;34m\u001b[0m\u001b[0m\n\u001b[0;32m-> 2363\u001b[0;31m     \u001b[0;32mreturn\u001b[0m \u001b[0mgraph_function\u001b[0m\u001b[0;34m.\u001b[0m\u001b[0m_filtered_call\u001b[0m\u001b[0;34m(\u001b[0m\u001b[0margs\u001b[0m\u001b[0;34m,\u001b[0m \u001b[0mkwargs\u001b[0m\u001b[0;34m)\u001b[0m  \u001b[0;31m# pylint: disable=protected-access\u001b[0m\u001b[0;34m\u001b[0m\u001b[0;34m\u001b[0m\u001b[0m\n\u001b[0m\u001b[1;32m   2364\u001b[0m \u001b[0;34m\u001b[0m\u001b[0m\n\u001b[1;32m   2365\u001b[0m   \u001b[0;34m@\u001b[0m\u001b[0mproperty\u001b[0m\u001b[0;34m\u001b[0m\u001b[0;34m\u001b[0m\u001b[0m\n",
      "\u001b[0;32m/opt/conda/lib/python3.7/site-packages/tensorflow_core/python/eager/function.py\u001b[0m in \u001b[0;36m_filtered_call\u001b[0;34m(self, args, kwargs)\u001b[0m\n\u001b[1;32m   1609\u001b[0m          if isinstance(t, (ops.Tensor,\n\u001b[1;32m   1610\u001b[0m                            resource_variable_ops.BaseResourceVariable))),\n\u001b[0;32m-> 1611\u001b[0;31m         self.captured_inputs)\n\u001b[0m\u001b[1;32m   1612\u001b[0m \u001b[0;34m\u001b[0m\u001b[0m\n\u001b[1;32m   1613\u001b[0m   \u001b[0;32mdef\u001b[0m \u001b[0m_call_flat\u001b[0m\u001b[0;34m(\u001b[0m\u001b[0mself\u001b[0m\u001b[0;34m,\u001b[0m \u001b[0margs\u001b[0m\u001b[0;34m,\u001b[0m \u001b[0mcaptured_inputs\u001b[0m\u001b[0;34m,\u001b[0m \u001b[0mcancellation_manager\u001b[0m\u001b[0;34m=\u001b[0m\u001b[0;32mNone\u001b[0m\u001b[0;34m)\u001b[0m\u001b[0;34m:\u001b[0m\u001b[0;34m\u001b[0m\u001b[0;34m\u001b[0m\u001b[0m\n",
      "\u001b[0;32m/opt/conda/lib/python3.7/site-packages/tensorflow_core/python/eager/function.py\u001b[0m in \u001b[0;36m_call_flat\u001b[0;34m(self, args, captured_inputs, cancellation_manager)\u001b[0m\n\u001b[1;32m   1690\u001b[0m       \u001b[0;31m# No tape is watching; skip to running the function.\u001b[0m\u001b[0;34m\u001b[0m\u001b[0;34m\u001b[0m\u001b[0;34m\u001b[0m\u001b[0m\n\u001b[1;32m   1691\u001b[0m       return self._build_call_outputs(self._inference_function.call(\n\u001b[0;32m-> 1692\u001b[0;31m           ctx, args, cancellation_manager=cancellation_manager))\n\u001b[0m\u001b[1;32m   1693\u001b[0m     forward_backward = self._select_forward_and_backward_functions(\n\u001b[1;32m   1694\u001b[0m         \u001b[0margs\u001b[0m\u001b[0;34m,\u001b[0m\u001b[0;34m\u001b[0m\u001b[0;34m\u001b[0m\u001b[0m\n",
      "\u001b[0;32m/opt/conda/lib/python3.7/site-packages/tensorflow_core/python/eager/function.py\u001b[0m in \u001b[0;36mcall\u001b[0;34m(self, ctx, args, cancellation_manager)\u001b[0m\n\u001b[1;32m    543\u001b[0m               \u001b[0minputs\u001b[0m\u001b[0;34m=\u001b[0m\u001b[0margs\u001b[0m\u001b[0;34m,\u001b[0m\u001b[0;34m\u001b[0m\u001b[0;34m\u001b[0m\u001b[0m\n\u001b[1;32m    544\u001b[0m               \u001b[0mattrs\u001b[0m\u001b[0;34m=\u001b[0m\u001b[0;34m(\u001b[0m\u001b[0;34m\"executor_type\"\u001b[0m\u001b[0;34m,\u001b[0m \u001b[0mexecutor_type\u001b[0m\u001b[0;34m,\u001b[0m \u001b[0;34m\"config_proto\"\u001b[0m\u001b[0;34m,\u001b[0m \u001b[0mconfig\u001b[0m\u001b[0;34m)\u001b[0m\u001b[0;34m,\u001b[0m\u001b[0;34m\u001b[0m\u001b[0;34m\u001b[0m\u001b[0m\n\u001b[0;32m--> 545\u001b[0;31m               ctx=ctx)\n\u001b[0m\u001b[1;32m    546\u001b[0m         \u001b[0;32melse\u001b[0m\u001b[0;34m:\u001b[0m\u001b[0;34m\u001b[0m\u001b[0;34m\u001b[0m\u001b[0m\n\u001b[1;32m    547\u001b[0m           outputs = execute.execute_with_cancellation(\n",
      "\u001b[0;32m/opt/conda/lib/python3.7/site-packages/tensorflow_core/python/eager/execute.py\u001b[0m in \u001b[0;36mquick_execute\u001b[0;34m(op_name, num_outputs, inputs, attrs, ctx, name)\u001b[0m\n\u001b[1;32m     59\u001b[0m     tensors = pywrap_tensorflow.TFE_Py_Execute(ctx._handle, device_name,\n\u001b[1;32m     60\u001b[0m                                                \u001b[0mop_name\u001b[0m\u001b[0;34m,\u001b[0m \u001b[0minputs\u001b[0m\u001b[0;34m,\u001b[0m \u001b[0mattrs\u001b[0m\u001b[0;34m,\u001b[0m\u001b[0;34m\u001b[0m\u001b[0;34m\u001b[0m\u001b[0m\n\u001b[0;32m---> 61\u001b[0;31m                                                num_outputs)\n\u001b[0m\u001b[1;32m     62\u001b[0m   \u001b[0;32mexcept\u001b[0m \u001b[0mcore\u001b[0m\u001b[0;34m.\u001b[0m\u001b[0m_NotOkStatusException\u001b[0m \u001b[0;32mas\u001b[0m \u001b[0me\u001b[0m\u001b[0;34m:\u001b[0m\u001b[0;34m\u001b[0m\u001b[0;34m\u001b[0m\u001b[0m\n\u001b[1;32m     63\u001b[0m     \u001b[0;32mif\u001b[0m \u001b[0mname\u001b[0m \u001b[0;32mis\u001b[0m \u001b[0;32mnot\u001b[0m \u001b[0;32mNone\u001b[0m\u001b[0;34m:\u001b[0m\u001b[0;34m\u001b[0m\u001b[0;34m\u001b[0m\u001b[0m\n",
      "\u001b[0;31mKeyboardInterrupt\u001b[0m: "
     ]
    }
   ],
   "source": [
    "diabetes_model, history = build_diabetes_model(diabetes_train_ds, diabetes_val_ds,  claim_feature_layer,  epochs=15)"
   ]
  },
  {
   "cell_type": "markdown",
   "metadata": {},
   "source": [
    "## Show Model Uncertainty Range with TF Probability"
   ]
  },
  {
   "cell_type": "markdown",
   "metadata": {},
   "source": [
    "**Question 9**: Now that we have trained a model with TF Probability layers, we can extract the mean and standard deviation for each prediction. Please fill in the answer for the m and s variables below. The code for getting the predictions is provided for you below."
   ]
  },
  {
   "cell_type": "code",
   "execution_count": null,
   "metadata": {},
   "outputs": [],
   "source": [
    "feature_list = student_categorical_col_list + student_numerical_col_list\n",
    "diabetes_x_tst = dict(d_test[feature_list])\n",
    "diabetes_yhats = [diabetes_model(diabetes_x_tst) for _ in range(10)]\n",
    "preds = diabetes_model.predict(diabetes_test_ds)"
   ]
  },
  {
   "cell_type": "code",
   "execution_count": null,
   "metadata": {},
   "outputs": [],
   "source": [
    "from student_utils import get_mean_std_from_preds\n",
    "%load_ext autoreload\n",
    "%autoreload\n",
    "m, s = get_mean_std_from_preds(diabetes_yhats)"
   ]
  },
  {
   "cell_type": "markdown",
   "metadata": {},
   "source": [
    "## Show Prediction Output "
   ]
  },
  {
   "cell_type": "code",
   "execution_count": null,
   "metadata": {},
   "outputs": [],
   "source": []
  },
  {
   "cell_type": "code",
   "execution_count": null,
   "metadata": {},
   "outputs": [],
   "source": [
    "prob_outputs = {\n",
    "    \"pred\": preds.flatten(),\n",
    "    \"actual_value\": d_test['time_in_hospital'].values,\n",
    "    \"pred_mean\": m.flatten(),\n",
    "    \"pred_std\": s.flatten()\n",
    "}\n",
    "prob_output_df = pd.DataFrame(prob_outputs)"
   ]
  },
  {
   "cell_type": "code",
   "execution_count": null,
   "metadata": {},
   "outputs": [],
   "source": [
    "prob_output_df.head(20)"
   ]
  },
  {
   "cell_type": "markdown",
   "metadata": {},
   "source": [
    "## Convert Regression Output to Classification Output for Patient Selection"
   ]
  },
  {
   "cell_type": "markdown",
   "metadata": {},
   "source": [
    "**Question 10**: Given the output predictions, convert it to a binary label for whether the patient meets the time criteria or does not (HINT: use the mean prediction numpy array). The expected output is a numpy array with a 1 or 0 based off if the prediction meets or doesnt meet the criteria."
   ]
  },
  {
   "cell_type": "code",
   "execution_count": null,
   "metadata": {
    "scrolled": true
   },
   "outputs": [],
   "source": [
    "\n",
    "from student_utils import get_student_binary_prediction\n",
    "%load_ext autoreload\n",
    "%autoreload\n",
    "student_binary_prediction = get_student_binary_prediction(d_test,m)\n",
    "student_binary_prediction"
   ]
  },
  {
   "cell_type": "markdown",
   "metadata": {},
   "source": [
    "### Add Binary Prediction to Test Dataframe"
   ]
  },
  {
   "cell_type": "markdown",
   "metadata": {},
   "source": [
    "Using the student_binary_prediction output that is a numpy array with binary labels, we can use this to add to a dataframe to better visualize and also to prepare the data for the Aequitas toolkit. The Aequitas toolkit requires that the predictions be mapped to a binary label for the predictions (called 'score' field) and the actual value (called 'label_value')."
   ]
  },
  {
   "cell_type": "code",
   "execution_count": null,
   "metadata": {},
   "outputs": [],
   "source": [
    "def add_pred_to_test(test_df, pred_np, demo_col_list):\n",
    "    for c in demo_col_list:\n",
    "        test_df[c] = test_df[c].astype(str)\n",
    "    test_df['score'] = pred_np\n",
    "    test_df['label_value'] = test_df['time_in_hospital'].apply(lambda x: 1 if x >=5 else 0)\n",
    "    return test_df\n",
    "\n",
    "pred_test_df = add_pred_to_test(d_test, student_binary_prediction, ['race', 'gender'])"
   ]
  },
  {
   "cell_type": "code",
   "execution_count": null,
   "metadata": {},
   "outputs": [],
   "source": [
    "pred_test_df[['patient_nbr', 'gender', 'race', 'time_in_hospital', 'score', 'label_value']].head(15)"
   ]
  },
  {
   "cell_type": "markdown",
   "metadata": {},
   "source": [
    "## Model Evaluation Metrics "
   ]
  },
  {
   "cell_type": "markdown",
   "metadata": {},
   "source": [
    "**Question 11**: Now it is time to use the newly created binary labels in the 'pred_test_df' dataframe to evaluate the model with some common classification metrics. Please create a report summary of the performance of the model and be sure to give the ROC AUC, F1 score(weighted), class precision and recall scores. "
   ]
  },
  {
   "cell_type": "markdown",
   "metadata": {},
   "source": [
    "For the report please be sure to include the following three parts:\n",
    "- With a non-technical audience in mind, explain the precision-recall tradeoff in regard to how you have optimized your model.\n",
    "\n",
    "- What are some areas of improvement for future iterations?"
   ]
  },
  {
   "cell_type": "code",
   "execution_count": null,
   "metadata": {},
   "outputs": [],
   "source": [
    "from sklearn.metrics import brier_score_loss, accuracy_score, f1_score, classification_report, roc_auc_score, roc_curve"
   ]
  },
  {
   "cell_type": "code",
   "execution_count": null,
   "metadata": {
    "scrolled": true
   },
   "outputs": [],
   "source": [
    "f1_score(pred_test_df['label_value'], pred_test_df['score'], average='weighted')"
   ]
  },
  {
   "cell_type": "code",
   "execution_count": null,
   "metadata": {},
   "outputs": [],
   "source": [
    "roc_auc_score(pred_test_df['label_value'], pred_test_df['score'])"
   ]
  },
  {
   "cell_type": "code",
   "execution_count": null,
   "metadata": {},
   "outputs": [],
   "source": [
    "print(classification_report(pred_test_df['label_value'], pred_test_df['score']))\n"
   ]
  },
  {
   "cell_type": "markdown",
   "metadata": {},
   "source": [
    "# Summary\n",
    "## AUC, F1, precision and recall\n",
    "### 1- ROC AUC\n",
    "the ROC AUC relations is used to compare different algorithm performance depending on calculating the area under the curve of the AUC plot.As long as this area increases, this means that the algorithm is performing better and that the TPR and FPR both are better in one algorithm than another. \n",
    "The result in our case = 0.7262468962506119. If another architecture of the model was tried and this number increased. this gives an indication that the new model is doing better.\n",
    "\n",
    "### 1- F1 Score \n",
    "the overall F1 score =0.75 which gives an overall bet the average precision and recall of each class and the more this value is near one, this gives an indication that the model performance is getting better.\n",
    "### 2- Class Precision, Recall\n",
    "from the results, the overall Precision = 0.75 and the overall recall = 0.75, this means that over the model classes the FP=FN.\n",
    "class 0: the result of the precision = 0.79 and the recall=0.84 meaning that the FP is slightly higher than FN in this class\n",
    "class 1: the result of the precision = 0.68 and the recall=0.61 meaning that the FN is slightly higher than FP in this class\n",
    "### non-technical overview\n",
    "because the main goal is to choose patients that can decrease the costs for the company as possible, in this case, it's more important to avoid any False Positive results rather than the False Negatives, this means that if the model it's better for the model to predict that higher percentage of the patient will require more costs rather than predicting more people will require lower costs compared to the real values.\n",
    "As a result, this means that the recall should be as high as possible and is more important than the precision\n",
    "### future improvements\n",
    "for future improvements, there is many parts that can be optimized to give better results like\n",
    "1 - VariationalGaussianProcess layer can be added instead of the normal distribution layer in the model, this can give us a better probability for the mean and standard deviation increasing the overall performance of the model\n",
    "2- the architecture of the model can be improved by looking to more architectures that have been built by the community for a similar problem\n",
    "3- batch_normalization can be added to increase the speed, accuracy in the training process\n",
    "4- trying to reduce the unnecessary numerical, categorical features as possible can lead to increasing the performance of the model\n"
   ]
  },
  {
   "cell_type": "markdown",
   "metadata": {},
   "source": [
    "# 7. Evaluating Potential Model Biases with Aequitas Toolkit"
   ]
  },
  {
   "cell_type": "markdown",
   "metadata": {},
   "source": [
    "## Prepare Data For Aequitas Bias Toolkit "
   ]
  },
  {
   "cell_type": "markdown",
   "metadata": {},
   "source": [
    "Using the gender and race fields, we will prepare the data for the Aequitas Toolkit."
   ]
  },
  {
   "cell_type": "code",
   "execution_count": null,
   "metadata": {
    "scrolled": true
   },
   "outputs": [],
   "source": [
    "# Aequitas\n",
    "from aequitas.preprocessing import preprocess_input_df\n",
    "from aequitas.group import Group\n",
    "from aequitas.plotting import Plot\n",
    "from aequitas.bias import Bias\n",
    "from aequitas.fairness import Fairness\n",
    "\n",
    "ae_subset_df = pred_test_df[['race', 'gender', 'score', 'label_value']]\n",
    "ae_df, _ = preprocess_input_df(ae_subset_df)\n",
    "g = Group()\n",
    "xtab, _ = g.get_crosstabs(ae_df)\n",
    "absolute_metrics = g.list_absolute_metrics(xtab)\n",
    "clean_xtab = xtab.fillna(-1)\n",
    "aqp = Plot()\n",
    "b = Bias()\n"
   ]
  },
  {
   "cell_type": "code",
   "execution_count": null,
   "metadata": {},
   "outputs": [],
   "source": [
    "p = aqp.plot_group_metric_all(xtab, metrics=['tpr', 'fpr', 'pprev', 'fnr'], ncols=1)"
   ]
  },
  {
   "cell_type": "markdown",
   "metadata": {},
   "source": [
    "## Reference Group Selection"
   ]
  },
  {
   "cell_type": "markdown",
   "metadata": {},
   "source": [
    "Below we have chosen the reference group for our analysis but feel free to select another one."
   ]
  },
  {
   "cell_type": "code",
   "execution_count": null,
   "metadata": {},
   "outputs": [],
   "source": [
    "# test reference group with Caucasian Male\n",
    "bdf = b.get_disparity_predefined_groups(clean_xtab, \n",
    "                    original_df=ae_df, \n",
    "                    ref_groups_dict={'race':'Caucasian', 'gender':'Male'\n",
    "                                     }, \n",
    "                    alpha=0.05, \n",
    "                    check_significance=False)\n",
    "\n",
    "\n",
    "f = Fairness()\n",
    "fdf = f.get_group_value_fairness(bdf)"
   ]
  },
  {
   "cell_type": "markdown",
   "metadata": {},
   "source": [
    "## Race and Gender Bias Analysis for Patient Selection"
   ]
  },
  {
   "cell_type": "markdown",
   "metadata": {},
   "source": [
    "**Question 12**: For the gender and race fields, please plot two metrics that are important for patient selection below and state whether there is a significant bias in your model across any of the groups along with justification for your statement."
   ]
  },
  {
   "cell_type": "code",
   "execution_count": null,
   "metadata": {},
   "outputs": [],
   "source": [
    "# Plot two metrics\n",
    "\n",
    "# Is there significant bias in your model for either race or gender?\n",
    "fpr_disparity = aqp.plot_disparity(bdf, group_metric='fpr_disparity', \n",
    "                                       attribute_name='race')\n"
   ]
  },
  {
   "cell_type": "markdown",
   "metadata": {},
   "source": [
    "### there is no significant bias in race field compared to the reference group"
   ]
  },
  {
   "cell_type": "code",
   "execution_count": null,
   "metadata": {},
   "outputs": [],
   "source": [
    "fpr_disparity = aqp.plot_disparity(bdf, group_metric='fpr_disparity', \n",
    "                                       attribute_name='gender')"
   ]
  },
  {
   "cell_type": "markdown",
   "metadata": {},
   "source": [
    "### there is no significant bias in gender field compared to the reference group too"
   ]
  },
  {
   "cell_type": "markdown",
   "metadata": {},
   "source": [
    "## Fairness Analysis Example - Relative to a Reference Group "
   ]
  },
  {
   "cell_type": "markdown",
   "metadata": {},
   "source": [
    "**Question 13**: Earlier we defined our reference group and then calculated disparity metrics relative to this grouping. Please provide a visualization of the fairness evaluation for this reference group and analyze whether there is disparity."
   ]
  },
  {
   "cell_type": "code",
   "execution_count": null,
   "metadata": {},
   "outputs": [],
   "source": [
    "fpr_fairness = aqp.plot_fairness_group(fdf, group_metric='fpr', title=True)"
   ]
  },
  {
   "cell_type": "markdown",
   "metadata": {},
   "source": [
    "### from the results, the FPR in selected group keys are almost the same. This means that there is no bias in this group"
   ]
  },
  {
   "cell_type": "code",
   "execution_count": null,
   "metadata": {},
   "outputs": [],
   "source": []
  }
 ],
 "metadata": {
  "kernelspec": {
   "display_name": "Python 3",
   "language": "python",
   "name": "python3"
  },
  "language_info": {
   "codemirror_mode": {
    "name": "ipython",
    "version": 3
   },
   "file_extension": ".py",
   "mimetype": "text/x-python",
   "name": "python",
   "nbconvert_exporter": "python",
   "pygments_lexer": "ipython3",
   "version": "3.7.6"
  }
 },
 "nbformat": 4,
 "nbformat_minor": 2
}
